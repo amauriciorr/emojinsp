{
  "nbformat": 4,
  "nbformat_minor": 0,
  "metadata": {
    "colab": {
      "name": "logistic_regression_error_analysis.ipynb",
      "provenance": [],
      "collapsed_sections": [
        "NNWwwg_V8BV6",
        "DtuXsHxF8hgO",
        "sLkaHBPAioHf"
      ],
      "toc_visible": true
    },
    "kernelspec": {
      "name": "python3",
      "display_name": "Python 3"
    },
    "language_info": {
      "name": "python"
    }
  },
  "cells": [
    {
      "cell_type": "code",
      "metadata": {
        "colab": {
          "base_uri": "https://localhost:8080/"
        },
        "id": "_6omA1Kcjev_",
        "outputId": "082a6400-35bc-4e11-d6b2-18de70340bd3"
      },
      "source": [
        "from google.colab import drive\n",
        "drive.mount('/content/drive')"
      ],
      "execution_count": null,
      "outputs": [
        {
          "output_type": "stream",
          "text": [
            "Mounted at /content/drive\n"
          ],
          "name": "stdout"
        }
      ]
    },
    {
      "cell_type": "code",
      "metadata": {
        "colab": {
          "base_uri": "https://localhost:8080/"
        },
        "id": "gn_hEojLp9XH",
        "outputId": "69b535c9-9cbd-4588-e124-187f88063fc6"
      },
      "source": [
        "import gensim.models as gsm\n",
        "import gensim.downloader\n",
        "import pandas as pd\n",
        "import time\n",
        "import string\n",
        "import nltk\n",
        "nltk.download('punkt')\n",
        "import numpy as np\n",
        "import pickle\n",
        "from sklearn.feature_extraction.text import CountVectorizer\n",
        "from sklearn.feature_extraction.text import TfidfVectorizer\n",
        "from gensim.models import Word2Vec\n",
        "import matplotlib.pyplot as plt"
      ],
      "execution_count": null,
      "outputs": [
        {
          "output_type": "stream",
          "text": [
            "[nltk_data] Downloading package punkt to /root/nltk_data...\n",
            "[nltk_data]   Unzipping tokenizers/punkt.zip.\n"
          ],
          "name": "stdout"
        }
      ]
    },
    {
      "cell_type": "markdown",
      "metadata": {
        "id": "U_owdfNn0ar6"
      },
      "source": [
        "## Load Data - Full Data"
      ]
    },
    {
      "cell_type": "markdown",
      "metadata": {
        "id": "mj33_TE_P9Kf"
      },
      "source": [
        "### Raw Data"
      ]
    },
    {
      "cell_type": "code",
      "metadata": {
        "id": "gjw34dNoqAQw"
      },
      "source": [
        "df_train = pd.read_csv('/content/drive/MyDrive/2021_NLU/data/full_data/emoji_nsp_dataset_train.csv')\n",
        "df_val = pd.read_csv('/content/drive/MyDrive/2021_NLU/data/full_data/emoji_nsp_dataset_valid.csv')\n",
        "df_test = pd.read_csv('/content/drive/MyDrive/2021_NLU/data/full_data/emoji_nsp_dataset_test.csv')"
      ],
      "execution_count": null,
      "outputs": []
    },
    {
      "cell_type": "code",
      "metadata": {
        "colab": {
          "base_uri": "https://localhost:8080/",
          "height": 204
        },
        "id": "1TAAIGd9rBi_",
        "outputId": "399f4e8f-6e22-4d93-8cad-9630fae59f5b"
      },
      "source": [
        "df_train.head()"
      ],
      "execution_count": null,
      "outputs": [
        {
          "output_type": "execute_result",
          "data": {
            "text/html": [
              "<div>\n",
              "<style scoped>\n",
              "    .dataframe tbody tr th:only-of-type {\n",
              "        vertical-align: middle;\n",
              "    }\n",
              "\n",
              "    .dataframe tbody tr th {\n",
              "        vertical-align: top;\n",
              "    }\n",
              "\n",
              "    .dataframe thead th {\n",
              "        text-align: right;\n",
              "    }\n",
              "</style>\n",
              "<table border=\"1\" class=\"dataframe\">\n",
              "  <thead>\n",
              "    <tr style=\"text-align: right;\">\n",
              "      <th></th>\n",
              "      <th>index</th>\n",
              "      <th>tweets</th>\n",
              "      <th>emoji_sentence</th>\n",
              "      <th>follows?</th>\n",
              "    </tr>\n",
              "  </thead>\n",
              "  <tbody>\n",
              "    <tr>\n",
              "      <th>0</th>\n",
              "      <td>50553</td>\n",
              "      <td>The dababy memes make no sense and that’s why ...</td>\n",
              "      <td>😭</td>\n",
              "      <td>1</td>\n",
              "    </tr>\n",
              "    <tr>\n",
              "      <th>1</th>\n",
              "      <td>74541</td>\n",
              "      <td>a year ago today i would be holding my breath ...</td>\n",
              "      <td>😵</td>\n",
              "      <td>0</td>\n",
              "    </tr>\n",
              "    <tr>\n",
              "      <th>2</th>\n",
              "      <td>50992</td>\n",
              "      <td>I told my mama about how the music industry is...</td>\n",
              "      <td>💯</td>\n",
              "      <td>1</td>\n",
              "    </tr>\n",
              "    <tr>\n",
              "      <th>3</th>\n",
              "      <td>95343</td>\n",
              "      <td>[USER] [USER] Thankyou guys</td>\n",
              "      <td>💯</td>\n",
              "      <td>0</td>\n",
              "    </tr>\n",
              "    <tr>\n",
              "      <th>4</th>\n",
              "      <td>60555</td>\n",
              "      <td>You want new SUBS? Like ️ Retweet Follow me  R...</td>\n",
              "      <td>😂😂</td>\n",
              "      <td>0</td>\n",
              "    </tr>\n",
              "  </tbody>\n",
              "</table>\n",
              "</div>"
            ],
            "text/plain": [
              "   index  ... follows?\n",
              "0  50553  ...        1\n",
              "1  74541  ...        0\n",
              "2  50992  ...        1\n",
              "3  95343  ...        0\n",
              "4  60555  ...        0\n",
              "\n",
              "[5 rows x 4 columns]"
            ]
          },
          "metadata": {
            "tags": []
          },
          "execution_count": 14
        }
      ]
    },
    {
      "cell_type": "code",
      "metadata": {
        "colab": {
          "base_uri": "https://localhost:8080/"
        },
        "id": "wCl9_bZvrsQm",
        "outputId": "b1a991b0-d9c2-4283-d61e-2b61993b3a92"
      },
      "source": [
        "df_train.count()"
      ],
      "execution_count": null,
      "outputs": [
        {
          "output_type": "execute_result",
          "data": {
            "text/plain": [
              "index             15540\n",
              "tweets            15540\n",
              "emoji_sentence    15540\n",
              "follows?          15540\n",
              "dtype: int64"
            ]
          },
          "metadata": {
            "tags": []
          },
          "execution_count": 7
        }
      ]
    },
    {
      "cell_type": "markdown",
      "metadata": {
        "id": "rhFYPLWu8HNA"
      },
      "source": [
        "### Load Tokens"
      ]
    },
    {
      "cell_type": "code",
      "metadata": {
        "id": "4lIVgsadxKLA"
      },
      "source": [
        "with open('/content/drive/MyDrive/2021_NLU/data/full_data/full_data.pkl', 'rb') as f:  \n",
        "    x_train_tokenized, x_train_normal, x_val_tokenized, x_val_normal, x_test_tokenized, x_test_normal, empty_indices_train, x_train_tokenized_2, \\\n",
        "                 x_train_normal_2, empty_indices_val, x_val_tokenized_2, x_val_normal_2, y_train, y_val, y_train_2, y_val_2, y_test, y_test_2,\\\n",
        "                 empty_indices_test, x_test_normal_2, x_test_tokenized_2 = pickle.load(f)"
      ],
      "execution_count": null,
      "outputs": []
    },
    {
      "cell_type": "code",
      "metadata": {
        "colab": {
          "base_uri": "https://localhost:8080/"
        },
        "id": "Yc1JhRi9i1iF",
        "outputId": "27a45dff-24db-4c07-ba2e-e512484b7e84"
      },
      "source": [
        "df_test['tokenized_tweets'] = x_test_tokenized\n",
        "df_test['tokenized_len'] = df_test['tokenized_tweets'].apply(lambda x: len(x))\n",
        "print(df_test['tokenized_len'].mean())\n",
        "print(df_test['tokenized_len'].median())"
      ],
      "execution_count": null,
      "outputs": [
        {
          "output_type": "stream",
          "text": [
            "14.242000901306895\n",
            "10.0\n"
          ],
          "name": "stdout"
        }
      ]
    },
    {
      "cell_type": "markdown",
      "metadata": {
        "id": "ftrgTt0h8Z7R"
      },
      "source": [
        "### Load Vectors"
      ]
    },
    {
      "cell_type": "code",
      "metadata": {
        "id": "dwUDi7-OzlhL"
      },
      "source": [
        "#AVERAGE VECTORS\n",
        "with open('/content/drive/MyDrive/2021_NLU/data/full_data/full_vec.pkl', 'rb') as f:  \n",
        "    X_train_vec, X_val_vec, X_test_vec = pickle.load(f)"
      ],
      "execution_count": null,
      "outputs": []
    },
    {
      "cell_type": "code",
      "metadata": {
        "id": "rpYchOBhhuIX"
      },
      "source": [
        "#CONCATENATED VECTORS\n",
        "with open('/content/drive/MyDrive/2021_NLU/data/full_data/full_vec.pkl', 'rb') as f:  \n",
        "    X_train_vec_concat, X_val_vec_concat, X_test_vec_concat = pickle.load(f)"
      ],
      "execution_count": null,
      "outputs": []
    },
    {
      "cell_type": "markdown",
      "metadata": {
        "id": "4Ons1B4P1EqR"
      },
      "source": [
        "## Load Data FULL DATA (SINGLE AND MULTI) WITH NO REPEATS "
      ]
    },
    {
      "cell_type": "markdown",
      "metadata": {
        "id": "DphChsjDRZcK"
      },
      "source": [
        "### Raw Data"
      ]
    },
    {
      "cell_type": "code",
      "metadata": {
        "id": "9A7rZZzF1KPy"
      },
      "source": [
        "df_mul_train = pd.read_csv('/content/drive/MyDrive/2021_NLU/data/no_repeats/emoji_nsp_dataset_no_repeats_train.csv')\n",
        "df_mul_val = pd.read_csv('/content/drive/MyDrive/2021_NLU/data/no_repeats/emoji_nsp_dataset_no_repeats_valid.csv')\n",
        "df_mul_test = pd.read_csv('/content/drive/MyDrive/2021_NLU/data/no_repeats/emoji_nsp_dataset_no_repeats_test.csv')"
      ],
      "execution_count": null,
      "outputs": []
    },
    {
      "cell_type": "code",
      "metadata": {
        "colab": {
          "base_uri": "https://localhost:8080/",
          "height": 204
        },
        "id": "dGECt3HO1Kfk",
        "outputId": "8e8aada5-9edf-46fb-dce3-26e0d13808e6"
      },
      "source": [
        "df_mul_train.head()"
      ],
      "execution_count": null,
      "outputs": [
        {
          "output_type": "execute_result",
          "data": {
            "text/html": [
              "<div>\n",
              "<style scoped>\n",
              "    .dataframe tbody tr th:only-of-type {\n",
              "        vertical-align: middle;\n",
              "    }\n",
              "\n",
              "    .dataframe tbody tr th {\n",
              "        vertical-align: top;\n",
              "    }\n",
              "\n",
              "    .dataframe thead th {\n",
              "        text-align: right;\n",
              "    }\n",
              "</style>\n",
              "<table border=\"1\" class=\"dataframe\">\n",
              "  <thead>\n",
              "    <tr style=\"text-align: right;\">\n",
              "      <th></th>\n",
              "      <th>index</th>\n",
              "      <th>tweets</th>\n",
              "      <th>emoji_sentence</th>\n",
              "      <th>follows?</th>\n",
              "    </tr>\n",
              "  </thead>\n",
              "  <tbody>\n",
              "    <tr>\n",
              "      <th>0</th>\n",
              "      <td>50553</td>\n",
              "      <td>The dababy memes make no sense and that’s why ...</td>\n",
              "      <td>😭</td>\n",
              "      <td>1</td>\n",
              "    </tr>\n",
              "    <tr>\n",
              "      <th>1</th>\n",
              "      <td>74541</td>\n",
              "      <td>a year ago today i would be holding my breath ...</td>\n",
              "      <td>🙏</td>\n",
              "      <td>0</td>\n",
              "    </tr>\n",
              "    <tr>\n",
              "      <th>2</th>\n",
              "      <td>50992</td>\n",
              "      <td>I told my mama about how the music industry is...</td>\n",
              "      <td>💯</td>\n",
              "      <td>1</td>\n",
              "    </tr>\n",
              "    <tr>\n",
              "      <th>3</th>\n",
              "      <td>95343</td>\n",
              "      <td>[USER] [USER] Thankyou guys</td>\n",
              "      <td>💀</td>\n",
              "      <td>0</td>\n",
              "    </tr>\n",
              "    <tr>\n",
              "      <th>4</th>\n",
              "      <td>60555</td>\n",
              "      <td>You want new SUBS? Like ️ Retweet Follow me  R...</td>\n",
              "      <td>😬</td>\n",
              "      <td>0</td>\n",
              "    </tr>\n",
              "  </tbody>\n",
              "</table>\n",
              "</div>"
            ],
            "text/plain": [
              "   index  ... follows?\n",
              "0  50553  ...        1\n",
              "1  74541  ...        0\n",
              "2  50992  ...        1\n",
              "3  95343  ...        0\n",
              "4  60555  ...        0\n",
              "\n",
              "[5 rows x 4 columns]"
            ]
          },
          "metadata": {
            "tags": []
          },
          "execution_count": 103
        }
      ]
    },
    {
      "cell_type": "markdown",
      "metadata": {
        "id": "ec5WU29RReBN"
      },
      "source": [
        "### Load Tokens"
      ]
    },
    {
      "cell_type": "code",
      "metadata": {
        "id": "dlP3XYPDO5GG"
      },
      "source": [
        "with open('/content/drive/MyDrive/2021_NLU/data/no_repeats/mul_emojis.pkl', 'rb') as f:  \n",
        "    x_train_mul_tokenized, x_train_mul_normal, x_val_mul_tokenized, x_val_mul_normal, x_test_mul_tokenized, x_test_mul_normal, empty_indices_mul_train, x_train_mul_tokenized_2, \\\n",
        "                 x_train_mul_normal_2, empty_indices_mul_val, x_val_mul_tokenized_2, x_val_mul_normal_2, y_mul_train, y_mul_val, y_train_mul_2, y_val_mul_2, y_mul_test, y_test_mul_2,\\\n",
        "                 empty_indices_mul_test, x_test_mul_normal_2, x_test_mul_tokenized_2 = pickle.load(f)"
      ],
      "execution_count": null,
      "outputs": []
    },
    {
      "cell_type": "markdown",
      "metadata": {
        "id": "-Pe5JYUocxfh"
      },
      "source": [
        "### Load Vectors"
      ]
    },
    {
      "cell_type": "code",
      "metadata": {
        "id": "unYdKmdvPRQ9"
      },
      "source": [
        "# AVERAGE VECTORS\n",
        "with open('/content/drive/MyDrive/2021_NLU/data/no_repeats/mul_emojis_vec.pkl', 'rb') as f:  \n",
        "    X_train_mul_vec, X_val_mul_vec, X_test_mul_vec = pickle.load(f)"
      ],
      "execution_count": null,
      "outputs": []
    },
    {
      "cell_type": "code",
      "metadata": {
        "id": "x8YK-WvQc4VI"
      },
      "source": [
        "# CONCATENATED VECTORS\n",
        "with open('/content/drive/MyDrive/2021_NLU/data/no_repeats/mul_emojis_vec.pkl', 'rb') as f:  \n",
        "    X_train_mul_vec_concat, X_val_mul_vec_concat, X_test_mul_vec_concat = pickle.load(f)"
      ],
      "execution_count": null,
      "outputs": []
    },
    {
      "cell_type": "markdown",
      "metadata": {
        "id": "AI-zJq7rPXl5"
      },
      "source": [
        "## LogisticRegression Model"
      ]
    },
    {
      "cell_type": "code",
      "metadata": {
        "id": "TIjbDVtyngjP"
      },
      "source": [
        "from sklearn.metrics import f1_score, accuracy_score, confusion_matrix\n",
        "from sklearn.metrics import make_scorer\n",
        "from sklearn.linear_model import LogisticRegression\n",
        "from sklearn.model_selection import GridSearchCV, RandomizedSearchCV\n",
        "\n",
        "def metric(y_true, y_pred):\n",
        "    return f1_score(y_true, y_pred, average='weighted')\n",
        "\n",
        "my_scorer = make_scorer(metric, greater_is_better=True)"
      ],
      "execution_count": null,
      "outputs": []
    },
    {
      "cell_type": "code",
      "metadata": {
        "id": "8FWaT4WfnoD1"
      },
      "source": [
        "def run_model(model, X_train, y_train, X_val, y_val):\n",
        "  print('     ## Fitting')\n",
        "  model.fit(X_train, y_train)\n",
        "  print('     ## Predicting')\n",
        "  preds = model.predict(X_val)\n",
        "  print(' ## F1 Score (weighted) is -', f1_score(y_val, preds, average='weighted'))\n",
        "  print(' ## Accuracy is -', accuracy_score(y_val, preds))\n",
        "  print('      ')\n",
        "  print('               Confusion Matrix')\n",
        "  print(confusion_matrix(y_val, preds))"
      ],
      "execution_count": null,
      "outputs": []
    },
    {
      "cell_type": "code",
      "metadata": {
        "id": "wD7i47THCe55"
      },
      "source": [
        "lr = LogisticRegression()"
      ],
      "execution_count": null,
      "outputs": []
    },
    {
      "cell_type": "code",
      "metadata": {
        "id": "0nQWK7vPNmt2"
      },
      "source": [
        "def run_model_gridsearch_lr(model, X_train, y_train, X_val, y_val):\n",
        "  \n",
        "  cv=5\n",
        "  parameters = {'C': np.logspace(0, 4, 10),'penalty': ['l1', 'l2']}\n",
        "  clf = GridSearchCV(model, parameters, cv=cv, n_jobs=-1, scoring=my_scorer, verbose=0)\n",
        "  print(' ## Fitting GridSearch')\n",
        "  clf.fit(X_train, y_train)\n",
        "\n",
        "  print(\"tuned hpyerparameters :(best parameters) \",clf.best_params_)\n",
        "  print(\"score :\",clf.best_score_)"
      ],
      "execution_count": null,
      "outputs": []
    },
    {
      "cell_type": "code",
      "metadata": {
        "id": "qBDZOzkEVmZ6"
      },
      "source": [
        "def scores(y_val, preds):\n",
        "  print(' ## F1 Score (weighted) is -', f1_score(y_val, preds, average='weighted'))\n",
        "  print(' ## Accuracy is -', accuracy_score(y_val, preds))\n",
        "  print('      ')\n",
        "  print('               Confusion Matrix')\n",
        "  print(confusion_matrix(y_val, preds))"
      ],
      "execution_count": null,
      "outputs": []
    },
    {
      "cell_type": "code",
      "metadata": {
        "id": "JNMXorfACy5N"
      },
      "source": [
        ""
      ],
      "execution_count": null,
      "outputs": []
    },
    {
      "cell_type": "markdown",
      "metadata": {
        "id": "H8REJot7IyKF"
      },
      "source": [
        "###**LR with FULL DATA**"
      ]
    },
    {
      "cell_type": "markdown",
      "metadata": {
        "id": "DCAa_Nu8ibFJ"
      },
      "source": [
        "#### With Averaged Vectors"
      ]
    },
    {
      "cell_type": "code",
      "metadata": {
        "colab": {
          "base_uri": "https://localhost:8080/"
        },
        "id": "8b4hCXxbB_-1",
        "outputId": "dffda13a-53af-4612-c9b5-2e952a7fa075"
      },
      "source": [
        "# BASELINE\n",
        "run_model(lr, X_train_vec, y_train, X_val_vec, y_val)"
      ],
      "execution_count": null,
      "outputs": [
        {
          "output_type": "stream",
          "text": [
            "     ## Fitting\n",
            "     ## Predicting\n",
            " ## F1 Score (weighted) is - 0.5179993984471877\n",
            " ## Accuracy is - 0.517962710322874\n",
            "      \n",
            "               Confusion Matrix\n",
            "[[558 522]\n",
            " [538 581]]\n"
          ],
          "name": "stdout"
        }
      ]
    },
    {
      "cell_type": "code",
      "metadata": {
        "colab": {
          "base_uri": "https://localhost:8080/"
        },
        "id": "fcmFPx_-ydzC",
        "outputId": "45bea908-1241-401b-e66d-47a6b10904b6"
      },
      "source": [
        "run_model_gridsearch_lr(lr, X_train_vec, y_train, X_val_vec, y_val)"
      ],
      "execution_count": null,
      "outputs": [
        {
          "output_type": "stream",
          "text": [
            " ## Fitting GridSearch\n",
            "tuned hpyerparameters :(best parameters)  {'C': 3593.813663804626, 'penalty': 'l2'}\n",
            "score : 0.515086937552015\n"
          ],
          "name": "stdout"
        },
        {
          "output_type": "stream",
          "text": [
            "/usr/local/lib/python3.7/dist-packages/sklearn/linear_model/_logistic.py:940: ConvergenceWarning: lbfgs failed to converge (status=1):\n",
            "STOP: TOTAL NO. of ITERATIONS REACHED LIMIT.\n",
            "\n",
            "Increase the number of iterations (max_iter) or scale the data as shown in:\n",
            "    https://scikit-learn.org/stable/modules/preprocessing.html\n",
            "Please also refer to the documentation for alternative solver options:\n",
            "    https://scikit-learn.org/stable/modules/linear_model.html#logistic-regression\n",
            "  extra_warning_msg=_LOGISTIC_SOLVER_CONVERGENCE_MSG)\n"
          ],
          "name": "stderr"
        }
      ]
    },
    {
      "cell_type": "code",
      "metadata": {
        "colab": {
          "base_uri": "https://localhost:8080/"
        },
        "id": "g-tEwZYpyuwG",
        "outputId": "905e9fce-a889-4ee4-942e-4720dd3860a8"
      },
      "source": [
        "# FINESUNED \n",
        "best_lr_full = LogisticRegression(penalty = 'l2', C = 3593.813663804626)\n",
        "run_model(best_lr_full, X_train_vec, y_train, X_val_vec, y_val)"
      ],
      "execution_count": null,
      "outputs": [
        {
          "output_type": "stream",
          "text": [
            "     ## Fitting\n",
            "     ## Predicting\n",
            " ## F1 Score (weighted) is - 0.5197692060167853\n",
            " ## Accuracy is - 0.519781718963165\n",
            "      \n",
            "               Confusion Matrix\n",
            "[[573 507]\n",
            " [549 570]]\n"
          ],
          "name": "stdout"
        },
        {
          "output_type": "stream",
          "text": [
            "/usr/local/lib/python3.7/dist-packages/sklearn/linear_model/_logistic.py:940: ConvergenceWarning: lbfgs failed to converge (status=1):\n",
            "STOP: TOTAL NO. of ITERATIONS REACHED LIMIT.\n",
            "\n",
            "Increase the number of iterations (max_iter) or scale the data as shown in:\n",
            "    https://scikit-learn.org/stable/modules/preprocessing.html\n",
            "Please also refer to the documentation for alternative solver options:\n",
            "    https://scikit-learn.org/stable/modules/linear_model.html#logistic-regression\n",
            "  extra_warning_msg=_LOGISTIC_SOLVER_CONVERGENCE_MSG)\n"
          ],
          "name": "stderr"
        }
      ]
    },
    {
      "cell_type": "markdown",
      "metadata": {
        "id": "ZhNBPqZAdcAm"
      },
      "source": [
        "**PREDICTION ON TEST (w Avg Vectors)**"
      ]
    },
    {
      "cell_type": "code",
      "metadata": {
        "colab": {
          "base_uri": "https://localhost:8080/"
        },
        "id": "KLEgDzghxkC9",
        "outputId": "b91023c9-614e-419d-d984-b24098581369"
      },
      "source": [
        "#BASELINE RESULT\n",
        "pred_lr_full_base = lr.predict(X_test_vec)\n",
        "pred_lr_full_prob_base = lr.predict_proba(X_test_vec)\n",
        "scores(y_test, pred_lr_full_base)"
      ],
      "execution_count": null,
      "outputs": [
        {
          "output_type": "stream",
          "text": [
            " ## F1 Score (weighted) is - 0.5173889777206634\n",
            " ## Accuracy is - 0.5173501577287066\n",
            "      \n",
            "               Confusion Matrix\n",
            "[[1170 1089]\n",
            " [1053 1126]]\n"
          ],
          "name": "stdout"
        }
      ]
    },
    {
      "cell_type": "code",
      "metadata": {
        "colab": {
          "base_uri": "https://localhost:8080/"
        },
        "id": "A9zBdLT-ddh9",
        "outputId": "7529bf67-5b4b-46b7-ef2a-082506183177"
      },
      "source": [
        "#FINETUNED RESULT\n",
        "pred_lr_full = best_lr_full.predict(X_test_vec)\n",
        "pred_lr_full_prob = best_lr_full.predict_proba(X_test_vec)\n",
        "scores(y_test, pred_lr_full)"
      ],
      "execution_count": null,
      "outputs": [
        {
          "output_type": "stream",
          "text": [
            " ## F1 Score (weighted) is - 0.5245992385409034\n",
            " ## Accuracy is - 0.5245606128886886\n",
            "      \n",
            "               Confusion Matrix\n",
            "[[1184 1075]\n",
            " [1035 1144]]\n"
          ],
          "name": "stdout"
        }
      ]
    },
    {
      "cell_type": "code",
      "metadata": {
        "colab": {
          "base_uri": "https://localhost:8080/"
        },
        "id": "FAqvlY2teoUG",
        "outputId": "aa2b33ee-cdaf-4b59-edc9-c945bca6e43b"
      },
      "source": [
        "pred_lr_full_prob #[prob for class0, prob for class1]"
      ],
      "execution_count": null,
      "outputs": [
        {
          "output_type": "execute_result",
          "data": {
            "text/plain": [
              "array([[0.45513382, 0.54486618],\n",
              "       [0.4308906 , 0.5691094 ],\n",
              "       [0.37023349, 0.62976651],\n",
              "       ...,\n",
              "       [0.50978928, 0.49021072],\n",
              "       [0.5311429 , 0.4688571 ],\n",
              "       [0.40109193, 0.59890807]])"
            ]
          },
          "metadata": {
            "tags": []
          },
          "execution_count": 125
        }
      ]
    },
    {
      "cell_type": "markdown",
      "metadata": {
        "id": "sLkaHBPAioHf"
      },
      "source": [
        "#### With Concantenated Vectors"
      ]
    },
    {
      "cell_type": "code",
      "metadata": {
        "colab": {
          "base_uri": "https://localhost:8080/"
        },
        "id": "NgcuWGXQitTR",
        "outputId": "0a41099e-b931-46a8-dc5e-3c73691c27be"
      },
      "source": [
        "#BASELINE\n",
        "run_model(lr, X_train_vec_concat, y_train, X_val_vec_concat, y_val)"
      ],
      "execution_count": null,
      "outputs": [
        {
          "output_type": "stream",
          "text": [
            "     ## Fitting\n",
            "     ## Predicting\n",
            " ## F1 Score (weighted) is - 0.5179993984471877\n",
            " ## Accuracy is - 0.517962710322874\n",
            "      \n",
            "               Confusion Matrix\n",
            "[[558 522]\n",
            " [538 581]]\n"
          ],
          "name": "stdout"
        }
      ]
    },
    {
      "cell_type": "code",
      "metadata": {
        "colab": {
          "base_uri": "https://localhost:8080/"
        },
        "id": "9c94Zon6itWo",
        "outputId": "c95b7425-5447-4ddd-da23-d9a6de3dd0bb"
      },
      "source": [
        "run_model_gridsearch_lr(lr, X_train_vec_concat, y_train, X_val_vec_concat, y_val)"
      ],
      "execution_count": null,
      "outputs": [
        {
          "output_type": "stream",
          "text": [
            " ## Fitting GridSearch\n",
            "tuned hpyerparameters :(best parameters)  {'C': 2.7825594022071245, 'penalty': 'l2'}\n",
            "score : 0.5128374049413716\n"
          ],
          "name": "stdout"
        },
        {
          "output_type": "stream",
          "text": [
            "/usr/local/lib/python3.7/dist-packages/sklearn/linear_model/_logistic.py:940: ConvergenceWarning: lbfgs failed to converge (status=1):\n",
            "STOP: TOTAL NO. of ITERATIONS REACHED LIMIT.\n",
            "\n",
            "Increase the number of iterations (max_iter) or scale the data as shown in:\n",
            "    https://scikit-learn.org/stable/modules/preprocessing.html\n",
            "Please also refer to the documentation for alternative solver options:\n",
            "    https://scikit-learn.org/stable/modules/linear_model.html#logistic-regression\n",
            "  extra_warning_msg=_LOGISTIC_SOLVER_CONVERGENCE_MSG)\n"
          ],
          "name": "stderr"
        }
      ]
    },
    {
      "cell_type": "code",
      "metadata": {
        "colab": {
          "base_uri": "https://localhost:8080/"
        },
        "id": "8M9B0C7Sitac",
        "outputId": "9af127cf-3785-41af-8399-36e54b1c5b1b"
      },
      "source": [
        "#FINETUNED\n",
        "best_lr_full_concat = LogisticRegression(penalty = 'l2', C = 2.7825594022071245)\n",
        "run_model(best_lr_full_concat, X_train_vec_concat, y_train, X_val_vec_concat, y_val)"
      ],
      "execution_count": null,
      "outputs": [
        {
          "output_type": "stream",
          "text": [
            "     ## Fitting\n",
            "     ## Predicting\n",
            " ## F1 Score (weighted) is - 0.5178031935717086\n",
            " ## Accuracy is - 0.517962710322874\n",
            "      \n",
            "               Confusion Matrix\n",
            "[[582 498]\n",
            " [562 557]]\n"
          ],
          "name": "stdout"
        },
        {
          "output_type": "stream",
          "text": [
            "/usr/local/lib/python3.7/dist-packages/sklearn/linear_model/_logistic.py:940: ConvergenceWarning: lbfgs failed to converge (status=1):\n",
            "STOP: TOTAL NO. of ITERATIONS REACHED LIMIT.\n",
            "\n",
            "Increase the number of iterations (max_iter) or scale the data as shown in:\n",
            "    https://scikit-learn.org/stable/modules/preprocessing.html\n",
            "Please also refer to the documentation for alternative solver options:\n",
            "    https://scikit-learn.org/stable/modules/linear_model.html#logistic-regression\n",
            "  extra_warning_msg=_LOGISTIC_SOLVER_CONVERGENCE_MSG)\n"
          ],
          "name": "stderr"
        }
      ]
    },
    {
      "cell_type": "code",
      "metadata": {
        "id": "AJgMSkMCSNR4"
      },
      "source": [
        ""
      ],
      "execution_count": null,
      "outputs": []
    },
    {
      "cell_type": "markdown",
      "metadata": {
        "id": "_oNXjcrakG3g"
      },
      "source": [
        "##**ERROR ANALYSIS FOR BEST RESULTS (FULL DATA w Avg Vectors)**"
      ]
    },
    {
      "cell_type": "code",
      "metadata": {
        "id": "DAnP2Ac8kPsz"
      },
      "source": [
        "def evaluate_incorrect(y_test, preds, input_df, preds_prob):\n",
        "  df_test = input_df.copy()\n",
        "  df_test['prob_zero'] = preds_prob[:, 0]\n",
        "  print(df_test.shape)\n",
        "  eval_incorrect = df_test.index[y_test != preds]\n",
        "\n",
        "  output_incorrect = df_test[df_test.index.isin(eval_incorrect)]\n",
        "  # print(eval)\n",
        "  # print(eval.shape)\n",
        "  # print(y_test != preds)\n",
        "  # print(y_test == preds)\n",
        "\n",
        "  return output_incorrect"
      ],
      "execution_count": null,
      "outputs": []
    },
    {
      "cell_type": "code",
      "metadata": {
        "id": "VM2Nl5jjkPv4"
      },
      "source": [
        "def evaluate_correct(y_test, preds, input_df, preds_prob):\n",
        "  df_test = input_df.copy()\n",
        "  df_test['prob_zero'] = preds_prob[:, 0]\n",
        "  print(df_test.shape)\n",
        "\n",
        "  eval_correct = df_test.index[y_test == preds]\n",
        "  output_correct = df_test[df_test.index.isin(eval_correct)]\n",
        "  # print(eval)\n",
        "  # print(eval.shape)\n",
        "  # print(y_test != preds)\n",
        "  # print(y_test == preds)\n",
        "\n",
        "  return output_correct"
      ],
      "execution_count": null,
      "outputs": []
    },
    {
      "cell_type": "code",
      "metadata": {
        "id": "gngE_j3dOK38"
      },
      "source": [
        "best_lr_full = LogisticRegression(penalty = 'l2', C = 3593.813663804626)\n",
        "run_model(best_lr_full, X_train_vec, y_train, X_val_vec, y_val)"
      ],
      "execution_count": null,
      "outputs": []
    },
    {
      "cell_type": "code",
      "metadata": {
        "colab": {
          "base_uri": "https://localhost:8080/"
        },
        "id": "P0hU2HXRNglB",
        "outputId": "58287bee-dff2-4e1f-a0b1-eb72554bcd26"
      },
      "source": [
        "best_lr_full.predict_proba"
      ],
      "execution_count": null,
      "outputs": [
        {
          "output_type": "execute_result",
          "data": {
            "text/plain": [
              "<bound method LogisticRegression.predict_proba of LogisticRegression(C=3593.813663804626, class_weight=None, dual=False,\n",
              "                   fit_intercept=True, intercept_scaling=1, l1_ratio=None,\n",
              "                   max_iter=100, multi_class='auto', n_jobs=None, penalty='l2',\n",
              "                   random_state=None, solver='lbfgs', tol=0.0001, verbose=0,\n",
              "                   warm_start=False)>"
            ]
          },
          "metadata": {
            "tags": []
          },
          "execution_count": 21
        }
      ]
    },
    {
      "cell_type": "code",
      "metadata": {
        "id": "9Ru6C2e-NyRz"
      },
      "source": [
        "pred_lr_full_prob = best_lr_full.predict_proba(X_test_vec)"
      ],
      "execution_count": null,
      "outputs": []
    },
    {
      "cell_type": "code",
      "metadata": {
        "colab": {
          "base_uri": "https://localhost:8080/"
        },
        "id": "RF812jzVkPzS",
        "outputId": "60a88b72-3a36-4b0f-d329-11b263f90c71"
      },
      "source": [
        "pred_lr_full_prob[:, 0]"
      ],
      "execution_count": null,
      "outputs": [
        {
          "output_type": "execute_result",
          "data": {
            "text/plain": [
              "array([0.45513382, 0.4308906 , 0.37023349, ..., 0.50978928, 0.5311429 ,\n",
              "       0.40109193])"
            ]
          },
          "metadata": {
            "tags": []
          },
          "execution_count": 30
        }
      ]
    },
    {
      "cell_type": "code",
      "metadata": {
        "colab": {
          "base_uri": "https://localhost:8080/",
          "height": 436
        },
        "id": "cXxG2aCUNxcR",
        "outputId": "8b58dc89-1b3c-4b19-8547-5cbf64f2d104"
      },
      "source": [
        "output_incorrect = evaluate_incorrect(y_test, pred_lr_full, df_test, pred_lr_full_prob)\n",
        "output_incorrect"
      ],
      "execution_count": null,
      "outputs": [
        {
          "output_type": "stream",
          "text": [
            "(4438, 5)\n"
          ],
          "name": "stdout"
        },
        {
          "output_type": "execute_result",
          "data": {
            "text/html": [
              "<div>\n",
              "<style scoped>\n",
              "    .dataframe tbody tr th:only-of-type {\n",
              "        vertical-align: middle;\n",
              "    }\n",
              "\n",
              "    .dataframe tbody tr th {\n",
              "        vertical-align: top;\n",
              "    }\n",
              "\n",
              "    .dataframe thead th {\n",
              "        text-align: right;\n",
              "    }\n",
              "</style>\n",
              "<table border=\"1\" class=\"dataframe\">\n",
              "  <thead>\n",
              "    <tr style=\"text-align: right;\">\n",
              "      <th></th>\n",
              "      <th>index</th>\n",
              "      <th>tweets</th>\n",
              "      <th>emoji_sentence</th>\n",
              "      <th>follows?</th>\n",
              "      <th>prob_zero</th>\n",
              "    </tr>\n",
              "  </thead>\n",
              "  <tbody>\n",
              "    <tr>\n",
              "      <th>0</th>\n",
              "      <td>77593</td>\n",
              "      <td>You’re just so beautiful</td>\n",
              "      <td>💀</td>\n",
              "      <td>0</td>\n",
              "      <td>0.455134</td>\n",
              "    </tr>\n",
              "    <tr>\n",
              "      <th>3</th>\n",
              "      <td>40054</td>\n",
              "      <td>Want to tease someone until they cry</td>\n",
              "      <td>😢</td>\n",
              "      <td>1</td>\n",
              "      <td>0.553649</td>\n",
              "    </tr>\n",
              "    <tr>\n",
              "      <th>4</th>\n",
              "      <td>32019</td>\n",
              "      <td>I’ll figure this out. I always do and I always...</td>\n",
              "      <td>😤</td>\n",
              "      <td>1</td>\n",
              "      <td>0.569586</td>\n",
              "    </tr>\n",
              "    <tr>\n",
              "      <th>6</th>\n",
              "      <td>3979</td>\n",
              "      <td>[USER] [USER] Underrated tweet.</td>\n",
              "      <td>👍🏼</td>\n",
              "      <td>1</td>\n",
              "      <td>0.519481</td>\n",
              "    </tr>\n",
              "    <tr>\n",
              "      <th>7</th>\n",
              "      <td>35360</td>\n",
              "      <td>[USER] Can you do body rolls too?</td>\n",
              "      <td>🧐</td>\n",
              "      <td>1</td>\n",
              "      <td>0.521023</td>\n",
              "    </tr>\n",
              "    <tr>\n",
              "      <th>...</th>\n",
              "      <td>...</td>\n",
              "      <td>...</td>\n",
              "      <td>...</td>\n",
              "      <td>...</td>\n",
              "      <td>...</td>\n",
              "    </tr>\n",
              "    <tr>\n",
              "      <th>4429</th>\n",
              "      <td>23112</td>\n",
              "      <td>[USER] Hitting the Plymouth tomorrow.  If you ...</td>\n",
              "      <td>😁</td>\n",
              "      <td>1</td>\n",
              "      <td>0.568806</td>\n",
              "    </tr>\n",
              "    <tr>\n",
              "      <th>4431</th>\n",
              "      <td>81505</td>\n",
              "      <td>[USER] [USER] I'm sorry for your loss!</td>\n",
              "      <td>😊</td>\n",
              "      <td>0</td>\n",
              "      <td>0.455440</td>\n",
              "    </tr>\n",
              "    <tr>\n",
              "      <th>4432</th>\n",
              "      <td>11677</td>\n",
              "      <td>tmap ep. 38 gave us so much happiness. Today's...</td>\n",
              "      <td>😭</td>\n",
              "      <td>1</td>\n",
              "      <td>0.571603</td>\n",
              "    </tr>\n",
              "    <tr>\n",
              "      <th>4433</th>\n",
              "      <td>14708</td>\n",
              "      <td>Learning to LOVE yourself the RIGHT away it th...</td>\n",
              "      <td>🥰</td>\n",
              "      <td>1</td>\n",
              "      <td>0.583106</td>\n",
              "    </tr>\n",
              "    <tr>\n",
              "      <th>4436</th>\n",
              "      <td>33923</td>\n",
              "      <td>[USER] We downgraded our CSP to the Flex last ...</td>\n",
              "      <td>😬</td>\n",
              "      <td>1</td>\n",
              "      <td>0.531143</td>\n",
              "    </tr>\n",
              "  </tbody>\n",
              "</table>\n",
              "<p>2110 rows × 5 columns</p>\n",
              "</div>"
            ],
            "text/plain": [
              "      index  ... prob_zero\n",
              "0     77593  ...  0.455134\n",
              "3     40054  ...  0.553649\n",
              "4     32019  ...  0.569586\n",
              "6      3979  ...  0.519481\n",
              "7     35360  ...  0.521023\n",
              "...     ...  ...       ...\n",
              "4429  23112  ...  0.568806\n",
              "4431  81505  ...  0.455440\n",
              "4432  11677  ...  0.571603\n",
              "4433  14708  ...  0.583106\n",
              "4436  33923  ...  0.531143\n",
              "\n",
              "[2110 rows x 5 columns]"
            ]
          },
          "metadata": {
            "tags": []
          },
          "execution_count": 59
        }
      ]
    },
    {
      "cell_type": "code",
      "metadata": {
        "id": "77U5VcDyT3_L"
      },
      "source": [
        "output_incorrect.to_csv(\"/content/drive/MyDrive/2021_NLU/data/full_data/output_incorrect.csv\", index=False)"
      ],
      "execution_count": null,
      "outputs": []
    },
    {
      "cell_type": "code",
      "metadata": {
        "id": "MLXh-LuRT4ZO"
      },
      "source": [
        "incorrect = pd.read_csv(\"/content/drive/MyDrive/2021_NLU/data/full_data/output_incorrect.csv\")"
      ],
      "execution_count": null,
      "outputs": []
    },
    {
      "cell_type": "code",
      "metadata": {
        "colab": {
          "base_uri": "https://localhost:8080/"
        },
        "id": "pw6GzVCUUCXZ",
        "outputId": "2816eaf1-c064-4684-e87d-2a44a3894f8c"
      },
      "source": [
        "print(incorrect.columns)\n",
        "print(incorrect.shape)\n",
        "print(len(x_test_tokenized))"
      ],
      "execution_count": null,
      "outputs": [
        {
          "output_type": "stream",
          "text": [
            "Index(['index', 'tweets', 'emoji_sentence', 'follows?', 'prob_zero'], dtype='object')\n",
            "(2110, 5)\n",
            "4438\n"
          ],
          "name": "stdout"
        }
      ]
    },
    {
      "cell_type": "code",
      "metadata": {
        "colab": {
          "base_uri": "https://localhost:8080/",
          "height": 393
        },
        "id": "iXMm9OZHUCcV",
        "outputId": "c4256b23-2aca-4019-c2df-aa76f1c035a8"
      },
      "source": [
        "# below df is original + model predicting prob of zero\n",
        "# original says 'follows=0', which means it doesn't follow \n",
        "# but the below shows 'incorrect' prediction\n",
        "# and model predicted it doesn't follow with a 0.139464 prob \n",
        "# which means the model predicted it \"follows\" with a 0.860536 (1-0.139464) prob  \n",
        "incorrect[incorrect['follows?'] == 0].sort_values(by='prob_zero').head(10)"
      ],
      "execution_count": null,
      "outputs": [
        {
          "output_type": "execute_result",
          "data": {
            "text/html": [
              "<div>\n",
              "<style scoped>\n",
              "    .dataframe tbody tr th:only-of-type {\n",
              "        vertical-align: middle;\n",
              "    }\n",
              "\n",
              "    .dataframe tbody tr th {\n",
              "        vertical-align: top;\n",
              "    }\n",
              "\n",
              "    .dataframe thead th {\n",
              "        text-align: right;\n",
              "    }\n",
              "</style>\n",
              "<table border=\"1\" class=\"dataframe\">\n",
              "  <thead>\n",
              "    <tr style=\"text-align: right;\">\n",
              "      <th></th>\n",
              "      <th>index</th>\n",
              "      <th>tweets</th>\n",
              "      <th>emoji_sentence</th>\n",
              "      <th>follows?</th>\n",
              "      <th>prob_zero</th>\n",
              "    </tr>\n",
              "  </thead>\n",
              "  <tbody>\n",
              "    <tr>\n",
              "      <th>561</th>\n",
              "      <td>65383</td>\n",
              "      <td>[USER] Amin amin amin</td>\n",
              "      <td>🙃</td>\n",
              "      <td>0</td>\n",
              "      <td>0.139464</td>\n",
              "    </tr>\n",
              "    <tr>\n",
              "      <th>1068</th>\n",
              "      <td>96456</td>\n",
              "      <td>Gud morning</td>\n",
              "      <td>🗿</td>\n",
              "      <td>0</td>\n",
              "      <td>0.144617</td>\n",
              "    </tr>\n",
              "    <tr>\n",
              "      <th>1674</th>\n",
              "      <td>104591</td>\n",
              "      <td>[USER] Confessional?</td>\n",
              "      <td>🤧</td>\n",
              "      <td>0</td>\n",
              "      <td>0.166362</td>\n",
              "    </tr>\n",
              "    <tr>\n",
              "      <th>214</th>\n",
              "      <td>61741</td>\n",
              "      <td>my chakra bracelet broke</td>\n",
              "      <td>🇮🇹🇪🇸🐶</td>\n",
              "      <td>0</td>\n",
              "      <td>0.174965</td>\n",
              "    </tr>\n",
              "    <tr>\n",
              "      <th>1307</th>\n",
              "      <td>63123</td>\n",
              "      <td>bloodhound apexlegends</td>\n",
              "      <td>♋🔮</td>\n",
              "      <td>0</td>\n",
              "      <td>0.190229</td>\n",
              "    </tr>\n",
              "    <tr>\n",
              "      <th>526</th>\n",
              "      <td>71190</td>\n",
              "      <td>A fashion designer</td>\n",
              "      <td>👏🏼🤷♂</td>\n",
              "      <td>0</td>\n",
              "      <td>0.211639</td>\n",
              "    </tr>\n",
              "    <tr>\n",
              "      <th>311</th>\n",
              "      <td>95632</td>\n",
              "      <td>GROSS people post GROSS tweets.</td>\n",
              "      <td>🤣</td>\n",
              "      <td>0</td>\n",
              "      <td>0.221515</td>\n",
              "    </tr>\n",
              "    <tr>\n",
              "      <th>1427</th>\n",
              "      <td>87870</td>\n",
              "      <td>Sensible administration.</td>\n",
              "      <td>🦵🏿👏🏿👏🏿😂🤣😂</td>\n",
              "      <td>0</td>\n",
              "      <td>0.238544</td>\n",
              "    </tr>\n",
              "    <tr>\n",
              "      <th>1864</th>\n",
              "      <td>69482</td>\n",
              "      <td>.           a correlated savior            And...</td>\n",
              "      <td>🙌</td>\n",
              "      <td>0</td>\n",
              "      <td>0.245230</td>\n",
              "    </tr>\n",
              "    <tr>\n",
              "      <th>1619</th>\n",
              "      <td>64260</td>\n",
              "      <td>Petit prince</td>\n",
              "      <td>🤣</td>\n",
              "      <td>0</td>\n",
              "      <td>0.246465</td>\n",
              "    </tr>\n",
              "  </tbody>\n",
              "</table>\n",
              "</div>"
            ],
            "text/plain": [
              "       index  ... prob_zero\n",
              "561    65383  ...  0.139464\n",
              "1068   96456  ...  0.144617\n",
              "1674  104591  ...  0.166362\n",
              "214    61741  ...  0.174965\n",
              "1307   63123  ...  0.190229\n",
              "526    71190  ...  0.211639\n",
              "311    95632  ...  0.221515\n",
              "1427   87870  ...  0.238544\n",
              "1864   69482  ...  0.245230\n",
              "1619   64260  ...  0.246465\n",
              "\n",
              "[10 rows x 5 columns]"
            ]
          },
          "metadata": {
            "tags": []
          },
          "execution_count": 141
        }
      ]
    },
    {
      "cell_type": "code",
      "metadata": {
        "id": "radSb2XarcZw",
        "colab": {
          "base_uri": "https://localhost:8080/"
        },
        "outputId": "71c12a0d-9511-4b6e-caf6-66afd144f11a"
      },
      "source": [
        "(5+3+3+5+4+6+6+8+5+3)/10"
      ],
      "execution_count": null,
      "outputs": [
        {
          "output_type": "execute_result",
          "data": {
            "text/plain": [
              "4.8"
            ]
          },
          "metadata": {
            "tags": []
          },
          "execution_count": 3
        }
      ]
    },
    {
      "cell_type": "code",
      "metadata": {
        "colab": {
          "base_uri": "https://localhost:8080/",
          "height": 390
        },
        "id": "i4QEeAoEUiM5",
        "outputId": "7b50eca9-03d8-40f9-ba2f-7cd09301399f"
      },
      "source": [
        "incorrect[incorrect['follows?'] == 1].sort_values(by='prob_zero', ascending = False).head(11)"
      ],
      "execution_count": null,
      "outputs": [
        {
          "output_type": "execute_result",
          "data": {
            "text/html": [
              "<div>\n",
              "<style scoped>\n",
              "    .dataframe tbody tr th:only-of-type {\n",
              "        vertical-align: middle;\n",
              "    }\n",
              "\n",
              "    .dataframe tbody tr th {\n",
              "        vertical-align: top;\n",
              "    }\n",
              "\n",
              "    .dataframe thead th {\n",
              "        text-align: right;\n",
              "    }\n",
              "</style>\n",
              "<table border=\"1\" class=\"dataframe\">\n",
              "  <thead>\n",
              "    <tr style=\"text-align: right;\">\n",
              "      <th></th>\n",
              "      <th>index</th>\n",
              "      <th>tweets</th>\n",
              "      <th>emoji_sentence</th>\n",
              "      <th>follows?</th>\n",
              "      <th>prob_zero</th>\n",
              "    </tr>\n",
              "  </thead>\n",
              "  <tbody>\n",
              "    <tr>\n",
              "      <th>1171</th>\n",
              "      <td>29079</td>\n",
              "      <td>[USER] comfort moot</td>\n",
              "      <td>🥺</td>\n",
              "      <td>1</td>\n",
              "      <td>0.877194</td>\n",
              "    </tr>\n",
              "    <tr>\n",
              "      <th>1177</th>\n",
              "      <td>52521</td>\n",
              "      <td>[USER] Noted</td>\n",
              "      <td>📝</td>\n",
              "      <td>1</td>\n",
              "      <td>0.808980</td>\n",
              "    </tr>\n",
              "    <tr>\n",
              "      <th>1763</th>\n",
              "      <td>44533</td>\n",
              "      <td>the quotes</td>\n",
              "      <td>😭</td>\n",
              "      <td>1</td>\n",
              "      <td>0.806977</td>\n",
              "    </tr>\n",
              "    <tr>\n",
              "      <th>120</th>\n",
              "      <td>11453</td>\n",
              "      <td>BOT  BOT     BOT  BOT    BOT  BOT     BOT  BO...</td>\n",
              "      <td>💀🐔💥🔪😡👎💩👙💡💀🔪💩🌵</td>\n",
              "      <td>1</td>\n",
              "      <td>0.740729</td>\n",
              "    </tr>\n",
              "    <tr>\n",
              "      <th>1309</th>\n",
              "      <td>37314</td>\n",
              "      <td>Don’t challenge the</td>\n",
              "      <td>🐐</td>\n",
              "      <td>1</td>\n",
              "      <td>0.732235</td>\n",
              "    </tr>\n",
              "    <tr>\n",
              "      <th>281</th>\n",
              "      <td>51905</td>\n",
              "      <td>WTF, Amazon!? This is horrible!</td>\n",
              "      <td>😡</td>\n",
              "      <td>1</td>\n",
              "      <td>0.730434</td>\n",
              "    </tr>\n",
              "    <tr>\n",
              "      <th>1925</th>\n",
              "      <td>41707</td>\n",
              "      <td>considering tossing the unopened box of cinnam...</td>\n",
              "      <td>😬</td>\n",
              "      <td>1</td>\n",
              "      <td>0.728836</td>\n",
              "    </tr>\n",
              "    <tr>\n",
              "      <th>1115</th>\n",
              "      <td>4868</td>\n",
              "      <td>[USER] Library</td>\n",
              "      <td>😲</td>\n",
              "      <td>1</td>\n",
              "      <td>0.722231</td>\n",
              "    </tr>\n",
              "    <tr>\n",
              "      <th>449</th>\n",
              "      <td>3466</td>\n",
              "      <td>me to 300?</td>\n",
              "      <td>⛽</td>\n",
              "      <td>1</td>\n",
              "      <td>0.712570</td>\n",
              "    </tr>\n",
              "    <tr>\n",
              "      <th>1989</th>\n",
              "      <td>49692</td>\n",
              "      <td>Wow wow wow</td>\n",
              "      <td>😍😍😍</td>\n",
              "      <td>1</td>\n",
              "      <td>0.710795</td>\n",
              "    </tr>\n",
              "    <tr>\n",
              "      <th>884</th>\n",
              "      <td>7599</td>\n",
              "      <td>[USER] Rinse. Repeat.</td>\n",
              "      <td>😂</td>\n",
              "      <td>1</td>\n",
              "      <td>0.704552</td>\n",
              "    </tr>\n",
              "  </tbody>\n",
              "</table>\n",
              "</div>"
            ],
            "text/plain": [
              "      index  ... prob_zero\n",
              "1171  29079  ...  0.877194\n",
              "1177  52521  ...  0.808980\n",
              "1763  44533  ...  0.806977\n",
              "120   11453  ...  0.740729\n",
              "1309  37314  ...  0.732235\n",
              "281   51905  ...  0.730434\n",
              "1925  41707  ...  0.728836\n",
              "1115   4868  ...  0.722231\n",
              "449    3466  ...  0.712570\n",
              "1989  49692  ...  0.710795\n",
              "884    7599  ...  0.704552\n",
              "\n",
              "[11 rows x 5 columns]"
            ]
          },
          "metadata": {
            "tags": []
          },
          "execution_count": 7
        }
      ]
    },
    {
      "cell_type": "code",
      "metadata": {
        "id": "tDKw-CVsUChk",
        "colab": {
          "base_uri": "https://localhost:8080/"
        },
        "outputId": "92227686-0a04-41cb-f87c-f2b79cdfa517"
      },
      "source": [
        "(5+3+3+5+4+6+6+8+5+3+3+3+3+4+6+8+3+4+6+4)/20"
      ],
      "execution_count": null,
      "outputs": [
        {
          "output_type": "execute_result",
          "data": {
            "text/plain": [
              "4.6"
            ]
          },
          "metadata": {
            "tags": []
          },
          "execution_count": 10
        }
      ]
    },
    {
      "cell_type": "code",
      "metadata": {
        "id": "D3JfhIReUsDm"
      },
      "source": [
        ""
      ],
      "execution_count": null,
      "outputs": []
    },
    {
      "cell_type": "code",
      "metadata": {
        "colab": {
          "base_uri": "https://localhost:8080/"
        },
        "id": "kQSKPfW8UsH9",
        "outputId": "f158668b-c547-454d-a68c-1d2256ef1ced"
      },
      "source": [
        "output_correct = evaluate_correct(y_test, pred_lr_full, df_test, pred_lr_full_prob)"
      ],
      "execution_count": null,
      "outputs": [
        {
          "output_type": "stream",
          "text": [
            "(4438, 5)\n"
          ],
          "name": "stdout"
        }
      ]
    },
    {
      "cell_type": "code",
      "metadata": {
        "id": "u9-yb4isUsN2"
      },
      "source": [
        "output_correct.to_csv(\"/content/drive/MyDrive/2021_NLU/data/full_data/output_correct.csv\", index=False)"
      ],
      "execution_count": null,
      "outputs": []
    },
    {
      "cell_type": "code",
      "metadata": {
        "colab": {
          "base_uri": "https://localhost:8080/",
          "height": 419
        },
        "id": "2pAq_H57UsSq",
        "outputId": "42d938a0-0090-4401-d91d-4bfa440ffd80"
      },
      "source": [
        "output_correct"
      ],
      "execution_count": null,
      "outputs": [
        {
          "output_type": "execute_result",
          "data": {
            "text/html": [
              "<div>\n",
              "<style scoped>\n",
              "    .dataframe tbody tr th:only-of-type {\n",
              "        vertical-align: middle;\n",
              "    }\n",
              "\n",
              "    .dataframe tbody tr th {\n",
              "        vertical-align: top;\n",
              "    }\n",
              "\n",
              "    .dataframe thead th {\n",
              "        text-align: right;\n",
              "    }\n",
              "</style>\n",
              "<table border=\"1\" class=\"dataframe\">\n",
              "  <thead>\n",
              "    <tr style=\"text-align: right;\">\n",
              "      <th></th>\n",
              "      <th>index</th>\n",
              "      <th>tweets</th>\n",
              "      <th>emoji_sentence</th>\n",
              "      <th>follows?</th>\n",
              "      <th>prob_zero</th>\n",
              "    </tr>\n",
              "  </thead>\n",
              "  <tbody>\n",
              "    <tr>\n",
              "      <th>1</th>\n",
              "      <td>42801</td>\n",
              "      <td>Watch your PH balance not my page</td>\n",
              "      <td>🙂</td>\n",
              "      <td>1</td>\n",
              "      <td>0.430891</td>\n",
              "    </tr>\n",
              "    <tr>\n",
              "      <th>2</th>\n",
              "      <td>45798</td>\n",
              "      <td>fast gcash  • follow me &amp;amp; [USER] • rt end...</td>\n",
              "      <td>💸💸⏳</td>\n",
              "      <td>1</td>\n",
              "      <td>0.370233</td>\n",
              "    </tr>\n",
              "    <tr>\n",
              "      <th>5</th>\n",
              "      <td>44976</td>\n",
              "      <td>15 gcash • like and rt [USER]'s pinned • retwe...</td>\n",
              "      <td>📌</td>\n",
              "      <td>1</td>\n",
              "      <td>0.274290</td>\n",
              "    </tr>\n",
              "    <tr>\n",
              "      <th>9</th>\n",
              "      <td>75250</td>\n",
              "      <td>Hennessy and dangerous. And I can’t front like...</td>\n",
              "      <td>🙂</td>\n",
              "      <td>0</td>\n",
              "      <td>0.502358</td>\n",
              "    </tr>\n",
              "    <tr>\n",
              "      <th>12</th>\n",
              "      <td>59363</td>\n",
              "      <td>Standing at the bus stop today, with my mask o...</td>\n",
              "      <td>😭</td>\n",
              "      <td>0</td>\n",
              "      <td>0.521341</td>\n",
              "    </tr>\n",
              "    <tr>\n",
              "      <th>...</th>\n",
              "      <td>...</td>\n",
              "      <td>...</td>\n",
              "      <td>...</td>\n",
              "      <td>...</td>\n",
              "      <td>...</td>\n",
              "    </tr>\n",
              "    <tr>\n",
              "      <th>4428</th>\n",
              "      <td>37450</td>\n",
              "      <td>[USER] alright then we move  just hmu whenever</td>\n",
              "      <td>🤝</td>\n",
              "      <td>1</td>\n",
              "      <td>0.465126</td>\n",
              "    </tr>\n",
              "    <tr>\n",
              "      <th>4430</th>\n",
              "      <td>18250</td>\n",
              "      <td>self sabotaged at work again and got Mac and c...</td>\n",
              "      <td>😔</td>\n",
              "      <td>1</td>\n",
              "      <td>0.487529</td>\n",
              "    </tr>\n",
              "    <tr>\n",
              "      <th>4434</th>\n",
              "      <td>53064</td>\n",
              "      <td>[USER] Follow me to gainFollowersDaily.</td>\n",
              "      <td>👻🐰🌹</td>\n",
              "      <td>1</td>\n",
              "      <td>0.387965</td>\n",
              "    </tr>\n",
              "    <tr>\n",
              "      <th>4435</th>\n",
              "      <td>75342</td>\n",
              "      <td>I would never let a female use a strap because...</td>\n",
              "      <td>😍</td>\n",
              "      <td>0</td>\n",
              "      <td>0.509789</td>\n",
              "    </tr>\n",
              "    <tr>\n",
              "      <th>4437</th>\n",
              "      <td>22679</td>\n",
              "      <td>[USER] happiest birthday aya!!  have a blast</td>\n",
              "      <td>💗🥳</td>\n",
              "      <td>1</td>\n",
              "      <td>0.401092</td>\n",
              "    </tr>\n",
              "  </tbody>\n",
              "</table>\n",
              "<p>2328 rows × 5 columns</p>\n",
              "</div>"
            ],
            "text/plain": [
              "      index  ... prob_zero\n",
              "1     42801  ...  0.430891\n",
              "2     45798  ...  0.370233\n",
              "5     44976  ...  0.274290\n",
              "9     75250  ...  0.502358\n",
              "12    59363  ...  0.521341\n",
              "...     ...  ...       ...\n",
              "4428  37450  ...  0.465126\n",
              "4430  18250  ...  0.487529\n",
              "4434  53064  ...  0.387965\n",
              "4435  75342  ...  0.509789\n",
              "4437  22679  ...  0.401092\n",
              "\n",
              "[2328 rows x 5 columns]"
            ]
          },
          "metadata": {
            "tags": []
          },
          "execution_count": 68
        }
      ]
    },
    {
      "cell_type": "code",
      "metadata": {
        "colab": {
          "base_uri": "https://localhost:8080/",
          "height": 579
        },
        "id": "KLpHqxchXiA7",
        "outputId": "34bf6831-da7d-4f9b-cb06-211889058643"
      },
      "source": [
        "output_correct[output_correct['prob_zero']  > 0.7]"
      ],
      "execution_count": null,
      "outputs": [
        {
          "output_type": "execute_result",
          "data": {
            "text/html": [
              "<div>\n",
              "<style scoped>\n",
              "    .dataframe tbody tr th:only-of-type {\n",
              "        vertical-align: middle;\n",
              "    }\n",
              "\n",
              "    .dataframe tbody tr th {\n",
              "        vertical-align: top;\n",
              "    }\n",
              "\n",
              "    .dataframe thead th {\n",
              "        text-align: right;\n",
              "    }\n",
              "</style>\n",
              "<table border=\"1\" class=\"dataframe\">\n",
              "  <thead>\n",
              "    <tr style=\"text-align: right;\">\n",
              "      <th></th>\n",
              "      <th>index</th>\n",
              "      <th>tweets</th>\n",
              "      <th>emoji_sentence</th>\n",
              "      <th>follows?</th>\n",
              "      <th>prob_zero</th>\n",
              "      <th>emoji_sentence_len</th>\n",
              "    </tr>\n",
              "  </thead>\n",
              "  <tbody>\n",
              "    <tr>\n",
              "      <th>80</th>\n",
              "      <td>61362</td>\n",
              "      <td>Actives today?</td>\n",
              "      <td>😭</td>\n",
              "      <td>0</td>\n",
              "      <td>0.800815</td>\n",
              "      <td>1</td>\n",
              "    </tr>\n",
              "    <tr>\n",
              "      <th>467</th>\n",
              "      <td>79490</td>\n",
              "      <td>Found a spider in my room  throwing away my room</td>\n",
              "      <td>😊</td>\n",
              "      <td>0</td>\n",
              "      <td>0.743156</td>\n",
              "      <td>1</td>\n",
              "    </tr>\n",
              "    <tr>\n",
              "      <th>600</th>\n",
              "      <td>58636</td>\n",
              "      <td>Urgent action! Please read.</td>\n",
              "      <td>🤍</td>\n",
              "      <td>0</td>\n",
              "      <td>0.732539</td>\n",
              "      <td>1</td>\n",
              "    </tr>\n",
              "    <tr>\n",
              "      <th>896</th>\n",
              "      <td>62258</td>\n",
              "      <td>A blessing</td>\n",
              "      <td>🥳</td>\n",
              "      <td>0</td>\n",
              "      <td>0.728554</td>\n",
              "      <td>1</td>\n",
              "    </tr>\n",
              "    <tr>\n",
              "      <th>951</th>\n",
              "      <td>103314</td>\n",
              "      <td>I want to move on and never look back</td>\n",
              "      <td>🐘</td>\n",
              "      <td>0</td>\n",
              "      <td>0.738640</td>\n",
              "      <td>1</td>\n",
              "    </tr>\n",
              "    <tr>\n",
              "      <th>1170</th>\n",
              "      <td>74023</td>\n",
              "      <td>Shea Butter Baby</td>\n",
              "      <td>😂</td>\n",
              "      <td>0</td>\n",
              "      <td>0.791787</td>\n",
              "      <td>1</td>\n",
              "    </tr>\n",
              "    <tr>\n",
              "      <th>1208</th>\n",
              "      <td>90596</td>\n",
              "      <td>Need some nasty hotel  drunk sex</td>\n",
              "      <td>🤨</td>\n",
              "      <td>0</td>\n",
              "      <td>0.711217</td>\n",
              "      <td>1</td>\n",
              "    </tr>\n",
              "    <tr>\n",
              "      <th>1482</th>\n",
              "      <td>62976</td>\n",
              "      <td>Dr. Rachel Levine makes history.</td>\n",
              "      <td>😭😭</td>\n",
              "      <td>0</td>\n",
              "      <td>0.713636</td>\n",
              "      <td>2</td>\n",
              "    </tr>\n",
              "    <tr>\n",
              "      <th>2034</th>\n",
              "      <td>71108</td>\n",
              "      <td>The bros</td>\n",
              "      <td>😭</td>\n",
              "      <td>0</td>\n",
              "      <td>0.706372</td>\n",
              "      <td>1</td>\n",
              "    </tr>\n",
              "    <tr>\n",
              "      <th>2261</th>\n",
              "      <td>97014</td>\n",
              "      <td>Please text me</td>\n",
              "      <td>♾💔</td>\n",
              "      <td>0</td>\n",
              "      <td>0.757426</td>\n",
              "      <td>2</td>\n",
              "    </tr>\n",
              "    <tr>\n",
              "      <th>2500</th>\n",
              "      <td>105309</td>\n",
              "      <td>[USER] manual labour</td>\n",
              "      <td>😂</td>\n",
              "      <td>0</td>\n",
              "      <td>0.746659</td>\n",
              "      <td>1</td>\n",
              "    </tr>\n",
              "    <tr>\n",
              "      <th>2784</th>\n",
              "      <td>64365</td>\n",
              "      <td>Sexy af</td>\n",
              "      <td>💢</td>\n",
              "      <td>0</td>\n",
              "      <td>0.896276</td>\n",
              "      <td>1</td>\n",
              "    </tr>\n",
              "    <tr>\n",
              "      <th>3028</th>\n",
              "      <td>84767</td>\n",
              "      <td>and i overslept again.</td>\n",
              "      <td>🤧</td>\n",
              "      <td>0</td>\n",
              "      <td>0.715209</td>\n",
              "      <td>1</td>\n",
              "    </tr>\n",
              "    <tr>\n",
              "      <th>3453</th>\n",
              "      <td>87539</td>\n",
              "      <td>[USER] confort moot</td>\n",
              "      <td>😊</td>\n",
              "      <td>0</td>\n",
              "      <td>0.736160</td>\n",
              "      <td>1</td>\n",
              "    </tr>\n",
              "    <tr>\n",
              "      <th>3870</th>\n",
              "      <td>103649</td>\n",
              "      <td>Grandmas should live forever</td>\n",
              "      <td>😭</td>\n",
              "      <td>0</td>\n",
              "      <td>0.740893</td>\n",
              "      <td>1</td>\n",
              "    </tr>\n",
              "    <tr>\n",
              "      <th>4114</th>\n",
              "      <td>62196</td>\n",
              "      <td>Vibin w/ someone who got the same goofy energy...</td>\n",
              "      <td>☹</td>\n",
              "      <td>0</td>\n",
              "      <td>0.714405</td>\n",
              "      <td>1</td>\n",
              "    </tr>\n",
              "  </tbody>\n",
              "</table>\n",
              "</div>"
            ],
            "text/plain": [
              "       index  ... emoji_sentence_len\n",
              "80     61362  ...                  1\n",
              "467    79490  ...                  1\n",
              "600    58636  ...                  1\n",
              "896    62258  ...                  1\n",
              "951   103314  ...                  1\n",
              "1170   74023  ...                  1\n",
              "1208   90596  ...                  1\n",
              "1482   62976  ...                  2\n",
              "2034   71108  ...                  1\n",
              "2261   97014  ...                  2\n",
              "2500  105309  ...                  1\n",
              "2784   64365  ...                  1\n",
              "3028   84767  ...                  1\n",
              "3453   87539  ...                  1\n",
              "3870  103649  ...                  1\n",
              "4114   62196  ...                  1\n",
              "\n",
              "[16 rows x 6 columns]"
            ]
          },
          "metadata": {
            "tags": []
          },
          "execution_count": 79
        }
      ]
    },
    {
      "cell_type": "code",
      "metadata": {
        "id": "K3oelJIiVMpg"
      },
      "source": [
        "correct_prob = output_correct[output_correct['follows?'] == 0].prob_zero"
      ],
      "execution_count": null,
      "outputs": []
    },
    {
      "cell_type": "code",
      "metadata": {
        "colab": {
          "base_uri": "https://localhost:8080/",
          "height": 350
        },
        "id": "pG3CN4-SVSsg",
        "outputId": "f5536819-2bab-4e05-bce9-8933a1a3c504"
      },
      "source": [
        "plt.hist(correct_prob)"
      ],
      "execution_count": null,
      "outputs": [
        {
          "output_type": "execute_result",
          "data": {
            "text/plain": [
              "(array([555., 356., 167.,  59.,  29.,  10.,   5.,   2.,   0.,   1.]),\n",
              " array([0.50005471, 0.5396768 , 0.57929889, 0.61892097, 0.65854306,\n",
              "        0.69816515, 0.73778723, 0.77740932, 0.81703141, 0.85665349,\n",
              "        0.89627558]),\n",
              " <a list of 10 Patch objects>)"
            ]
          },
          "metadata": {
            "tags": []
          },
          "execution_count": 72
        },
        {
          "output_type": "display_data",
          "data": {
            "image/png": "[encoded data removed]",
            "text/plain": [
              "<Figure size 432x288 with 1 Axes>"
            ]
          },
          "metadata": {
            "tags": [],
            "needs_background": "light"
          }
        }
      ]
    },
    {
      "cell_type": "code",
      "metadata": {
        "id": "V-hBXOEuVSx3"
      },
      "source": [
        "incorrect_prob = 1-output_correct[output_correct['follows?'] == 1].prob_zero"
      ],
      "execution_count": null,
      "outputs": []
    },
    {
      "cell_type": "code",
      "metadata": {
        "colab": {
          "base_uri": "https://localhost:8080/",
          "height": 350
        },
        "id": "xbB6wuw3VS22",
        "outputId": "84c0c6f3-8f7a-4536-eab4-f78740903f8f"
      },
      "source": [
        "plt.hist(incorrect_prob)"
      ],
      "execution_count": null,
      "outputs": [
        {
          "output_type": "execute_result",
          "data": {
            "text/plain": [
              "(array([446., 302., 149., 100.,  69.,  37.,  24.,   8.,   6.,   3.]),\n",
              " array([0.50006746, 0.53385972, 0.56765199, 0.60144425, 0.63523651,\n",
              "        0.66902878, 0.70282104, 0.7366133 , 0.77040557, 0.80419783,\n",
              "        0.83799009]),\n",
              " <a list of 10 Patch objects>)"
            ]
          },
          "metadata": {
            "tags": []
          },
          "execution_count": 74
        },
        {
          "output_type": "display_data",
          "data": {
            "image/png": "[encoded data removed]",
            "text/plain": [
              "<Figure size 432x288 with 1 Axes>"
            ]
          },
          "metadata": {
            "tags": [],
            "needs_background": "light"
          }
        }
      ]
    },
    {
      "cell_type": "code",
      "metadata": {
        "id": "8w3ErQorWbA1"
      },
      "source": [
        "output_correct['emoji_sentence_len'] = output_correct['emoji_sentence'].apply(lambda x: len(x))"
      ],
      "execution_count": null,
      "outputs": []
    },
    {
      "cell_type": "code",
      "metadata": {
        "colab": {
          "base_uri": "https://localhost:8080/",
          "height": 470
        },
        "id": "KIDQISuBWbGA",
        "outputId": "db8716e4-936a-4c3a-a0da-b7c35ba3343f"
      },
      "source": [
        "output_correct[output_correct['emoji_sentence_len'] == 1]"
      ],
      "execution_count": null,
      "outputs": [
        {
          "output_type": "execute_result",
          "data": {
            "text/html": [
              "<div>\n",
              "<style scoped>\n",
              "    .dataframe tbody tr th:only-of-type {\n",
              "        vertical-align: middle;\n",
              "    }\n",
              "\n",
              "    .dataframe tbody tr th {\n",
              "        vertical-align: top;\n",
              "    }\n",
              "\n",
              "    .dataframe thead th {\n",
              "        text-align: right;\n",
              "    }\n",
              "</style>\n",
              "<table border=\"1\" class=\"dataframe\">\n",
              "  <thead>\n",
              "    <tr style=\"text-align: right;\">\n",
              "      <th></th>\n",
              "      <th>index</th>\n",
              "      <th>tweets</th>\n",
              "      <th>emoji_sentence</th>\n",
              "      <th>follows?</th>\n",
              "      <th>prob_zero</th>\n",
              "      <th>emoji_sentence_len</th>\n",
              "    </tr>\n",
              "  </thead>\n",
              "  <tbody>\n",
              "    <tr>\n",
              "      <th>1</th>\n",
              "      <td>42801</td>\n",
              "      <td>Watch your PH balance not my page</td>\n",
              "      <td>🙂</td>\n",
              "      <td>1</td>\n",
              "      <td>0.430891</td>\n",
              "      <td>1</td>\n",
              "    </tr>\n",
              "    <tr>\n",
              "      <th>5</th>\n",
              "      <td>44976</td>\n",
              "      <td>15 gcash • like and rt [USER]'s pinned • retwe...</td>\n",
              "      <td>📌</td>\n",
              "      <td>1</td>\n",
              "      <td>0.274290</td>\n",
              "      <td>1</td>\n",
              "    </tr>\n",
              "    <tr>\n",
              "      <th>9</th>\n",
              "      <td>75250</td>\n",
              "      <td>Hennessy and dangerous. And I can’t front like...</td>\n",
              "      <td>🙂</td>\n",
              "      <td>0</td>\n",
              "      <td>0.502358</td>\n",
              "      <td>1</td>\n",
              "    </tr>\n",
              "    <tr>\n",
              "      <th>12</th>\n",
              "      <td>59363</td>\n",
              "      <td>Standing at the bus stop today, with my mask o...</td>\n",
              "      <td>😭</td>\n",
              "      <td>0</td>\n",
              "      <td>0.521341</td>\n",
              "      <td>1</td>\n",
              "    </tr>\n",
              "    <tr>\n",
              "      <th>13</th>\n",
              "      <td>104893</td>\n",
              "      <td>Man everything be so funny to me I can’t take ...</td>\n",
              "      <td>😔</td>\n",
              "      <td>0</td>\n",
              "      <td>0.509916</td>\n",
              "      <td>1</td>\n",
              "    </tr>\n",
              "    <tr>\n",
              "      <th>...</th>\n",
              "      <td>...</td>\n",
              "      <td>...</td>\n",
              "      <td>...</td>\n",
              "      <td>...</td>\n",
              "      <td>...</td>\n",
              "      <td>...</td>\n",
              "    </tr>\n",
              "    <tr>\n",
              "      <th>4424</th>\n",
              "      <td>15421</td>\n",
              "      <td>[USER] Ndimi munozonzi my Ex is back in thd pi...</td>\n",
              "      <td>😉</td>\n",
              "      <td>1</td>\n",
              "      <td>0.493969</td>\n",
              "      <td>1</td>\n",
              "    </tr>\n",
              "    <tr>\n",
              "      <th>4427</th>\n",
              "      <td>104774</td>\n",
              "      <td>[USER] YES   we have a lot of different styles...</td>\n",
              "      <td>😏</td>\n",
              "      <td>0</td>\n",
              "      <td>0.516527</td>\n",
              "      <td>1</td>\n",
              "    </tr>\n",
              "    <tr>\n",
              "      <th>4428</th>\n",
              "      <td>37450</td>\n",
              "      <td>[USER] alright then we move  just hmu whenever</td>\n",
              "      <td>🤝</td>\n",
              "      <td>1</td>\n",
              "      <td>0.465126</td>\n",
              "      <td>1</td>\n",
              "    </tr>\n",
              "    <tr>\n",
              "      <th>4430</th>\n",
              "      <td>18250</td>\n",
              "      <td>self sabotaged at work again and got Mac and c...</td>\n",
              "      <td>😔</td>\n",
              "      <td>1</td>\n",
              "      <td>0.487529</td>\n",
              "      <td>1</td>\n",
              "    </tr>\n",
              "    <tr>\n",
              "      <th>4435</th>\n",
              "      <td>75342</td>\n",
              "      <td>I would never let a female use a strap because...</td>\n",
              "      <td>😍</td>\n",
              "      <td>0</td>\n",
              "      <td>0.509789</td>\n",
              "      <td>1</td>\n",
              "    </tr>\n",
              "  </tbody>\n",
              "</table>\n",
              "<p>1743 rows × 6 columns</p>\n",
              "</div>"
            ],
            "text/plain": [
              "       index  ... emoji_sentence_len\n",
              "1      42801  ...                  1\n",
              "5      44976  ...                  1\n",
              "9      75250  ...                  1\n",
              "12     59363  ...                  1\n",
              "13    104893  ...                  1\n",
              "...      ...  ...                ...\n",
              "4424   15421  ...                  1\n",
              "4427  104774  ...                  1\n",
              "4428   37450  ...                  1\n",
              "4430   18250  ...                  1\n",
              "4435   75342  ...                  1\n",
              "\n",
              "[1743 rows x 6 columns]"
            ]
          },
          "metadata": {
            "tags": []
          },
          "execution_count": 76
        }
      ]
    },
    {
      "cell_type": "code",
      "metadata": {
        "id": "VtU4ZQE4WbK7"
      },
      "source": [
        "output_incorrect['emoji_sentence_len'] = output_incorrect['emoji_sentence'].apply(lambda x: len(x))"
      ],
      "execution_count": null,
      "outputs": []
    },
    {
      "cell_type": "code",
      "metadata": {
        "colab": {
          "base_uri": "https://localhost:8080/",
          "height": 453
        },
        "id": "1f30Ze5jWbPg",
        "outputId": "3e201d57-2b6a-42c1-fa3d-3b4ca1719b54"
      },
      "source": [
        "output_incorrect[output_incorrect['emoji_sentence_len'] == 1]"
      ],
      "execution_count": null,
      "outputs": [
        {
          "output_type": "execute_result",
          "data": {
            "text/html": [
              "<div>\n",
              "<style scoped>\n",
              "    .dataframe tbody tr th:only-of-type {\n",
              "        vertical-align: middle;\n",
              "    }\n",
              "\n",
              "    .dataframe tbody tr th {\n",
              "        vertical-align: top;\n",
              "    }\n",
              "\n",
              "    .dataframe thead th {\n",
              "        text-align: right;\n",
              "    }\n",
              "</style>\n",
              "<table border=\"1\" class=\"dataframe\">\n",
              "  <thead>\n",
              "    <tr style=\"text-align: right;\">\n",
              "      <th></th>\n",
              "      <th>index</th>\n",
              "      <th>tweets</th>\n",
              "      <th>emoji_sentence</th>\n",
              "      <th>follows?</th>\n",
              "      <th>prob_zero</th>\n",
              "      <th>emoji_sentence_len</th>\n",
              "    </tr>\n",
              "  </thead>\n",
              "  <tbody>\n",
              "    <tr>\n",
              "      <th>0</th>\n",
              "      <td>77593</td>\n",
              "      <td>You’re just so beautiful</td>\n",
              "      <td>💀</td>\n",
              "      <td>0</td>\n",
              "      <td>0.455134</td>\n",
              "      <td>1</td>\n",
              "    </tr>\n",
              "    <tr>\n",
              "      <th>3</th>\n",
              "      <td>40054</td>\n",
              "      <td>Want to tease someone until they cry</td>\n",
              "      <td>😢</td>\n",
              "      <td>1</td>\n",
              "      <td>0.553649</td>\n",
              "      <td>1</td>\n",
              "    </tr>\n",
              "    <tr>\n",
              "      <th>4</th>\n",
              "      <td>32019</td>\n",
              "      <td>I’ll figure this out. I always do and I always...</td>\n",
              "      <td>😤</td>\n",
              "      <td>1</td>\n",
              "      <td>0.569586</td>\n",
              "      <td>1</td>\n",
              "    </tr>\n",
              "    <tr>\n",
              "      <th>7</th>\n",
              "      <td>35360</td>\n",
              "      <td>[USER] Can you do body rolls too?</td>\n",
              "      <td>🧐</td>\n",
              "      <td>1</td>\n",
              "      <td>0.521023</td>\n",
              "      <td>1</td>\n",
              "    </tr>\n",
              "    <tr>\n",
              "      <th>8</th>\n",
              "      <td>76988</td>\n",
              "      <td>good morning</td>\n",
              "      <td>🙄</td>\n",
              "      <td>0</td>\n",
              "      <td>0.249820</td>\n",
              "      <td>1</td>\n",
              "    </tr>\n",
              "    <tr>\n",
              "      <th>...</th>\n",
              "      <td>...</td>\n",
              "      <td>...</td>\n",
              "      <td>...</td>\n",
              "      <td>...</td>\n",
              "      <td>...</td>\n",
              "      <td>...</td>\n",
              "    </tr>\n",
              "    <tr>\n",
              "      <th>4429</th>\n",
              "      <td>23112</td>\n",
              "      <td>[USER] Hitting the Plymouth tomorrow.  If you ...</td>\n",
              "      <td>😁</td>\n",
              "      <td>1</td>\n",
              "      <td>0.568806</td>\n",
              "      <td>1</td>\n",
              "    </tr>\n",
              "    <tr>\n",
              "      <th>4431</th>\n",
              "      <td>81505</td>\n",
              "      <td>[USER] [USER] I'm sorry for your loss!</td>\n",
              "      <td>😊</td>\n",
              "      <td>0</td>\n",
              "      <td>0.455440</td>\n",
              "      <td>1</td>\n",
              "    </tr>\n",
              "    <tr>\n",
              "      <th>4432</th>\n",
              "      <td>11677</td>\n",
              "      <td>tmap ep. 38 gave us so much happiness. Today's...</td>\n",
              "      <td>😭</td>\n",
              "      <td>1</td>\n",
              "      <td>0.571603</td>\n",
              "      <td>1</td>\n",
              "    </tr>\n",
              "    <tr>\n",
              "      <th>4433</th>\n",
              "      <td>14708</td>\n",
              "      <td>Learning to LOVE yourself the RIGHT away it th...</td>\n",
              "      <td>🥰</td>\n",
              "      <td>1</td>\n",
              "      <td>0.583106</td>\n",
              "      <td>1</td>\n",
              "    </tr>\n",
              "    <tr>\n",
              "      <th>4436</th>\n",
              "      <td>33923</td>\n",
              "      <td>[USER] We downgraded our CSP to the Flex last ...</td>\n",
              "      <td>😬</td>\n",
              "      <td>1</td>\n",
              "      <td>0.531143</td>\n",
              "      <td>1</td>\n",
              "    </tr>\n",
              "  </tbody>\n",
              "</table>\n",
              "<p>1608 rows × 6 columns</p>\n",
              "</div>"
            ],
            "text/plain": [
              "      index  ... emoji_sentence_len\n",
              "0     77593  ...                  1\n",
              "3     40054  ...                  1\n",
              "4     32019  ...                  1\n",
              "7     35360  ...                  1\n",
              "8     76988  ...                  1\n",
              "...     ...  ...                ...\n",
              "4429  23112  ...                  1\n",
              "4431  81505  ...                  1\n",
              "4432  11677  ...                  1\n",
              "4433  14708  ...                  1\n",
              "4436  33923  ...                  1\n",
              "\n",
              "[1608 rows x 6 columns]"
            ]
          },
          "metadata": {
            "tags": []
          },
          "execution_count": 78
        }
      ]
    },
    {
      "cell_type": "code",
      "metadata": {
        "colab": {
          "base_uri": "https://localhost:8080/"
        },
        "id": "AvR7lyRfX31T",
        "outputId": "0ff94643-4a4e-4107-a725-4eff8e748922"
      },
      "source": [
        "df_test['follows?'].value_counts()"
      ],
      "execution_count": null,
      "outputs": [
        {
          "output_type": "execute_result",
          "data": {
            "text/plain": [
              "0    2259\n",
              "1    2179\n",
              "Name: follows?, dtype: int64"
            ]
          },
          "metadata": {
            "tags": []
          },
          "execution_count": 80
        }
      ]
    }
  ]
}