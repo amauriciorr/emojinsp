{
 "cells": [
  {
   "cell_type": "code",
   "execution_count": 1,
   "metadata": {},
   "outputs": [],
   "source": [
    "import re\n",
    "import pandas as pd\n",
    "import numpy as np"
   ]
  },
  {
   "cell_type": "code",
   "execution_count": 18,
   "metadata": {},
   "outputs": [],
   "source": [
    "import requests\n",
    "from bs4 import BeautifulSoup\n",
    "page = requests.get('https://www.unicode.org/emoji/charts/full-emoji-modifiers.html')\n",
    "soup = BeautifulSoup(page.content, 'html.parser')"
   ]
  },
  {
   "cell_type": "code",
   "execution_count": 20,
   "metadata": {},
   "outputs": [],
   "source": [
    "rows = soup.table.find_all('tr')"
   ]
  },
  {
   "cell_type": "code",
   "execution_count": 21,
   "metadata": {},
   "outputs": [
    {
     "name": "stdout",
     "output_type": "stream",
     "text": [
      "list index out of range\n",
      "list index out of range\n",
      "list index out of range\n",
      "list index out of range\n",
      "list index out of range\n",
      "list index out of range\n",
      "list index out of range\n",
      "list index out of range\n",
      "list index out of range\n",
      "list index out of range\n",
      "list index out of range\n",
      "list index out of range\n",
      "list index out of range\n",
      "list index out of range\n",
      "list index out of range\n",
      "list index out of range\n",
      "list index out of range\n",
      "list index out of range\n",
      "list index out of range\n",
      "list index out of range\n",
      "list index out of range\n",
      "list index out of range\n",
      "list index out of range\n",
      "list index out of range\n",
      "list index out of range\n",
      "list index out of range\n",
      "list index out of range\n",
      "list index out of range\n",
      "list index out of range\n",
      "list index out of range\n",
      "list index out of range\n",
      "list index out of range\n",
      "list index out of range\n",
      "list index out of range\n",
      "list index out of range\n",
      "list index out of range\n",
      "list index out of range\n",
      "list index out of range\n",
      "list index out of range\n",
      "list index out of range\n",
      "list index out of range\n",
      "list index out of range\n",
      "list index out of range\n",
      "list index out of range\n",
      "list index out of range\n",
      "list index out of range\n",
      "list index out of range\n",
      "list index out of range\n",
      "list index out of range\n",
      "list index out of range\n",
      "list index out of range\n",
      "list index out of range\n",
      "list index out of range\n",
      "list index out of range\n",
      "list index out of range\n",
      "list index out of range\n",
      "list index out of range\n",
      "list index out of range\n",
      "list index out of range\n",
      "list index out of range\n",
      "list index out of range\n",
      "list index out of range\n",
      "list index out of range\n",
      "list index out of range\n",
      "list index out of range\n",
      "list index out of range\n",
      "list index out of range\n",
      "list index out of range\n",
      "list index out of range\n",
      "list index out of range\n",
      "list index out of range\n",
      "list index out of range\n",
      "list index out of range\n",
      "list index out of range\n",
      "list index out of range\n",
      "list index out of range\n",
      "list index out of range\n",
      "list index out of range\n",
      "list index out of range\n",
      "list index out of range\n",
      "list index out of range\n",
      "list index out of range\n",
      "list index out of range\n",
      "list index out of range\n",
      "list index out of range\n",
      "list index out of range\n",
      "list index out of range\n",
      "list index out of range\n",
      "list index out of range\n",
      "list index out of range\n",
      "list index out of range\n",
      "list index out of range\n",
      "list index out of range\n",
      "list index out of range\n",
      "list index out of range\n",
      "list index out of range\n",
      "list index out of range\n",
      "list index out of range\n",
      "list index out of range\n",
      "list index out of range\n",
      "list index out of range\n",
      "list index out of range\n",
      "list index out of range\n",
      "list index out of range\n",
      "list index out of range\n",
      "list index out of range\n",
      "list index out of range\n",
      "list index out of range\n",
      "list index out of range\n",
      "list index out of range\n"
     ]
    }
   ],
   "source": [
    "emojis = []\n",
    "unicode_vals = []\n",
    "for row in rows:\n",
    "    try:\n",
    "        cells = row.find_all('td')\n",
    "        unicode_vals.append(cells[1].find('a').get('name'))\n",
    "        emojis.append(cells[2].text)\n",
    "    except Exception as e:\n",
    "        print(e)"
   ]
  },
  {
   "cell_type": "code",
   "execution_count": 22,
   "metadata": {
    "scrolled": false
   },
   "outputs": [
    {
     "name": "stdout",
     "output_type": "stream",
     "text": [
      "['👋🏻', '👋🏼', '👋🏽', '👋🏾', '👋🏿', '🤚🏻', '🤚🏼', '🤚🏽', '🤚🏾', '🤚🏿']\n"
     ]
    }
   ],
   "source": [
    "print(emojis[:10])"
   ]
  },
  {
   "cell_type": "code",
   "execution_count": 23,
   "metadata": {},
   "outputs": [
    {
     "name": "stdout",
     "output_type": "stream",
     "text": [
      "['1f44b_1f3fb', '1f44b_1f3fc', '1f44b_1f3fd', '1f44b_1f3fe', '1f44b_1f3ff', '1f91a_1f3fb', '1f91a_1f3fc', '1f91a_1f3fd', '1f91a_1f3fe', '1f91a_1f3ff']\n"
     ]
    }
   ],
   "source": [
    "print(unicode_vals[:10])"
   ]
  },
  {
   "cell_type": "code",
   "execution_count": 24,
   "metadata": {},
   "outputs": [
    {
     "name": "stdout",
     "output_type": "stream",
     "text": [
      "True\n"
     ]
    }
   ],
   "source": [
    "b = '\\U0001F970'\n",
    "print(b == '🥰')"
   ]
  },
  {
   "cell_type": "code",
   "execution_count": 25,
   "metadata": {},
   "outputs": [
    {
     "name": "stdout",
     "output_type": "stream",
     "text": [
      "🥰\n"
     ]
    }
   ],
   "source": [
    "print(b)"
   ]
  },
  {
   "cell_type": "code",
   "execution_count": 2,
   "metadata": {},
   "outputs": [
    {
     "name": "stdout",
     "output_type": "stream",
     "text": [
      "/Users/Antonio/emojinsp\n"
     ]
    }
   ],
   "source": [
    "%cd emojinsp"
   ]
  },
  {
   "cell_type": "code",
   "execution_count": 3,
   "metadata": {},
   "outputs": [],
   "source": [
    "v = pd.read_csv('data/multi_emoji/emoji_nsp_dataset_multi_emoji.csv')\n",
    "x = pd.read_csv('data/full_data/emoji_nsp_dataset.csv')\n",
    "y = pd.read_csv('data/no_repeats/emoji_nsp_dataset_no_repeats.csv')\n",
    "z = pd.read_csv('data/single_emoji/emoji_nsp_dataset_single_emoji.csv')"
   ]
  },
  {
   "cell_type": "code",
   "execution_count": 4,
   "metadata": {},
   "outputs": [
    {
     "data": {
      "text/plain": [
       "1    12126\n",
       "0    12126\n",
       "Name: follows?, dtype: int64"
      ]
     },
     "execution_count": 4,
     "metadata": {},
     "output_type": "execute_result"
    }
   ],
   "source": [
    "v['follows?'].value_counts()"
   ]
  },
  {
   "cell_type": "code",
   "execution_count": 5,
   "metadata": {},
   "outputs": [
    {
     "data": {
      "text/plain": [
       "1    53328\n",
       "0    53328\n",
       "Name: follows?, dtype: int64"
      ]
     },
     "execution_count": 5,
     "metadata": {},
     "output_type": "execute_result"
    }
   ],
   "source": [
    "x['follows?'].value_counts()"
   ]
  },
  {
   "cell_type": "code",
   "execution_count": 6,
   "metadata": {},
   "outputs": [
    {
     "data": {
      "text/plain": [
       "1    53328\n",
       "0    53328\n",
       "Name: follows?, dtype: int64"
      ]
     },
     "execution_count": 6,
     "metadata": {},
     "output_type": "execute_result"
    }
   ],
   "source": [
    "y['follows?'].value_counts()"
   ]
  },
  {
   "cell_type": "code",
   "execution_count": 7,
   "metadata": {},
   "outputs": [
    {
     "data": {
      "text/plain": [
       "1    41202\n",
       "0    41202\n",
       "Name: follows?, dtype: int64"
      ]
     },
     "execution_count": 7,
     "metadata": {},
     "output_type": "execute_result"
    }
   ],
   "source": [
    "z['follows?'].value_counts()"
   ]
  },
  {
   "cell_type": "code",
   "execution_count": 8,
   "metadata": {},
   "outputs": [],
   "source": [
    "x.dropna(inplace = True)\n",
    "y.dropna(inplace = True)\n",
    "z.dropna(inplace = True)\n",
    "v.dropna(inplace = True)"
   ]
  },
  {
   "cell_type": "code",
   "execution_count": 8,
   "metadata": {},
   "outputs": [
    {
     "data": {
      "text/html": [
       "<div>\n",
       "<style scoped>\n",
       "    .dataframe tbody tr th:only-of-type {\n",
       "        vertical-align: middle;\n",
       "    }\n",
       "\n",
       "    .dataframe tbody tr th {\n",
       "        vertical-align: top;\n",
       "    }\n",
       "\n",
       "    .dataframe thead th {\n",
       "        text-align: right;\n",
       "    }\n",
       "</style>\n",
       "<table border=\"1\" class=\"dataframe\">\n",
       "  <thead>\n",
       "    <tr style=\"text-align: right;\">\n",
       "      <th></th>\n",
       "      <th>tweets</th>\n",
       "      <th>emoji_sentence</th>\n",
       "      <th>follows?</th>\n",
       "    </tr>\n",
       "  </thead>\n",
       "  <tbody>\n",
       "    <tr>\n",
       "      <th>0</th>\n",
       "      <td>Anyone interested in buying my Astro Dream Pt....</td>\n",
       "      <td>💵🚚💜🏷</td>\n",
       "      <td>1</td>\n",
       "    </tr>\n",
       "    <tr>\n",
       "      <th>1</th>\n",
       "      <td>[210319] 6:11AM KSTTo me it’s goodnight,,, to ...</td>\n",
       "      <td>🐶🥲😴</td>\n",
       "      <td>1</td>\n",
       "    </tr>\n",
       "    <tr>\n",
       "      <th>2</th>\n",
       "      <td>[USER] I have so many captions they’re so inap...</td>\n",
       "      <td>🤣😅</td>\n",
       "      <td>1</td>\n",
       "    </tr>\n",
       "    <tr>\n",
       "      <th>3</th>\n",
       "      <td>Raetwt really experienced the biggest meltdown...</td>\n",
       "      <td>🤣🤡🤡</td>\n",
       "      <td>1</td>\n",
       "    </tr>\n",
       "    <tr>\n",
       "      <th>4</th>\n",
       "      <td>[USER] [USER] NEGATIVE!  GO GREEN</td>\n",
       "      <td>🤣💚💚💚</td>\n",
       "      <td>1</td>\n",
       "    </tr>\n",
       "  </tbody>\n",
       "</table>\n",
       "</div>"
      ],
      "text/plain": [
       "                                              tweets emoji_sentence  follows?\n",
       "0  Anyone interested in buying my Astro Dream Pt....           💵🚚💜🏷         1\n",
       "1  [210319] 6:11AM KSTTo me it’s goodnight,,, to ...            🐶🥲😴         1\n",
       "2  [USER] I have so many captions they’re so inap...             🤣😅         1\n",
       "3  Raetwt really experienced the biggest meltdown...            🤣🤡🤡         1\n",
       "4                 [USER] [USER] NEGATIVE!  GO GREEN            🤣💚💚💚         1"
      ]
     },
     "execution_count": 8,
     "metadata": {},
     "output_type": "execute_result"
    }
   ],
   "source": [
    "v.head()"
   ]
  },
  {
   "cell_type": "code",
   "execution_count": 10,
   "metadata": {},
   "outputs": [],
   "source": [
    "def get_splits(df, train_percent=.7, validate_percent=.1, seed=None, filename=None):\n",
    "    # generate shuffled indices using seed\n",
    "    np.random.seed(seed)\n",
    "    shuffled_idx = np.random.permutation(df.index.values)\n",
    "    df = df.iloc[shuffled_idx]\n",
    "    df.reset_index(inplace=True)\n",
    "    df = df.iloc[:24000]\n",
    "    # determine indices for partitioning df\n",
    "    rows = len(df.index)\n",
    "    train_idx = int(train_percent * rows)\n",
    "    validate_idx = int(validate_percent * rows) + train_idx\n",
    "    # return df splits\n",
    "    train = df.loc[:train_idx]\n",
    "    validate = df.loc[train_idx:validate_idx]\n",
    "    test = df.loc[validate_idx:]\n",
    "    \n",
    "    train.to_csv(filename + '_train.csv', index = False)\n",
    "    validate.to_csv(filename + '_valid.csv', index = False)\n",
    "    test.to_csv(filename + '_test.csv', index = False)"
   ]
  },
  {
   "cell_type": "code",
   "execution_count": 11,
   "metadata": {},
   "outputs": [],
   "source": [
    "get_splits(x, seed = 1, filename = 'data/full_data/emoji_nsp_dataset')\n",
    "get_splits(y, seed = 2, filename = 'data/no_repeats/emoji_nsp_dataset_no_repeats')\n",
    "get_splits(z, seed = 3, filename = 'data/single_emoji/emoji_nsp_dataset_single_emoji')\n",
    "get_splits(v, seed = 4, filename = 'data/multi_emoji/emoji_nsp_dataset_multi_emoji')"
   ]
  },
  {
   "cell_type": "code",
   "execution_count": 32,
   "metadata": {},
   "outputs": [],
   "source": [
    "a = pd.read_csv('data/multi_emoji/emoji_nsp_dataset_multi_emoji_train.csv')\n",
    "b = pd.read_csv('data/full_data/emoji_nsp_dataset_train.csv')\n",
    "c = pd.read_csv('data/no_repeats/emoji_nsp_dataset_no_repeats_train.csv')\n",
    "d = pd.read_csv('data/single_emoji/emoji_nsp_dataset_single_emoji_train.csv')"
   ]
  },
  {
   "cell_type": "code",
   "execution_count": 33,
   "metadata": {},
   "outputs": [
    {
     "data": {
      "text/plain": [
       "0    7762\n",
       "1    7713\n",
       "Name: follows?, dtype: int64"
      ]
     },
     "execution_count": 33,
     "metadata": {},
     "output_type": "execute_result"
    }
   ],
   "source": [
    "c['follows?'].value_counts()"
   ]
  },
  {
   "cell_type": "code",
   "execution_count": 34,
   "metadata": {},
   "outputs": [
    {
     "data": {
      "text/plain": [
       "1    7844\n",
       "0    7696\n",
       "Name: follows?, dtype: int64"
      ]
     },
     "execution_count": 34,
     "metadata": {},
     "output_type": "execute_result"
    }
   ],
   "source": [
    "b['follows?'].value_counts()"
   ]
  },
  {
   "cell_type": "code",
   "execution_count": 35,
   "metadata": {},
   "outputs": [
    {
     "data": {
      "text/plain": [
       "0    7762\n",
       "1    7713\n",
       "Name: follows?, dtype: int64"
      ]
     },
     "execution_count": 35,
     "metadata": {},
     "output_type": "execute_result"
    }
   ],
   "source": [
    "c['follows?'].value_counts()"
   ]
  },
  {
   "cell_type": "code",
   "execution_count": 36,
   "metadata": {},
   "outputs": [
    {
     "data": {
      "text/plain": [
       "1    7571\n",
       "0    7444\n",
       "Name: follows?, dtype: int64"
      ]
     },
     "execution_count": 36,
     "metadata": {},
     "output_type": "execute_result"
    }
   ],
   "source": [
    "d['follows?'].value_counts()"
   ]
  },
  {
   "cell_type": "code",
   "execution_count": 37,
   "metadata": {},
   "outputs": [
    {
     "data": {
      "text/html": [
       "<div>\n",
       "<style scoped>\n",
       "    .dataframe tbody tr th:only-of-type {\n",
       "        vertical-align: middle;\n",
       "    }\n",
       "\n",
       "    .dataframe tbody tr th {\n",
       "        vertical-align: top;\n",
       "    }\n",
       "\n",
       "    .dataframe thead th {\n",
       "        text-align: right;\n",
       "    }\n",
       "</style>\n",
       "<table border=\"1\" class=\"dataframe\">\n",
       "  <thead>\n",
       "    <tr style=\"text-align: right;\">\n",
       "      <th></th>\n",
       "      <th>index</th>\n",
       "      <th>tweets</th>\n",
       "      <th>emoji_sentence</th>\n",
       "      <th>follows?</th>\n",
       "    </tr>\n",
       "  </thead>\n",
       "  <tbody>\n",
       "    <tr>\n",
       "      <th>0</th>\n",
       "      <td>6704</td>\n",
       "      <td>good morning [USER] you woke up so early  anyw...</td>\n",
       "      <td>😶😊💚</td>\n",
       "      <td>1</td>\n",
       "    </tr>\n",
       "    <tr>\n",
       "      <th>1</th>\n",
       "      <td>10651</td>\n",
       "      <td>MVP  4x Scoring champ  3x All NBA FIRST TEAM 3...</td>\n",
       "      <td>✅✅✅✅</td>\n",
       "      <td>1</td>\n",
       "    </tr>\n",
       "    <tr>\n",
       "      <th>2</th>\n",
       "      <td>6345</td>\n",
       "      <td>[USER] Your tears baby boy ...Sleep sad</td>\n",
       "      <td>🌚🌚👌</td>\n",
       "      <td>1</td>\n",
       "    </tr>\n",
       "    <tr>\n",
       "      <th>3</th>\n",
       "      <td>5268</td>\n",
       "      <td>15 php ---&amp;gt; Follow [USER] ---&amp;gt; RT &amp;amp; ...</td>\n",
       "      <td>💗📌</td>\n",
       "      <td>1</td>\n",
       "    </tr>\n",
       "    <tr>\n",
       "      <th>4</th>\n",
       "      <td>5897</td>\n",
       "      <td>this emoji looks like sia</td>\n",
       "      <td>😭🍙🍙🍙🍙🍙🍙🍙🍙🍙🍙🍙🍙🍙🍙🍙🍙🍙🍙🍙🍙🍙</td>\n",
       "      <td>1</td>\n",
       "    </tr>\n",
       "  </tbody>\n",
       "</table>\n",
       "</div>"
      ],
      "text/plain": [
       "   index                                             tweets  \\\n",
       "0   6704  good morning [USER] you woke up so early  anyw...   \n",
       "1  10651  MVP  4x Scoring champ  3x All NBA FIRST TEAM 3...   \n",
       "2   6345           [USER] Your tears baby boy ...Sleep sad    \n",
       "3   5268  15 php ---&gt; Follow [USER] ---&gt; RT &amp; ...   \n",
       "4   5897                        this emoji looks like sia     \n",
       "\n",
       "           emoji_sentence  follows?  \n",
       "0                     😶😊💚         1  \n",
       "1                    ✅✅✅✅         1  \n",
       "2                     🌚🌚👌         1  \n",
       "3                      💗📌         1  \n",
       "4  😭🍙🍙🍙🍙🍙🍙🍙🍙🍙🍙🍙🍙🍙🍙🍙🍙🍙🍙🍙🍙🍙         1  "
      ]
     },
     "execution_count": 37,
     "metadata": {},
     "output_type": "execute_result"
    }
   ],
   "source": [
    "a.head()"
   ]
  }
 ],
 "metadata": {
  "kernelspec": {
   "display_name": "Python 3",
   "language": "python",
   "name": "python3"
  },
  "language_info": {
   "codemirror_mode": {
    "name": "ipython",
    "version": 3
   },
   "file_extension": ".py",
   "mimetype": "text/x-python",
   "name": "python",
   "nbconvert_exporter": "python",
   "pygments_lexer": "ipython3",
   "version": "3.6.5"
  }
 },
 "nbformat": 4,
 "nbformat_minor": 2
}
