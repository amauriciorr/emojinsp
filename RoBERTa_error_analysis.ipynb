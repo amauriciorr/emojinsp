{
  "nbformat": 4,
  "nbformat_minor": 0,
  "metadata": {
    "colab": {
      "name": "RoBERTa_error_analysis.ipynb",
      "provenance": []
    },
    "kernelspec": {
      "name": "python3",
      "display_name": "Python 3"
    },
    "language_info": {
      "name": "python"
    },
    "accelerator": "GPU",
    "widgets": {
      "application/vnd.jupyter.widget-state+json": {
        "26afde42f4324c8da89cbdcb7a1517f5": {
          "model_module": "@jupyter-widgets/controls",
          "model_name": "HBoxModel",
          "state": {
            "_view_name": "HBoxView",
            "_dom_classes": [],
            "_model_name": "HBoxModel",
            "_view_module": "@jupyter-widgets/controls",
            "_model_module_version": "1.5.0",
            "_view_count": null,
            "_view_module_version": "1.5.0",
            "box_style": "",
            "layout": "IPY_MODEL_d3679e5d6460464a8b663c95f8ab44d4",
            "_model_module": "@jupyter-widgets/controls",
            "children": [
              "IPY_MODEL_23d53d08f2794d198b54586eaec59fde",
              "IPY_MODEL_ccaf6fdf8fe744deb5b1c08bc04b50b6"
            ]
          }
        },
        "d3679e5d6460464a8b663c95f8ab44d4": {
          "model_module": "@jupyter-widgets/base",
          "model_name": "LayoutModel",
          "state": {
            "_view_name": "LayoutView",
            "grid_template_rows": null,
            "right": null,
            "justify_content": null,
            "_view_module": "@jupyter-widgets/base",
            "overflow": null,
            "_model_module_version": "1.2.0",
            "_view_count": null,
            "flex_flow": null,
            "width": null,
            "min_width": null,
            "border": null,
            "align_items": null,
            "bottom": null,
            "_model_module": "@jupyter-widgets/base",
            "top": null,
            "grid_column": null,
            "overflow_y": null,
            "overflow_x": null,
            "grid_auto_flow": null,
            "grid_area": null,
            "grid_template_columns": null,
            "flex": null,
            "_model_name": "LayoutModel",
            "justify_items": null,
            "grid_row": null,
            "max_height": null,
            "align_content": null,
            "visibility": null,
            "align_self": null,
            "height": null,
            "min_height": null,
            "padding": null,
            "grid_auto_rows": null,
            "grid_gap": null,
            "max_width": null,
            "order": null,
            "_view_module_version": "1.2.0",
            "grid_template_areas": null,
            "object_position": null,
            "object_fit": null,
            "grid_auto_columns": null,
            "margin": null,
            "display": null,
            "left": null
          }
        },
        "23d53d08f2794d198b54586eaec59fde": {
          "model_module": "@jupyter-widgets/controls",
          "model_name": "FloatProgressModel",
          "state": {
            "_view_name": "ProgressView",
            "style": "IPY_MODEL_dba07cdcbb454920a6dd8bfbf4bd3f62",
            "_dom_classes": [],
            "description": "Downloading: 100%",
            "_model_name": "FloatProgressModel",
            "bar_style": "success",
            "max": 565,
            "_view_module": "@jupyter-widgets/controls",
            "_model_module_version": "1.5.0",
            "value": 565,
            "_view_count": null,
            "_view_module_version": "1.5.0",
            "orientation": "horizontal",
            "min": 0,
            "description_tooltip": null,
            "_model_module": "@jupyter-widgets/controls",
            "layout": "IPY_MODEL_2c90eb4c68cd498a98b2478ba2c7ead5"
          }
        },
        "ccaf6fdf8fe744deb5b1c08bc04b50b6": {
          "model_module": "@jupyter-widgets/controls",
          "model_name": "HTMLModel",
          "state": {
            "_view_name": "HTMLView",
            "style": "IPY_MODEL_664968718849418880d2d769fff8af75",
            "_dom_classes": [],
            "description": "",
            "_model_name": "HTMLModel",
            "placeholder": "​",
            "_view_module": "@jupyter-widgets/controls",
            "_model_module_version": "1.5.0",
            "value": " 565/565 [00:00&lt;00:00, 1.08kB/s]",
            "_view_count": null,
            "_view_module_version": "1.5.0",
            "description_tooltip": null,
            "_model_module": "@jupyter-widgets/controls",
            "layout": "IPY_MODEL_bcdd74826738482e9aa1d610e0332828"
          }
        },
        "dba07cdcbb454920a6dd8bfbf4bd3f62": {
          "model_module": "@jupyter-widgets/controls",
          "model_name": "ProgressStyleModel",
          "state": {
            "_view_name": "StyleView",
            "_model_name": "ProgressStyleModel",
            "description_width": "initial",
            "_view_module": "@jupyter-widgets/base",
            "_model_module_version": "1.5.0",
            "_view_count": null,
            "_view_module_version": "1.2.0",
            "bar_color": null,
            "_model_module": "@jupyter-widgets/controls"
          }
        },
        "2c90eb4c68cd498a98b2478ba2c7ead5": {
          "model_module": "@jupyter-widgets/base",
          "model_name": "LayoutModel",
          "state": {
            "_view_name": "LayoutView",
            "grid_template_rows": null,
            "right": null,
            "justify_content": null,
            "_view_module": "@jupyter-widgets/base",
            "overflow": null,
            "_model_module_version": "1.2.0",
            "_view_count": null,
            "flex_flow": null,
            "width": null,
            "min_width": null,
            "border": null,
            "align_items": null,
            "bottom": null,
            "_model_module": "@jupyter-widgets/base",
            "top": null,
            "grid_column": null,
            "overflow_y": null,
            "overflow_x": null,
            "grid_auto_flow": null,
            "grid_area": null,
            "grid_template_columns": null,
            "flex": null,
            "_model_name": "LayoutModel",
            "justify_items": null,
            "grid_row": null,
            "max_height": null,
            "align_content": null,
            "visibility": null,
            "align_self": null,
            "height": null,
            "min_height": null,
            "padding": null,
            "grid_auto_rows": null,
            "grid_gap": null,
            "max_width": null,
            "order": null,
            "_view_module_version": "1.2.0",
            "grid_template_areas": null,
            "object_position": null,
            "object_fit": null,
            "grid_auto_columns": null,
            "margin": null,
            "display": null,
            "left": null
          }
        },
        "664968718849418880d2d769fff8af75": {
          "model_module": "@jupyter-widgets/controls",
          "model_name": "DescriptionStyleModel",
          "state": {
            "_view_name": "StyleView",
            "_model_name": "DescriptionStyleModel",
            "description_width": "",
            "_view_module": "@jupyter-widgets/base",
            "_model_module_version": "1.5.0",
            "_view_count": null,
            "_view_module_version": "1.2.0",
            "_model_module": "@jupyter-widgets/controls"
          }
        },
        "bcdd74826738482e9aa1d610e0332828": {
          "model_module": "@jupyter-widgets/base",
          "model_name": "LayoutModel",
          "state": {
            "_view_name": "LayoutView",
            "grid_template_rows": null,
            "right": null,
            "justify_content": null,
            "_view_module": "@jupyter-widgets/base",
            "overflow": null,
            "_model_module_version": "1.2.0",
            "_view_count": null,
            "flex_flow": null,
            "width": null,
            "min_width": null,
            "border": null,
            "align_items": null,
            "bottom": null,
            "_model_module": "@jupyter-widgets/base",
            "top": null,
            "grid_column": null,
            "overflow_y": null,
            "overflow_x": null,
            "grid_auto_flow": null,
            "grid_area": null,
            "grid_template_columns": null,
            "flex": null,
            "_model_name": "LayoutModel",
            "justify_items": null,
            "grid_row": null,
            "max_height": null,
            "align_content": null,
            "visibility": null,
            "align_self": null,
            "height": null,
            "min_height": null,
            "padding": null,
            "grid_auto_rows": null,
            "grid_gap": null,
            "max_width": null,
            "order": null,
            "_view_module_version": "1.2.0",
            "grid_template_areas": null,
            "object_position": null,
            "object_fit": null,
            "grid_auto_columns": null,
            "margin": null,
            "display": null,
            "left": null
          }
        },
        "904317f6db0643068262e49aee58fb20": {
          "model_module": "@jupyter-widgets/controls",
          "model_name": "HBoxModel",
          "state": {
            "_view_name": "HBoxView",
            "_dom_classes": [],
            "_model_name": "HBoxModel",
            "_view_module": "@jupyter-widgets/controls",
            "_model_module_version": "1.5.0",
            "_view_count": null,
            "_view_module_version": "1.5.0",
            "box_style": "",
            "layout": "IPY_MODEL_8724462884374be8a3c1630320031bc1",
            "_model_module": "@jupyter-widgets/controls",
            "children": [
              "IPY_MODEL_820bae1afb7f43b38ed040af445ce377",
              "IPY_MODEL_8fe12e56b3044c5e8382579e50485d52"
            ]
          }
        },
        "8724462884374be8a3c1630320031bc1": {
          "model_module": "@jupyter-widgets/base",
          "model_name": "LayoutModel",
          "state": {
            "_view_name": "LayoutView",
            "grid_template_rows": null,
            "right": null,
            "justify_content": null,
            "_view_module": "@jupyter-widgets/base",
            "overflow": null,
            "_model_module_version": "1.2.0",
            "_view_count": null,
            "flex_flow": null,
            "width": null,
            "min_width": null,
            "border": null,
            "align_items": null,
            "bottom": null,
            "_model_module": "@jupyter-widgets/base",
            "top": null,
            "grid_column": null,
            "overflow_y": null,
            "overflow_x": null,
            "grid_auto_flow": null,
            "grid_area": null,
            "grid_template_columns": null,
            "flex": null,
            "_model_name": "LayoutModel",
            "justify_items": null,
            "grid_row": null,
            "max_height": null,
            "align_content": null,
            "visibility": null,
            "align_self": null,
            "height": null,
            "min_height": null,
            "padding": null,
            "grid_auto_rows": null,
            "grid_gap": null,
            "max_width": null,
            "order": null,
            "_view_module_version": "1.2.0",
            "grid_template_areas": null,
            "object_position": null,
            "object_fit": null,
            "grid_auto_columns": null,
            "margin": null,
            "display": null,
            "left": null
          }
        },
        "820bae1afb7f43b38ed040af445ce377": {
          "model_module": "@jupyter-widgets/controls",
          "model_name": "FloatProgressModel",
          "state": {
            "_view_name": "ProgressView",
            "style": "IPY_MODEL_0a6b85f2d91d409fa099820d219a897d",
            "_dom_classes": [],
            "description": "Downloading: 100%",
            "_model_name": "FloatProgressModel",
            "bar_style": "success",
            "max": 501204462,
            "_view_module": "@jupyter-widgets/controls",
            "_model_module_version": "1.5.0",
            "value": 501204462,
            "_view_count": null,
            "_view_module_version": "1.5.0",
            "orientation": "horizontal",
            "min": 0,
            "description_tooltip": null,
            "_model_module": "@jupyter-widgets/controls",
            "layout": "IPY_MODEL_ae0a8e3cd3b7474295a5df20872d4ed2"
          }
        },
        "8fe12e56b3044c5e8382579e50485d52": {
          "model_module": "@jupyter-widgets/controls",
          "model_name": "HTMLModel",
          "state": {
            "_view_name": "HTMLView",
            "style": "IPY_MODEL_34c4cb1db5fd4866a4a8b46d89c7a66f",
            "_dom_classes": [],
            "description": "",
            "_model_name": "HTMLModel",
            "placeholder": "​",
            "_view_module": "@jupyter-widgets/controls",
            "_model_module_version": "1.5.0",
            "value": " 501M/501M [00:30&lt;00:00, 16.6MB/s]",
            "_view_count": null,
            "_view_module_version": "1.5.0",
            "description_tooltip": null,
            "_model_module": "@jupyter-widgets/controls",
            "layout": "IPY_MODEL_e4eda2c459d34f0bb5cc9b0254551157"
          }
        },
        "0a6b85f2d91d409fa099820d219a897d": {
          "model_module": "@jupyter-widgets/controls",
          "model_name": "ProgressStyleModel",
          "state": {
            "_view_name": "StyleView",
            "_model_name": "ProgressStyleModel",
            "description_width": "initial",
            "_view_module": "@jupyter-widgets/base",
            "_model_module_version": "1.5.0",
            "_view_count": null,
            "_view_module_version": "1.2.0",
            "bar_color": null,
            "_model_module": "@jupyter-widgets/controls"
          }
        },
        "ae0a8e3cd3b7474295a5df20872d4ed2": {
          "model_module": "@jupyter-widgets/base",
          "model_name": "LayoutModel",
          "state": {
            "_view_name": "LayoutView",
            "grid_template_rows": null,
            "right": null,
            "justify_content": null,
            "_view_module": "@jupyter-widgets/base",
            "overflow": null,
            "_model_module_version": "1.2.0",
            "_view_count": null,
            "flex_flow": null,
            "width": null,
            "min_width": null,
            "border": null,
            "align_items": null,
            "bottom": null,
            "_model_module": "@jupyter-widgets/base",
            "top": null,
            "grid_column": null,
            "overflow_y": null,
            "overflow_x": null,
            "grid_auto_flow": null,
            "grid_area": null,
            "grid_template_columns": null,
            "flex": null,
            "_model_name": "LayoutModel",
            "justify_items": null,
            "grid_row": null,
            "max_height": null,
            "align_content": null,
            "visibility": null,
            "align_self": null,
            "height": null,
            "min_height": null,
            "padding": null,
            "grid_auto_rows": null,
            "grid_gap": null,
            "max_width": null,
            "order": null,
            "_view_module_version": "1.2.0",
            "grid_template_areas": null,
            "object_position": null,
            "object_fit": null,
            "grid_auto_columns": null,
            "margin": null,
            "display": null,
            "left": null
          }
        },
        "34c4cb1db5fd4866a4a8b46d89c7a66f": {
          "model_module": "@jupyter-widgets/controls",
          "model_name": "DescriptionStyleModel",
          "state": {
            "_view_name": "StyleView",
            "_model_name": "DescriptionStyleModel",
            "description_width": "",
            "_view_module": "@jupyter-widgets/base",
            "_model_module_version": "1.5.0",
            "_view_count": null,
            "_view_module_version": "1.2.0",
            "_model_module": "@jupyter-widgets/controls"
          }
        },
        "e4eda2c459d34f0bb5cc9b0254551157": {
          "model_module": "@jupyter-widgets/base",
          "model_name": "LayoutModel",
          "state": {
            "_view_name": "LayoutView",
            "grid_template_rows": null,
            "right": null,
            "justify_content": null,
            "_view_module": "@jupyter-widgets/base",
            "overflow": null,
            "_model_module_version": "1.2.0",
            "_view_count": null,
            "flex_flow": null,
            "width": null,
            "min_width": null,
            "border": null,
            "align_items": null,
            "bottom": null,
            "_model_module": "@jupyter-widgets/base",
            "top": null,
            "grid_column": null,
            "overflow_y": null,
            "overflow_x": null,
            "grid_auto_flow": null,
            "grid_area": null,
            "grid_template_columns": null,
            "flex": null,
            "_model_name": "LayoutModel",
            "justify_items": null,
            "grid_row": null,
            "max_height": null,
            "align_content": null,
            "visibility": null,
            "align_self": null,
            "height": null,
            "min_height": null,
            "padding": null,
            "grid_auto_rows": null,
            "grid_gap": null,
            "max_width": null,
            "order": null,
            "_view_module_version": "1.2.0",
            "grid_template_areas": null,
            "object_position": null,
            "object_fit": null,
            "grid_auto_columns": null,
            "margin": null,
            "display": null,
            "left": null
          }
        },
        "1bb88476821245aca24c3c49ce67fb10": {
          "model_module": "@jupyter-widgets/controls",
          "model_name": "HBoxModel",
          "state": {
            "_view_name": "HBoxView",
            "_dom_classes": [],
            "_model_name": "HBoxModel",
            "_view_module": "@jupyter-widgets/controls",
            "_model_module_version": "1.5.0",
            "_view_count": null,
            "_view_module_version": "1.5.0",
            "box_style": "",
            "layout": "IPY_MODEL_e9ed07d1416c4e7dac38b9e4978782da",
            "_model_module": "@jupyter-widgets/controls",
            "children": [
              "IPY_MODEL_28e883adbb2740d09235ed833d14cca3",
              "IPY_MODEL_33ab29be33104c6b90e718598f26424c"
            ]
          }
        },
        "e9ed07d1416c4e7dac38b9e4978782da": {
          "model_module": "@jupyter-widgets/base",
          "model_name": "LayoutModel",
          "state": {
            "_view_name": "LayoutView",
            "grid_template_rows": null,
            "right": null,
            "justify_content": null,
            "_view_module": "@jupyter-widgets/base",
            "overflow": null,
            "_model_module_version": "1.2.0",
            "_view_count": null,
            "flex_flow": null,
            "width": null,
            "min_width": null,
            "border": null,
            "align_items": null,
            "bottom": null,
            "_model_module": "@jupyter-widgets/base",
            "top": null,
            "grid_column": null,
            "overflow_y": null,
            "overflow_x": null,
            "grid_auto_flow": null,
            "grid_area": null,
            "grid_template_columns": null,
            "flex": null,
            "_model_name": "LayoutModel",
            "justify_items": null,
            "grid_row": null,
            "max_height": null,
            "align_content": null,
            "visibility": null,
            "align_self": null,
            "height": null,
            "min_height": null,
            "padding": null,
            "grid_auto_rows": null,
            "grid_gap": null,
            "max_width": null,
            "order": null,
            "_view_module_version": "1.2.0",
            "grid_template_areas": null,
            "object_position": null,
            "object_fit": null,
            "grid_auto_columns": null,
            "margin": null,
            "display": null,
            "left": null
          }
        },
        "28e883adbb2740d09235ed833d14cca3": {
          "model_module": "@jupyter-widgets/controls",
          "model_name": "FloatProgressModel",
          "state": {
            "_view_name": "ProgressView",
            "style": "IPY_MODEL_ada9e423b6dc4220aa6ccdbc6be45df4",
            "_dom_classes": [],
            "description": "Downloading: 100%",
            "_model_name": "FloatProgressModel",
            "bar_style": "success",
            "max": 898823,
            "_view_module": "@jupyter-widgets/controls",
            "_model_module_version": "1.5.0",
            "value": 898823,
            "_view_count": null,
            "_view_module_version": "1.5.0",
            "orientation": "horizontal",
            "min": 0,
            "description_tooltip": null,
            "_model_module": "@jupyter-widgets/controls",
            "layout": "IPY_MODEL_2ee4091d906540e098b01962e683eb37"
          }
        },
        "33ab29be33104c6b90e718598f26424c": {
          "model_module": "@jupyter-widgets/controls",
          "model_name": "HTMLModel",
          "state": {
            "_view_name": "HTMLView",
            "style": "IPY_MODEL_90656996066043b8bdf8a40b2795bf81",
            "_dom_classes": [],
            "description": "",
            "_model_name": "HTMLModel",
            "placeholder": "​",
            "_view_module": "@jupyter-widgets/controls",
            "_model_module_version": "1.5.0",
            "value": " 899k/899k [00:00&lt;00:00, 7.31MB/s]",
            "_view_count": null,
            "_view_module_version": "1.5.0",
            "description_tooltip": null,
            "_model_module": "@jupyter-widgets/controls",
            "layout": "IPY_MODEL_4672503b3a4840fab997f0b529ffd156"
          }
        },
        "ada9e423b6dc4220aa6ccdbc6be45df4": {
          "model_module": "@jupyter-widgets/controls",
          "model_name": "ProgressStyleModel",
          "state": {
            "_view_name": "StyleView",
            "_model_name": "ProgressStyleModel",
            "description_width": "initial",
            "_view_module": "@jupyter-widgets/base",
            "_model_module_version": "1.5.0",
            "_view_count": null,
            "_view_module_version": "1.2.0",
            "bar_color": null,
            "_model_module": "@jupyter-widgets/controls"
          }
        },
        "2ee4091d906540e098b01962e683eb37": {
          "model_module": "@jupyter-widgets/base",
          "model_name": "LayoutModel",
          "state": {
            "_view_name": "LayoutView",
            "grid_template_rows": null,
            "right": null,
            "justify_content": null,
            "_view_module": "@jupyter-widgets/base",
            "overflow": null,
            "_model_module_version": "1.2.0",
            "_view_count": null,
            "flex_flow": null,
            "width": null,
            "min_width": null,
            "border": null,
            "align_items": null,
            "bottom": null,
            "_model_module": "@jupyter-widgets/base",
            "top": null,
            "grid_column": null,
            "overflow_y": null,
            "overflow_x": null,
            "grid_auto_flow": null,
            "grid_area": null,
            "grid_template_columns": null,
            "flex": null,
            "_model_name": "LayoutModel",
            "justify_items": null,
            "grid_row": null,
            "max_height": null,
            "align_content": null,
            "visibility": null,
            "align_self": null,
            "height": null,
            "min_height": null,
            "padding": null,
            "grid_auto_rows": null,
            "grid_gap": null,
            "max_width": null,
            "order": null,
            "_view_module_version": "1.2.0",
            "grid_template_areas": null,
            "object_position": null,
            "object_fit": null,
            "grid_auto_columns": null,
            "margin": null,
            "display": null,
            "left": null
          }
        },
        "90656996066043b8bdf8a40b2795bf81": {
          "model_module": "@jupyter-widgets/controls",
          "model_name": "DescriptionStyleModel",
          "state": {
            "_view_name": "StyleView",
            "_model_name": "DescriptionStyleModel",
            "description_width": "",
            "_view_module": "@jupyter-widgets/base",
            "_model_module_version": "1.5.0",
            "_view_count": null,
            "_view_module_version": "1.2.0",
            "_model_module": "@jupyter-widgets/controls"
          }
        },
        "4672503b3a4840fab997f0b529ffd156": {
          "model_module": "@jupyter-widgets/base",
          "model_name": "LayoutModel",
          "state": {
            "_view_name": "LayoutView",
            "grid_template_rows": null,
            "right": null,
            "justify_content": null,
            "_view_module": "@jupyter-widgets/base",
            "overflow": null,
            "_model_module_version": "1.2.0",
            "_view_count": null,
            "flex_flow": null,
            "width": null,
            "min_width": null,
            "border": null,
            "align_items": null,
            "bottom": null,
            "_model_module": "@jupyter-widgets/base",
            "top": null,
            "grid_column": null,
            "overflow_y": null,
            "overflow_x": null,
            "grid_auto_flow": null,
            "grid_area": null,
            "grid_template_columns": null,
            "flex": null,
            "_model_name": "LayoutModel",
            "justify_items": null,
            "grid_row": null,
            "max_height": null,
            "align_content": null,
            "visibility": null,
            "align_self": null,
            "height": null,
            "min_height": null,
            "padding": null,
            "grid_auto_rows": null,
            "grid_gap": null,
            "max_width": null,
            "order": null,
            "_view_module_version": "1.2.0",
            "grid_template_areas": null,
            "object_position": null,
            "object_fit": null,
            "grid_auto_columns": null,
            "margin": null,
            "display": null,
            "left": null
          }
        },
        "a918e213fffc48d08d752a93477f8749": {
          "model_module": "@jupyter-widgets/controls",
          "model_name": "HBoxModel",
          "state": {
            "_view_name": "HBoxView",
            "_dom_classes": [],
            "_model_name": "HBoxModel",
            "_view_module": "@jupyter-widgets/controls",
            "_model_module_version": "1.5.0",
            "_view_count": null,
            "_view_module_version": "1.5.0",
            "box_style": "",
            "layout": "IPY_MODEL_1310f90770e24cdc8657b295efef99de",
            "_model_module": "@jupyter-widgets/controls",
            "children": [
              "IPY_MODEL_2c6b82bbad284cc3a07bff82ce67393b",
              "IPY_MODEL_9c1f17cd41604616bdff3e31dce2ac67"
            ]
          }
        },
        "1310f90770e24cdc8657b295efef99de": {
          "model_module": "@jupyter-widgets/base",
          "model_name": "LayoutModel",
          "state": {
            "_view_name": "LayoutView",
            "grid_template_rows": null,
            "right": null,
            "justify_content": null,
            "_view_module": "@jupyter-widgets/base",
            "overflow": null,
            "_model_module_version": "1.2.0",
            "_view_count": null,
            "flex_flow": null,
            "width": null,
            "min_width": null,
            "border": null,
            "align_items": null,
            "bottom": null,
            "_model_module": "@jupyter-widgets/base",
            "top": null,
            "grid_column": null,
            "overflow_y": null,
            "overflow_x": null,
            "grid_auto_flow": null,
            "grid_area": null,
            "grid_template_columns": null,
            "flex": null,
            "_model_name": "LayoutModel",
            "justify_items": null,
            "grid_row": null,
            "max_height": null,
            "align_content": null,
            "visibility": null,
            "align_self": null,
            "height": null,
            "min_height": null,
            "padding": null,
            "grid_auto_rows": null,
            "grid_gap": null,
            "max_width": null,
            "order": null,
            "_view_module_version": "1.2.0",
            "grid_template_areas": null,
            "object_position": null,
            "object_fit": null,
            "grid_auto_columns": null,
            "margin": null,
            "display": null,
            "left": null
          }
        },
        "2c6b82bbad284cc3a07bff82ce67393b": {
          "model_module": "@jupyter-widgets/controls",
          "model_name": "FloatProgressModel",
          "state": {
            "_view_name": "ProgressView",
            "style": "IPY_MODEL_7f8946946eec47b18fda18334ddbf8ab",
            "_dom_classes": [],
            "description": "Downloading: 100%",
            "_model_name": "FloatProgressModel",
            "bar_style": "success",
            "max": 456318,
            "_view_module": "@jupyter-widgets/controls",
            "_model_module_version": "1.5.0",
            "value": 456318,
            "_view_count": null,
            "_view_module_version": "1.5.0",
            "orientation": "horizontal",
            "min": 0,
            "description_tooltip": null,
            "_model_module": "@jupyter-widgets/controls",
            "layout": "IPY_MODEL_fb3bdc2a393a47d28c938d4fb2c6162f"
          }
        },
        "9c1f17cd41604616bdff3e31dce2ac67": {
          "model_module": "@jupyter-widgets/controls",
          "model_name": "HTMLModel",
          "state": {
            "_view_name": "HTMLView",
            "style": "IPY_MODEL_ec1b2ac3b36c419bbccc78ad3a29108a",
            "_dom_classes": [],
            "description": "",
            "_model_name": "HTMLModel",
            "placeholder": "​",
            "_view_module": "@jupyter-widgets/controls",
            "_model_module_version": "1.5.0",
            "value": " 456k/456k [00:00&lt;00:00, 2.45MB/s]",
            "_view_count": null,
            "_view_module_version": "1.5.0",
            "description_tooltip": null,
            "_model_module": "@jupyter-widgets/controls",
            "layout": "IPY_MODEL_c6148d6939634daa8217d098ebd27062"
          }
        },
        "7f8946946eec47b18fda18334ddbf8ab": {
          "model_module": "@jupyter-widgets/controls",
          "model_name": "ProgressStyleModel",
          "state": {
            "_view_name": "StyleView",
            "_model_name": "ProgressStyleModel",
            "description_width": "initial",
            "_view_module": "@jupyter-widgets/base",
            "_model_module_version": "1.5.0",
            "_view_count": null,
            "_view_module_version": "1.2.0",
            "bar_color": null,
            "_model_module": "@jupyter-widgets/controls"
          }
        },
        "fb3bdc2a393a47d28c938d4fb2c6162f": {
          "model_module": "@jupyter-widgets/base",
          "model_name": "LayoutModel",
          "state": {
            "_view_name": "LayoutView",
            "grid_template_rows": null,
            "right": null,
            "justify_content": null,
            "_view_module": "@jupyter-widgets/base",
            "overflow": null,
            "_model_module_version": "1.2.0",
            "_view_count": null,
            "flex_flow": null,
            "width": null,
            "min_width": null,
            "border": null,
            "align_items": null,
            "bottom": null,
            "_model_module": "@jupyter-widgets/base",
            "top": null,
            "grid_column": null,
            "overflow_y": null,
            "overflow_x": null,
            "grid_auto_flow": null,
            "grid_area": null,
            "grid_template_columns": null,
            "flex": null,
            "_model_name": "LayoutModel",
            "justify_items": null,
            "grid_row": null,
            "max_height": null,
            "align_content": null,
            "visibility": null,
            "align_self": null,
            "height": null,
            "min_height": null,
            "padding": null,
            "grid_auto_rows": null,
            "grid_gap": null,
            "max_width": null,
            "order": null,
            "_view_module_version": "1.2.0",
            "grid_template_areas": null,
            "object_position": null,
            "object_fit": null,
            "grid_auto_columns": null,
            "margin": null,
            "display": null,
            "left": null
          }
        },
        "ec1b2ac3b36c419bbccc78ad3a29108a": {
          "model_module": "@jupyter-widgets/controls",
          "model_name": "DescriptionStyleModel",
          "state": {
            "_view_name": "StyleView",
            "_model_name": "DescriptionStyleModel",
            "description_width": "",
            "_view_module": "@jupyter-widgets/base",
            "_model_module_version": "1.5.0",
            "_view_count": null,
            "_view_module_version": "1.2.0",
            "_model_module": "@jupyter-widgets/controls"
          }
        },
        "c6148d6939634daa8217d098ebd27062": {
          "model_module": "@jupyter-widgets/base",
          "model_name": "LayoutModel",
          "state": {
            "_view_name": "LayoutView",
            "grid_template_rows": null,
            "right": null,
            "justify_content": null,
            "_view_module": "@jupyter-widgets/base",
            "overflow": null,
            "_model_module_version": "1.2.0",
            "_view_count": null,
            "flex_flow": null,
            "width": null,
            "min_width": null,
            "border": null,
            "align_items": null,
            "bottom": null,
            "_model_module": "@jupyter-widgets/base",
            "top": null,
            "grid_column": null,
            "overflow_y": null,
            "overflow_x": null,
            "grid_auto_flow": null,
            "grid_area": null,
            "grid_template_columns": null,
            "flex": null,
            "_model_name": "LayoutModel",
            "justify_items": null,
            "grid_row": null,
            "max_height": null,
            "align_content": null,
            "visibility": null,
            "align_self": null,
            "height": null,
            "min_height": null,
            "padding": null,
            "grid_auto_rows": null,
            "grid_gap": null,
            "max_width": null,
            "order": null,
            "_view_module_version": "1.2.0",
            "grid_template_areas": null,
            "object_position": null,
            "object_fit": null,
            "grid_auto_columns": null,
            "margin": null,
            "display": null,
            "left": null
          }
        }
      }
    }
  },
  "cells": [
    {
      "cell_type": "code",
      "metadata": {
        "colab": {
          "base_uri": "https://localhost:8080/"
        },
        "id": "GM1iGuU-Hj-P",
        "outputId": "c72b33c2-c205-426f-f63b-de688c97c6a9"
      },
      "source": [
        "from google.colab import drive\n",
        "drive.mount('/content/drive')"
      ],
      "execution_count": 1,
      "outputs": [
        {
          "output_type": "stream",
          "text": [
            "Mounted at /content/drive\n"
          ],
          "name": "stdout"
        }
      ]
    },
    {
      "cell_type": "code",
      "metadata": {
        "colab": {
          "base_uri": "https://localhost:8080/"
        },
        "id": "ZerlDTvSI2CB",
        "outputId": "300c3d3e-80d6-45ca-eb7f-07b334fff0cd"
      },
      "source": [
        "!pip install transformers"
      ],
      "execution_count": 2,
      "outputs": [
        {
          "output_type": "stream",
          "text": [
            "Collecting transformers\n",
            "\u001b[?25l  Downloading https://files.pythonhosted.org/packages/d8/b2/57495b5309f09fa501866e225c84532d1fd89536ea62406b2181933fb418/transformers-4.5.1-py3-none-any.whl (2.1MB)\n",
            "\r\u001b[K     |▏                               | 10kB 19.6MB/s eta 0:00:01\r\u001b[K     |▎                               | 20kB 25.8MB/s eta 0:00:01\r\u001b[K     |▌                               | 30kB 25.0MB/s eta 0:00:01\r\u001b[K     |▋                               | 40kB 28.2MB/s eta 0:00:01\r\u001b[K     |▉                               | 51kB 22.2MB/s eta 0:00:01\r\u001b[K     |█                               | 61kB 18.8MB/s eta 0:00:01\r\u001b[K     |█▏                              | 71kB 17.5MB/s eta 0:00:01\r\u001b[K     |█▎                              | 81kB 17.2MB/s eta 0:00:01\r\u001b[K     |█▍                              | 92kB 16.4MB/s eta 0:00:01\r\u001b[K     |█▋                              | 102kB 16.0MB/s eta 0:00:01\r\u001b[K     |█▊                              | 112kB 16.0MB/s eta 0:00:01\r\u001b[K     |██                              | 122kB 16.0MB/s eta 0:00:01\r\u001b[K     |██                              | 133kB 16.0MB/s eta 0:00:01\r\u001b[K     |██▎                             | 143kB 16.0MB/s eta 0:00:01\r\u001b[K     |██▍                             | 153kB 16.0MB/s eta 0:00:01\r\u001b[K     |██▌                             | 163kB 16.0MB/s eta 0:00:01\r\u001b[K     |██▊                             | 174kB 16.0MB/s eta 0:00:01\r\u001b[K     |██▉                             | 184kB 16.0MB/s eta 0:00:01\r\u001b[K     |███                             | 194kB 16.0MB/s eta 0:00:01\r\u001b[K     |███▏                            | 204kB 16.0MB/s eta 0:00:01\r\u001b[K     |███▍                            | 215kB 16.0MB/s eta 0:00:01\r\u001b[K     |███▌                            | 225kB 16.0MB/s eta 0:00:01\r\u001b[K     |███▋                            | 235kB 16.0MB/s eta 0:00:01\r\u001b[K     |███▉                            | 245kB 16.0MB/s eta 0:00:01\r\u001b[K     |████                            | 256kB 16.0MB/s eta 0:00:01\r\u001b[K     |████▏                           | 266kB 16.0MB/s eta 0:00:01\r\u001b[K     |████▎                           | 276kB 16.0MB/s eta 0:00:01\r\u001b[K     |████▌                           | 286kB 16.0MB/s eta 0:00:01\r\u001b[K     |████▋                           | 296kB 16.0MB/s eta 0:00:01\r\u001b[K     |████▊                           | 307kB 16.0MB/s eta 0:00:01\r\u001b[K     |█████                           | 317kB 16.0MB/s eta 0:00:01\r\u001b[K     |█████                           | 327kB 16.0MB/s eta 0:00:01\r\u001b[K     |█████▎                          | 337kB 16.0MB/s eta 0:00:01\r\u001b[K     |█████▍                          | 348kB 16.0MB/s eta 0:00:01\r\u001b[K     |█████▋                          | 358kB 16.0MB/s eta 0:00:01\r\u001b[K     |█████▊                          | 368kB 16.0MB/s eta 0:00:01\r\u001b[K     |█████▉                          | 378kB 16.0MB/s eta 0:00:01\r\u001b[K     |██████                          | 389kB 16.0MB/s eta 0:00:01\r\u001b[K     |██████▏                         | 399kB 16.0MB/s eta 0:00:01\r\u001b[K     |██████▍                         | 409kB 16.0MB/s eta 0:00:01\r\u001b[K     |██████▌                         | 419kB 16.0MB/s eta 0:00:01\r\u001b[K     |██████▊                         | 430kB 16.0MB/s eta 0:00:01\r\u001b[K     |██████▉                         | 440kB 16.0MB/s eta 0:00:01\r\u001b[K     |███████                         | 450kB 16.0MB/s eta 0:00:01\r\u001b[K     |███████▏                        | 460kB 16.0MB/s eta 0:00:01\r\u001b[K     |███████▎                        | 471kB 16.0MB/s eta 0:00:01\r\u001b[K     |███████▌                        | 481kB 16.0MB/s eta 0:00:01\r\u001b[K     |███████▋                        | 491kB 16.0MB/s eta 0:00:01\r\u001b[K     |███████▉                        | 501kB 16.0MB/s eta 0:00:01\r\u001b[K     |████████                        | 512kB 16.0MB/s eta 0:00:01\r\u001b[K     |████████                        | 522kB 16.0MB/s eta 0:00:01\r\u001b[K     |████████▎                       | 532kB 16.0MB/s eta 0:00:01\r\u001b[K     |████████▍                       | 542kB 16.0MB/s eta 0:00:01\r\u001b[K     |████████▋                       | 552kB 16.0MB/s eta 0:00:01\r\u001b[K     |████████▊                       | 563kB 16.0MB/s eta 0:00:01\r\u001b[K     |█████████                       | 573kB 16.0MB/s eta 0:00:01\r\u001b[K     |█████████                       | 583kB 16.0MB/s eta 0:00:01\r\u001b[K     |█████████▎                      | 593kB 16.0MB/s eta 0:00:01\r\u001b[K     |█████████▍                      | 604kB 16.0MB/s eta 0:00:01\r\u001b[K     |█████████▌                      | 614kB 16.0MB/s eta 0:00:01\r\u001b[K     |█████████▊                      | 624kB 16.0MB/s eta 0:00:01\r\u001b[K     |█████████▉                      | 634kB 16.0MB/s eta 0:00:01\r\u001b[K     |██████████                      | 645kB 16.0MB/s eta 0:00:01\r\u001b[K     |██████████▏                     | 655kB 16.0MB/s eta 0:00:01\r\u001b[K     |██████████▍                     | 665kB 16.0MB/s eta 0:00:01\r\u001b[K     |██████████▌                     | 675kB 16.0MB/s eta 0:00:01\r\u001b[K     |██████████▋                     | 686kB 16.0MB/s eta 0:00:01\r\u001b[K     |██████████▉                     | 696kB 16.0MB/s eta 0:00:01\r\u001b[K     |███████████                     | 706kB 16.0MB/s eta 0:00:01\r\u001b[K     |███████████▏                    | 716kB 16.0MB/s eta 0:00:01\r\u001b[K     |███████████▎                    | 727kB 16.0MB/s eta 0:00:01\r\u001b[K     |███████████▌                    | 737kB 16.0MB/s eta 0:00:01\r\u001b[K     |███████████▋                    | 747kB 16.0MB/s eta 0:00:01\r\u001b[K     |███████████▊                    | 757kB 16.0MB/s eta 0:00:01\r\u001b[K     |████████████                    | 768kB 16.0MB/s eta 0:00:01\r\u001b[K     |████████████                    | 778kB 16.0MB/s eta 0:00:01\r\u001b[K     |████████████▎                   | 788kB 16.0MB/s eta 0:00:01\r\u001b[K     |████████████▍                   | 798kB 16.0MB/s eta 0:00:01\r\u001b[K     |████████████▋                   | 808kB 16.0MB/s eta 0:00:01\r\u001b[K     |████████████▊                   | 819kB 16.0MB/s eta 0:00:01\r\u001b[K     |████████████▉                   | 829kB 16.0MB/s eta 0:00:01\r\u001b[K     |█████████████                   | 839kB 16.0MB/s eta 0:00:01\r\u001b[K     |█████████████▏                  | 849kB 16.0MB/s eta 0:00:01\r\u001b[K     |█████████████▍                  | 860kB 16.0MB/s eta 0:00:01\r\u001b[K     |█████████████▌                  | 870kB 16.0MB/s eta 0:00:01\r\u001b[K     |█████████████▊                  | 880kB 16.0MB/s eta 0:00:01\r\u001b[K     |█████████████▉                  | 890kB 16.0MB/s eta 0:00:01\r\u001b[K     |██████████████                  | 901kB 16.0MB/s eta 0:00:01\r\u001b[K     |██████████████▏                 | 911kB 16.0MB/s eta 0:00:01\r\u001b[K     |██████████████▎                 | 921kB 16.0MB/s eta 0:00:01\r\u001b[K     |██████████████▌                 | 931kB 16.0MB/s eta 0:00:01\r\u001b[K     |██████████████▋                 | 942kB 16.0MB/s eta 0:00:01\r\u001b[K     |██████████████▉                 | 952kB 16.0MB/s eta 0:00:01\r\u001b[K     |███████████████                 | 962kB 16.0MB/s eta 0:00:01\r\u001b[K     |███████████████                 | 972kB 16.0MB/s eta 0:00:01\r\u001b[K     |███████████████▎                | 983kB 16.0MB/s eta 0:00:01\r\u001b[K     |███████████████▍                | 993kB 16.0MB/s eta 0:00:01\r\u001b[K     |███████████████▋                | 1.0MB 16.0MB/s eta 0:00:01\r\u001b[K     |███████████████▊                | 1.0MB 16.0MB/s eta 0:00:01\r\u001b[K     |████████████████                | 1.0MB 16.0MB/s eta 0:00:01\r\u001b[K     |████████████████                | 1.0MB 16.0MB/s eta 0:00:01\r\u001b[K     |████████████████▏               | 1.0MB 16.0MB/s eta 0:00:01\r\u001b[K     |████████████████▍               | 1.1MB 16.0MB/s eta 0:00:01\r\u001b[K     |████████████████▌               | 1.1MB 16.0MB/s eta 0:00:01\r\u001b[K     |████████████████▊               | 1.1MB 16.0MB/s eta 0:00:01\r\u001b[K     |████████████████▉               | 1.1MB 16.0MB/s eta 0:00:01\r\u001b[K     |█████████████████               | 1.1MB 16.0MB/s eta 0:00:01\r\u001b[K     |█████████████████▏              | 1.1MB 16.0MB/s eta 0:00:01\r\u001b[K     |█████████████████▍              | 1.1MB 16.0MB/s eta 0:00:01\r\u001b[K     |█████████████████▌              | 1.1MB 16.0MB/s eta 0:00:01\r\u001b[K     |█████████████████▋              | 1.1MB 16.0MB/s eta 0:00:01\r\u001b[K     |█████████████████▉              | 1.1MB 16.0MB/s eta 0:00:01\r\u001b[K     |██████████████████              | 1.2MB 16.0MB/s eta 0:00:01\r\u001b[K     |██████████████████▏             | 1.2MB 16.0MB/s eta 0:00:01\r\u001b[K     |██████████████████▎             | 1.2MB 16.0MB/s eta 0:00:01\r\u001b[K     |██████████████████▌             | 1.2MB 16.0MB/s eta 0:00:01\r\u001b[K     |██████████████████▋             | 1.2MB 16.0MB/s eta 0:00:01\r\u001b[K     |██████████████████▊             | 1.2MB 16.0MB/s eta 0:00:01\r\u001b[K     |███████████████████             | 1.2MB 16.0MB/s eta 0:00:01\r\u001b[K     |███████████████████             | 1.2MB 16.0MB/s eta 0:00:01\r\u001b[K     |███████████████████▎            | 1.2MB 16.0MB/s eta 0:00:01\r\u001b[K     |███████████████████▍            | 1.2MB 16.0MB/s eta 0:00:01\r\u001b[K     |███████████████████▋            | 1.3MB 16.0MB/s eta 0:00:01\r\u001b[K     |███████████████████▊            | 1.3MB 16.0MB/s eta 0:00:01\r\u001b[K     |███████████████████▉            | 1.3MB 16.0MB/s eta 0:00:01\r\u001b[K     |████████████████████            | 1.3MB 16.0MB/s eta 0:00:01\r\u001b[K     |████████████████████▏           | 1.3MB 16.0MB/s eta 0:00:01\r\u001b[K     |████████████████████▍           | 1.3MB 16.0MB/s eta 0:00:01\r\u001b[K     |████████████████████▌           | 1.3MB 16.0MB/s eta 0:00:01\r\u001b[K     |████████████████████▊           | 1.3MB 16.0MB/s eta 0:00:01\r\u001b[K     |████████████████████▉           | 1.3MB 16.0MB/s eta 0:00:01\r\u001b[K     |█████████████████████           | 1.4MB 16.0MB/s eta 0:00:01\r\u001b[K     |█████████████████████▏          | 1.4MB 16.0MB/s eta 0:00:01\r\u001b[K     |█████████████████████▎          | 1.4MB 16.0MB/s eta 0:00:01\r\u001b[K     |█████████████████████▌          | 1.4MB 16.0MB/s eta 0:00:01\r\u001b[K     |█████████████████████▋          | 1.4MB 16.0MB/s eta 0:00:01\r\u001b[K     |█████████████████████▉          | 1.4MB 16.0MB/s eta 0:00:01\r\u001b[K     |██████████████████████          | 1.4MB 16.0MB/s eta 0:00:01\r\u001b[K     |██████████████████████          | 1.4MB 16.0MB/s eta 0:00:01\r\u001b[K     |██████████████████████▎         | 1.4MB 16.0MB/s eta 0:00:01\r\u001b[K     |██████████████████████▍         | 1.4MB 16.0MB/s eta 0:00:01\r\u001b[K     |██████████████████████▋         | 1.5MB 16.0MB/s eta 0:00:01\r\u001b[K     |██████████████████████▊         | 1.5MB 16.0MB/s eta 0:00:01\r\u001b[K     |███████████████████████         | 1.5MB 16.0MB/s eta 0:00:01\r\u001b[K     |███████████████████████         | 1.5MB 16.0MB/s eta 0:00:01\r\u001b[K     |███████████████████████▏        | 1.5MB 16.0MB/s eta 0:00:01\r\u001b[K     |███████████████████████▍        | 1.5MB 16.0MB/s eta 0:00:01\r\u001b[K     |███████████████████████▌        | 1.5MB 16.0MB/s eta 0:00:01\r\u001b[K     |███████████████████████▊        | 1.5MB 16.0MB/s eta 0:00:01\r\u001b[K     |███████████████████████▉        | 1.5MB 16.0MB/s eta 0:00:01\r\u001b[K     |████████████████████████        | 1.5MB 16.0MB/s eta 0:00:01\r\u001b[K     |████████████████████████▏       | 1.6MB 16.0MB/s eta 0:00:01\r\u001b[K     |████████████████████████▎       | 1.6MB 16.0MB/s eta 0:00:01\r\u001b[K     |████████████████████████▌       | 1.6MB 16.0MB/s eta 0:00:01\r\u001b[K     |████████████████████████▋       | 1.6MB 16.0MB/s eta 0:00:01\r\u001b[K     |████████████████████████▉       | 1.6MB 16.0MB/s eta 0:00:01\r\u001b[K     |█████████████████████████       | 1.6MB 16.0MB/s eta 0:00:01\r\u001b[K     |█████████████████████████▏      | 1.6MB 16.0MB/s eta 0:00:01\r\u001b[K     |█████████████████████████▎      | 1.6MB 16.0MB/s eta 0:00:01\r\u001b[K     |█████████████████████████▍      | 1.6MB 16.0MB/s eta 0:00:01\r\u001b[K     |█████████████████████████▋      | 1.6MB 16.0MB/s eta 0:00:01\r\u001b[K     |█████████████████████████▊      | 1.7MB 16.0MB/s eta 0:00:01\r\u001b[K     |██████████████████████████      | 1.7MB 16.0MB/s eta 0:00:01\r\u001b[K     |██████████████████████████      | 1.7MB 16.0MB/s eta 0:00:01\r\u001b[K     |██████████████████████████▎     | 1.7MB 16.0MB/s eta 0:00:01\r\u001b[K     |██████████████████████████▍     | 1.7MB 16.0MB/s eta 0:00:01\r\u001b[K     |██████████████████████████▋     | 1.7MB 16.0MB/s eta 0:00:01\r\u001b[K     |██████████████████████████▊     | 1.7MB 16.0MB/s eta 0:00:01\r\u001b[K     |██████████████████████████▉     | 1.7MB 16.0MB/s eta 0:00:01\r\u001b[K     |███████████████████████████     | 1.7MB 16.0MB/s eta 0:00:01\r\u001b[K     |███████████████████████████▏    | 1.8MB 16.0MB/s eta 0:00:01\r\u001b[K     |███████████████████████████▍    | 1.8MB 16.0MB/s eta 0:00:01\r\u001b[K     |███████████████████████████▌    | 1.8MB 16.0MB/s eta 0:00:01\r\u001b[K     |███████████████████████████▊    | 1.8MB 16.0MB/s eta 0:00:01\r\u001b[K     |███████████████████████████▉    | 1.8MB 16.0MB/s eta 0:00:01\r\u001b[K     |████████████████████████████    | 1.8MB 16.0MB/s eta 0:00:01\r\u001b[K     |████████████████████████████▏   | 1.8MB 16.0MB/s eta 0:00:01\r\u001b[K     |████████████████████████████▎   | 1.8MB 16.0MB/s eta 0:00:01\r\u001b[K     |████████████████████████████▌   | 1.8MB 16.0MB/s eta 0:00:01\r\u001b[K     |████████████████████████████▋   | 1.8MB 16.0MB/s eta 0:00:01\r\u001b[K     |████████████████████████████▉   | 1.9MB 16.0MB/s eta 0:00:01\r\u001b[K     |█████████████████████████████   | 1.9MB 16.0MB/s eta 0:00:01\r\u001b[K     |█████████████████████████████   | 1.9MB 16.0MB/s eta 0:00:01\r\u001b[K     |█████████████████████████████▎  | 1.9MB 16.0MB/s eta 0:00:01\r\u001b[K     |█████████████████████████████▍  | 1.9MB 16.0MB/s eta 0:00:01\r\u001b[K     |█████████████████████████████▋  | 1.9MB 16.0MB/s eta 0:00:01\r\u001b[K     |█████████████████████████████▊  | 1.9MB 16.0MB/s eta 0:00:01\r\u001b[K     |██████████████████████████████  | 1.9MB 16.0MB/s eta 0:00:01\r\u001b[K     |██████████████████████████████  | 1.9MB 16.0MB/s eta 0:00:01\r\u001b[K     |██████████████████████████████▏ | 1.9MB 16.0MB/s eta 0:00:01\r\u001b[K     |██████████████████████████████▍ | 2.0MB 16.0MB/s eta 0:00:01\r\u001b[K     |██████████████████████████████▌ | 2.0MB 16.0MB/s eta 0:00:01\r\u001b[K     |██████████████████████████████▊ | 2.0MB 16.0MB/s eta 0:00:01\r\u001b[K     |██████████████████████████████▉ | 2.0MB 16.0MB/s eta 0:00:01\r\u001b[K     |███████████████████████████████ | 2.0MB 16.0MB/s eta 0:00:01\r\u001b[K     |███████████████████████████████▏| 2.0MB 16.0MB/s eta 0:00:01\r\u001b[K     |███████████████████████████████▎| 2.0MB 16.0MB/s eta 0:00:01\r\u001b[K     |███████████████████████████████▌| 2.0MB 16.0MB/s eta 0:00:01\r\u001b[K     |███████████████████████████████▋| 2.0MB 16.0MB/s eta 0:00:01\r\u001b[K     |███████████████████████████████▉| 2.0MB 16.0MB/s eta 0:00:01\r\u001b[K     |████████████████████████████████| 2.1MB 16.0MB/s eta 0:00:01\r\u001b[K     |████████████████████████████████| 2.1MB 16.0MB/s \n",
            "\u001b[?25hRequirement already satisfied: packaging in /usr/local/lib/python3.7/dist-packages (from transformers) (20.9)\n",
            "Collecting tokenizers<0.11,>=0.10.1\n",
            "\u001b[?25l  Downloading https://files.pythonhosted.org/packages/ae/04/5b870f26a858552025a62f1649c20d29d2672c02ff3c3fb4c688ca46467a/tokenizers-0.10.2-cp37-cp37m-manylinux2010_x86_64.whl (3.3MB)\n",
            "\u001b[K     |████████████████████████████████| 3.3MB 56.6MB/s \n",
            "\u001b[?25hRequirement already satisfied: tqdm>=4.27 in /usr/local/lib/python3.7/dist-packages (from transformers) (4.41.1)\n",
            "Requirement already satisfied: filelock in /usr/local/lib/python3.7/dist-packages (from transformers) (3.0.12)\n",
            "Requirement already satisfied: numpy>=1.17 in /usr/local/lib/python3.7/dist-packages (from transformers) (1.19.5)\n",
            "Requirement already satisfied: importlib-metadata; python_version < \"3.8\" in /usr/local/lib/python3.7/dist-packages (from transformers) (3.10.0)\n",
            "Requirement already satisfied: regex!=2019.12.17 in /usr/local/lib/python3.7/dist-packages (from transformers) (2019.12.20)\n",
            "Requirement already satisfied: requests in /usr/local/lib/python3.7/dist-packages (from transformers) (2.23.0)\n",
            "Collecting sacremoses\n",
            "\u001b[?25l  Downloading https://files.pythonhosted.org/packages/08/cd/342e584ee544d044fb573ae697404ce22ede086c9e87ce5960772084cad0/sacremoses-0.0.44.tar.gz (862kB)\n",
            "\u001b[K     |████████████████████████████████| 870kB 46.3MB/s \n",
            "\u001b[?25hRequirement already satisfied: pyparsing>=2.0.2 in /usr/local/lib/python3.7/dist-packages (from packaging->transformers) (2.4.7)\n",
            "Requirement already satisfied: zipp>=0.5 in /usr/local/lib/python3.7/dist-packages (from importlib-metadata; python_version < \"3.8\"->transformers) (3.4.1)\n",
            "Requirement already satisfied: typing-extensions>=3.6.4; python_version < \"3.8\" in /usr/local/lib/python3.7/dist-packages (from importlib-metadata; python_version < \"3.8\"->transformers) (3.7.4.3)\n",
            "Requirement already satisfied: chardet<4,>=3.0.2 in /usr/local/lib/python3.7/dist-packages (from requests->transformers) (3.0.4)\n",
            "Requirement already satisfied: idna<3,>=2.5 in /usr/local/lib/python3.7/dist-packages (from requests->transformers) (2.10)\n",
            "Requirement already satisfied: certifi>=2017.4.17 in /usr/local/lib/python3.7/dist-packages (from requests->transformers) (2020.12.5)\n",
            "Requirement already satisfied: urllib3!=1.25.0,!=1.25.1,<1.26,>=1.21.1 in /usr/local/lib/python3.7/dist-packages (from requests->transformers) (1.24.3)\n",
            "Requirement already satisfied: six in /usr/local/lib/python3.7/dist-packages (from sacremoses->transformers) (1.15.0)\n",
            "Requirement already satisfied: click in /usr/local/lib/python3.7/dist-packages (from sacremoses->transformers) (7.1.2)\n",
            "Requirement already satisfied: joblib in /usr/local/lib/python3.7/dist-packages (from sacremoses->transformers) (1.0.1)\n",
            "Building wheels for collected packages: sacremoses\n",
            "  Building wheel for sacremoses (setup.py) ... \u001b[?25l\u001b[?25hdone\n",
            "  Created wheel for sacremoses: filename=sacremoses-0.0.44-cp37-none-any.whl size=886084 sha256=e4f7ba1fe32110fc3d13805039d3b7a9a378f46c546fecbaced90c4e4cc1e01b\n",
            "  Stored in directory: /root/.cache/pip/wheels/3e/fb/c0/13ab4d63d537658f448366744654323077c4d90069b6512f3c\n",
            "Successfully built sacremoses\n",
            "Installing collected packages: tokenizers, sacremoses, transformers\n",
            "Successfully installed sacremoses-0.0.44 tokenizers-0.10.2 transformers-4.5.1\n"
          ],
          "name": "stdout"
        }
      ]
    },
    {
      "cell_type": "code",
      "metadata": {
        "id": "noBFv8-JH78X"
      },
      "source": [
        "import torch\n",
        "from transformers import AutoTokenizer, AutoModel\n",
        "# from bertmoji_model import * \n",
        "\n",
        "import os\n",
        "from copy import copy\n",
        "import logging\n",
        "import pandas as pd\n",
        "import pytz\n",
        "import argparse\n",
        "from datetime import datetime as dt\n",
        "import numpy as np\n",
        "import torch\n",
        "import torch.nn as nn\n",
        "import torch.optim as optim\n",
        "from sklearn.metrics import f1_score, accuracy_score\n",
        "from torch.utils.data import Dataset, DataLoader, TensorDataset, RandomSampler\n",
        "from transformers import AutoTokenizer, AutoModel\n",
        "\n",
        "\n",
        "MODEL = \"cardiffnlp/twitter-roberta-base\"\n",
        "LABEL_MAPPING = {1.0:'Y', 0.0:'N'}"
      ],
      "execution_count": 3,
      "outputs": []
    },
    {
      "cell_type": "code",
      "metadata": {
        "id": "vQNWvKfOKUkE"
      },
      "source": [
        "class bertmoji(nn.Module):\n",
        "    '''\n",
        "    RoBERTa  model that adds a linear layer for binary classification.\n",
        "    '''\n",
        "    def __init__(self, roberta, num_classes=1):\n",
        "        super().__init__()\n",
        "        self.roberta = roberta\n",
        "        self.dropout = nn.Dropout(roberta.config.hidden_dropout_prob)\n",
        "        self.W = nn.Linear(roberta.config.hidden_size, num_classes)\n",
        "    def forward(self, input_ids, attention_mask):\n",
        "        h_cls = self.roberta(input_ids=input_ids, attention_mask=attention_mask)[1]\n",
        "        logits = self.dropout(self.W(h_cls))\n",
        "        return logits"
      ],
      "execution_count": 4,
      "outputs": []
    },
    {
      "cell_type": "code",
      "metadata": {
        "id": "o3fwHLg7H5n1"
      },
      "source": [
        "def load_model(checkpoint_path):\n",
        "    '''\n",
        "    helper function for loading model, training + validation performance\n",
        "    and tokenizer in one-go\n",
        "    '''\n",
        "    if torch.cuda.is_available():\n",
        "        checkpoint = torch.load(checkpoint_path)\n",
        "    else:\n",
        "        checkpoint = torch.load(checkpoint_path, map_location='cpu')\n",
        "    train_performance = checkpoint['train_performance']\n",
        "    valid_performance = checkpoint['valid_performance']\n",
        "    model = AutoModel.from_pretrained(MODEL)\n",
        "    tokenizer = AutoTokenizer.from_pretrained(MODEL)\n",
        "    # necessary for correctly loading checkpoint\n",
        "    tokenizer.add_tokens([\"[USER]\"])\n",
        "    model.resize_token_embeddings(len(tokenizer)) \n",
        "\n",
        "    bertmoji_classifier = bertmoji(model)\n",
        "    bertmoji_classifier.load_state_dict(checkpoint['model'])\n",
        "    return bertmoji_classifier, tokenizer, train_performance, valid_performance"
      ],
      "execution_count": 5,
      "outputs": []
    },
    {
      "cell_type": "code",
      "metadata": {
        "id": "bd4xYy83HtZn",
        "colab": {
          "base_uri": "https://localhost:8080/",
          "height": 214,
          "referenced_widgets": [
            "26afde42f4324c8da89cbdcb7a1517f5",
            "d3679e5d6460464a8b663c95f8ab44d4",
            "23d53d08f2794d198b54586eaec59fde",
            "ccaf6fdf8fe744deb5b1c08bc04b50b6",
            "dba07cdcbb454920a6dd8bfbf4bd3f62",
            "2c90eb4c68cd498a98b2478ba2c7ead5",
            "664968718849418880d2d769fff8af75",
            "bcdd74826738482e9aa1d610e0332828",
            "904317f6db0643068262e49aee58fb20",
            "8724462884374be8a3c1630320031bc1",
            "820bae1afb7f43b38ed040af445ce377",
            "8fe12e56b3044c5e8382579e50485d52",
            "0a6b85f2d91d409fa099820d219a897d",
            "ae0a8e3cd3b7474295a5df20872d4ed2",
            "34c4cb1db5fd4866a4a8b46d89c7a66f",
            "e4eda2c459d34f0bb5cc9b0254551157",
            "1bb88476821245aca24c3c49ce67fb10",
            "e9ed07d1416c4e7dac38b9e4978782da",
            "28e883adbb2740d09235ed833d14cca3",
            "33ab29be33104c6b90e718598f26424c",
            "ada9e423b6dc4220aa6ccdbc6be45df4",
            "2ee4091d906540e098b01962e683eb37",
            "90656996066043b8bdf8a40b2795bf81",
            "4672503b3a4840fab997f0b529ffd156",
            "a918e213fffc48d08d752a93477f8749",
            "1310f90770e24cdc8657b295efef99de",
            "2c6b82bbad284cc3a07bff82ce67393b",
            "9c1f17cd41604616bdff3e31dce2ac67",
            "7f8946946eec47b18fda18334ddbf8ab",
            "fb3bdc2a393a47d28c938d4fb2c6162f",
            "ec1b2ac3b36c419bbccc78ad3a29108a",
            "c6148d6939634daa8217d098ebd27062"
          ]
        },
        "outputId": "6c4220bd-d41b-40d0-b3d9-9abe661c7d22"
      },
      "source": [
        "model, tokenizer, train_perf, valid_perf = load_model('/content/drive/MyDrive/2021_NLU/BERT/full-bertmoji.pt')"
      ],
      "execution_count": 6,
      "outputs": [
        {
          "output_type": "display_data",
          "data": {
            "application/vnd.jupyter.widget-view+json": {
              "model_id": "26afde42f4324c8da89cbdcb7a1517f5",
              "version_minor": 0,
              "version_major": 2
            },
            "text/plain": [
              "HBox(children=(FloatProgress(value=0.0, description='Downloading', max=565.0, style=ProgressStyle(description_…"
            ]
          },
          "metadata": {
            "tags": []
          }
        },
        {
          "output_type": "stream",
          "text": [
            "\n"
          ],
          "name": "stdout"
        },
        {
          "output_type": "display_data",
          "data": {
            "application/vnd.jupyter.widget-view+json": {
              "model_id": "904317f6db0643068262e49aee58fb20",
              "version_minor": 0,
              "version_major": 2
            },
            "text/plain": [
              "HBox(children=(FloatProgress(value=0.0, description='Downloading', max=501204462.0, style=ProgressStyle(descri…"
            ]
          },
          "metadata": {
            "tags": []
          }
        },
        {
          "output_type": "stream",
          "text": [
            "\n"
          ],
          "name": "stdout"
        },
        {
          "output_type": "display_data",
          "data": {
            "application/vnd.jupyter.widget-view+json": {
              "model_id": "1bb88476821245aca24c3c49ce67fb10",
              "version_minor": 0,
              "version_major": 2
            },
            "text/plain": [
              "HBox(children=(FloatProgress(value=0.0, description='Downloading', max=898823.0, style=ProgressStyle(descripti…"
            ]
          },
          "metadata": {
            "tags": []
          }
        },
        {
          "output_type": "stream",
          "text": [
            "\n"
          ],
          "name": "stdout"
        },
        {
          "output_type": "display_data",
          "data": {
            "application/vnd.jupyter.widget-view+json": {
              "model_id": "a918e213fffc48d08d752a93477f8749",
              "version_minor": 0,
              "version_major": 2
            },
            "text/plain": [
              "HBox(children=(FloatProgress(value=0.0, description='Downloading', max=456318.0, style=ProgressStyle(descripti…"
            ]
          },
          "metadata": {
            "tags": []
          }
        },
        {
          "output_type": "stream",
          "text": [
            "\n"
          ],
          "name": "stdout"
        }
      ]
    },
    {
      "cell_type": "code",
      "metadata": {
        "id": "1KCfDBxzINkX"
      },
      "source": [
        "# df_val = pd.read_csv('/content/drive/MyDrive/2021_NLU/data/full_data/emoji_nsp_dataset_valid.csv')\n",
        "# df_val.head()\n",
        "# x = list(zip(df_val['tweets'], df_val['emoji_sentence']))"
      ],
      "execution_count": 8,
      "outputs": []
    },
    {
      "cell_type": "code",
      "metadata": {
        "id": "QmtnyhezWgyl"
      },
      "source": [
        "df_test = pd.read_csv('/content/drive/MyDrive/2021_NLU/data/full_data/emoji_nsp_dataset_test.csv')"
      ],
      "execution_count": 7,
      "outputs": []
    },
    {
      "cell_type": "code",
      "metadata": {
        "id": "w9Uv9-zrWjnr"
      },
      "source": [
        "test_list = list(zip(df_test['tweets'], df_test['emoji_sentence']))\n",
        "# test_list_follows = list(df_test['follows?'])"
      ],
      "execution_count": 9,
      "outputs": []
    },
    {
      "cell_type": "code",
      "metadata": {
        "id": "M3c1bf6_LSJX"
      },
      "source": [
        "def run_batch(model, data, tokenizer, device, human_readable=False):\n",
        "    '''\n",
        "    wrap tokenize_data in a single test-execution, return results in a dataframe\n",
        "    for analysis\n",
        "    '''\n",
        "    dataset, df = tokenize_data(data, tokenizer, return_df=True)\n",
        "    # dataset, df = tokenize_data(data, tokenizer)\n",
        "    loader = DataLoader(dataset, batch_size=1)\n",
        "    model.eval()\n",
        "    model.to(device)\n",
        "    predictions = []\n",
        "    prob = []\n",
        "\n",
        "    for step, batch in enumerate(loader):\n",
        "        batch = tuple(t.to(device) for t in batch)\n",
        "        input_ids, attention_masks = batch\n",
        "        logits = model(input_ids, attention_masks)\n",
        "        logits = logits.to(device)\n",
        "\n",
        "        logits_prob = torch.sigmoid(logits)\n",
        "\n",
        "        preds = torch.round(torch.sigmoid(logits))\n",
        "\n",
        "        predictions.append(preds.item())\n",
        "        prob.append(logits_prob.item())\n",
        "\n",
        "    df['predictions'] = predictions\n",
        "    df['probability'] = prob\n",
        "\n",
        "    if human_readable:\n",
        "        df['predictions'] = df['predictions'].map(LABEL_MAPPING)\n",
        "        # df['probability'] = \n",
        "    return df"
      ],
      "execution_count": 10,
      "outputs": []
    },
    {
      "cell_type": "code",
      "metadata": {
        "id": "9-5X0HSMMx_U"
      },
      "source": [
        "def tokenize_data(data, tokenizer, return_df=False):\n",
        "    '''\n",
        "    function to tokenize tweets and emoji sentence, also creates attention mask.\n",
        "    data is returned as a TensorDataset.\n",
        "    '''\n",
        "    df_ = pd.DataFrame(data, columns = ['tweet', 'emoji_sentence'])\n",
        "    tweets = df_['tweet'] + ' ' + tokenizer.sep_token + ' ' + df_['emoji_sentence']\n",
        "    max_sentence_length = tweets.str.len().max()\n",
        "    tokenized_tweets = []\n",
        "    attn_masks = []\n",
        "    for idx, tweet in tweets.items():\n",
        "        encoded = tokenizer.encode_plus(tweet, padding='max_length',\n",
        "                                        truncation=True, max_length=max_sentence_length)\n",
        "        tokenized_tweets.append(encoded['input_ids'])\n",
        "        attn_masks.append(encoded['attention_mask'])\n",
        "    tokenized_tweets = torch.tensor(tokenized_tweets, dtype=torch.long)\n",
        "    attn_masks = torch.tensor(attn_masks, dtype=torch.long)\n",
        "    if return_df:\n",
        "        return TensorDataset(tokenized_tweets, attn_masks), df_\n",
        "    else:\n",
        "        return TensorDataset(tokenized_tweets, attn_masks)"
      ],
      "execution_count": 12,
      "outputs": []
    },
    {
      "cell_type": "code",
      "metadata": {
        "id": "LKYWRQ12Htiz"
      },
      "source": [
        "device = torch.device(\"cuda\" if torch.cuda.is_available() else \"cpu\")"
      ],
      "execution_count": 13,
      "outputs": []
    },
    {
      "cell_type": "code",
      "metadata": {
        "id": "WSkH8xfnWqDv"
      },
      "source": [
        "results_test = run_batch(model, test_list, tokenizer, device, human_readable=True)"
      ],
      "execution_count": 15,
      "outputs": []
    },
    {
      "cell_type": "code",
      "metadata": {
        "id": "Udym71GJc3ZM"
      },
      "source": [
        "results_test.to_csv('/content/drive/MyDrive/2021_NLU/data/full_data/results_test.csv', index=False)"
      ],
      "execution_count": null,
      "outputs": []
    },
    {
      "cell_type": "code",
      "metadata": {
        "id": "oW5oUGGRIzkw"
      },
      "source": [
        "results_test = pd.read_csv('/content/drive/MyDrive/2021_NLU/data/full_data/results_test.csv')"
      ],
      "execution_count": 16,
      "outputs": []
    },
    {
      "cell_type": "code",
      "metadata": {
        "colab": {
          "base_uri": "https://localhost:8080/"
        },
        "id": "PQ7yufyehJfU",
        "outputId": "4cf596ca-3981-4e46-85eb-60f2ce9a540e"
      },
      "source": [
        "results_test.iloc[0]"
      ],
      "execution_count": 38,
      "outputs": [
        {
          "output_type": "execute_result",
          "data": {
            "text/plain": [
              "tweet             You’re just so beautiful \n",
              "emoji_sentence                            💀\n",
              "predictions                               N\n",
              "probability                        0.864561\n",
              "true_value                                0\n",
              "Name: 0, dtype: object"
            ]
          },
          "metadata": {
            "tags": []
          },
          "execution_count": 38
        }
      ]
    },
    {
      "cell_type": "code",
      "metadata": {
        "colab": {
          "base_uri": "https://localhost:8080/",
          "height": 423
        },
        "id": "KV0Q6yAdJA-4",
        "outputId": "635e8efb-656f-48b0-b978-379cb98f4e34"
      },
      "source": [
        "results_test['true_value'] = df_test['follows?'].values\n",
        "results_test"
      ],
      "execution_count": 17,
      "outputs": [
        {
          "output_type": "execute_result",
          "data": {
            "text/html": [
              "<div>\n",
              "<style scoped>\n",
              "    .dataframe tbody tr th:only-of-type {\n",
              "        vertical-align: middle;\n",
              "    }\n",
              "\n",
              "    .dataframe tbody tr th {\n",
              "        vertical-align: top;\n",
              "    }\n",
              "\n",
              "    .dataframe thead th {\n",
              "        text-align: right;\n",
              "    }\n",
              "</style>\n",
              "<table border=\"1\" class=\"dataframe\">\n",
              "  <thead>\n",
              "    <tr style=\"text-align: right;\">\n",
              "      <th></th>\n",
              "      <th>tweet</th>\n",
              "      <th>emoji_sentence</th>\n",
              "      <th>predictions</th>\n",
              "      <th>probability</th>\n",
              "      <th>true_value</th>\n",
              "    </tr>\n",
              "  </thead>\n",
              "  <tbody>\n",
              "    <tr>\n",
              "      <th>0</th>\n",
              "      <td>You’re just so beautiful</td>\n",
              "      <td>💀</td>\n",
              "      <td>N</td>\n",
              "      <td>0.135439</td>\n",
              "      <td>0</td>\n",
              "    </tr>\n",
              "    <tr>\n",
              "      <th>1</th>\n",
              "      <td>Watch your PH balance not my page</td>\n",
              "      <td>🙂</td>\n",
              "      <td>Y</td>\n",
              "      <td>0.809802</td>\n",
              "      <td>1</td>\n",
              "    </tr>\n",
              "    <tr>\n",
              "      <th>2</th>\n",
              "      <td>fast gcash  • follow me &amp;amp; [USER] • rt end...</td>\n",
              "      <td>💸💸⏳</td>\n",
              "      <td>Y</td>\n",
              "      <td>0.826873</td>\n",
              "      <td>1</td>\n",
              "    </tr>\n",
              "    <tr>\n",
              "      <th>3</th>\n",
              "      <td>Want to tease someone until they cry</td>\n",
              "      <td>😢</td>\n",
              "      <td>Y</td>\n",
              "      <td>0.690209</td>\n",
              "      <td>1</td>\n",
              "    </tr>\n",
              "    <tr>\n",
              "      <th>4</th>\n",
              "      <td>I’ll figure this out. I always do and I always...</td>\n",
              "      <td>😤</td>\n",
              "      <td>N</td>\n",
              "      <td>0.104652</td>\n",
              "      <td>1</td>\n",
              "    </tr>\n",
              "    <tr>\n",
              "      <th>...</th>\n",
              "      <td>...</td>\n",
              "      <td>...</td>\n",
              "      <td>...</td>\n",
              "      <td>...</td>\n",
              "      <td>...</td>\n",
              "    </tr>\n",
              "    <tr>\n",
              "      <th>4433</th>\n",
              "      <td>Learning to LOVE yourself the RIGHT away it th...</td>\n",
              "      <td>🥰</td>\n",
              "      <td>Y</td>\n",
              "      <td>0.892988</td>\n",
              "      <td>1</td>\n",
              "    </tr>\n",
              "    <tr>\n",
              "      <th>4434</th>\n",
              "      <td>[USER] Follow me to gainFollowersDaily.</td>\n",
              "      <td>👻🐰🌹</td>\n",
              "      <td>Y</td>\n",
              "      <td>0.870953</td>\n",
              "      <td>1</td>\n",
              "    </tr>\n",
              "    <tr>\n",
              "      <th>4435</th>\n",
              "      <td>I would never let a female use a strap because...</td>\n",
              "      <td>😍</td>\n",
              "      <td>N</td>\n",
              "      <td>0.065642</td>\n",
              "      <td>0</td>\n",
              "    </tr>\n",
              "    <tr>\n",
              "      <th>4436</th>\n",
              "      <td>[USER] We downgraded our CSP to the Flex last ...</td>\n",
              "      <td>😬</td>\n",
              "      <td>Y</td>\n",
              "      <td>0.821872</td>\n",
              "      <td>1</td>\n",
              "    </tr>\n",
              "    <tr>\n",
              "      <th>4437</th>\n",
              "      <td>[USER] happiest birthday aya!!  have a blast</td>\n",
              "      <td>💗🥳</td>\n",
              "      <td>Y</td>\n",
              "      <td>0.936028</td>\n",
              "      <td>1</td>\n",
              "    </tr>\n",
              "  </tbody>\n",
              "</table>\n",
              "<p>4438 rows × 5 columns</p>\n",
              "</div>"
            ],
            "text/plain": [
              "                                                  tweet  ... true_value\n",
              "0                             You’re just so beautiful   ...          0\n",
              "1                    Watch your PH balance not my page   ...          1\n",
              "2      fast gcash  • follow me &amp; [USER] • rt end...  ...          1\n",
              "3                 Want to tease someone until they cry   ...          1\n",
              "4     I’ll figure this out. I always do and I always...  ...          1\n",
              "...                                                 ...  ...        ...\n",
              "4433  Learning to LOVE yourself the RIGHT away it th...  ...          1\n",
              "4434          [USER] Follow me to gainFollowersDaily.    ...          1\n",
              "4435  I would never let a female use a strap because...  ...          0\n",
              "4436  [USER] We downgraded our CSP to the Flex last ...  ...          1\n",
              "4437      [USER] happiest birthday aya!!  have a blast   ...          1\n",
              "\n",
              "[4438 rows x 5 columns]"
            ]
          },
          "metadata": {
            "tags": []
          },
          "execution_count": 17
        }
      ]
    },
    {
      "cell_type": "code",
      "metadata": {
        "id": "0vRi22NIe2QD"
      },
      "source": [
        "# results_test[results_test['predictions'] == 'N']\n",
        "\n",
        "def normalized_prob(predictions, probability):\n",
        "  if predictions == 'N':\n",
        "    return 1 - probability\n",
        "  else:\n",
        "    return probability\n",
        "\n",
        "results_test['probability'] = results_test[['predictions', 'probability']].apply(lambda x: normalized_prob(*x), axis=1)"
      ],
      "execution_count": 19,
      "outputs": []
    },
    {
      "cell_type": "code",
      "metadata": {
        "colab": {
          "base_uri": "https://localhost:8080/",
          "height": 423
        },
        "id": "aoLmQMq2fp8g",
        "outputId": "71c7d30e-77a3-47b9-a14d-485a78696bcf"
      },
      "source": [
        "results_test['true_value'] = df_test['follows?'].values\n",
        "results_test"
      ],
      "execution_count": 20,
      "outputs": [
        {
          "output_type": "execute_result",
          "data": {
            "text/html": [
              "<div>\n",
              "<style scoped>\n",
              "    .dataframe tbody tr th:only-of-type {\n",
              "        vertical-align: middle;\n",
              "    }\n",
              "\n",
              "    .dataframe tbody tr th {\n",
              "        vertical-align: top;\n",
              "    }\n",
              "\n",
              "    .dataframe thead th {\n",
              "        text-align: right;\n",
              "    }\n",
              "</style>\n",
              "<table border=\"1\" class=\"dataframe\">\n",
              "  <thead>\n",
              "    <tr style=\"text-align: right;\">\n",
              "      <th></th>\n",
              "      <th>tweet</th>\n",
              "      <th>emoji_sentence</th>\n",
              "      <th>predictions</th>\n",
              "      <th>probability</th>\n",
              "      <th>true_value</th>\n",
              "    </tr>\n",
              "  </thead>\n",
              "  <tbody>\n",
              "    <tr>\n",
              "      <th>0</th>\n",
              "      <td>You’re just so beautiful</td>\n",
              "      <td>💀</td>\n",
              "      <td>N</td>\n",
              "      <td>0.864561</td>\n",
              "      <td>0</td>\n",
              "    </tr>\n",
              "    <tr>\n",
              "      <th>1</th>\n",
              "      <td>Watch your PH balance not my page</td>\n",
              "      <td>🙂</td>\n",
              "      <td>Y</td>\n",
              "      <td>0.809802</td>\n",
              "      <td>1</td>\n",
              "    </tr>\n",
              "    <tr>\n",
              "      <th>2</th>\n",
              "      <td>fast gcash  • follow me &amp;amp; [USER] • rt end...</td>\n",
              "      <td>💸💸⏳</td>\n",
              "      <td>Y</td>\n",
              "      <td>0.826873</td>\n",
              "      <td>1</td>\n",
              "    </tr>\n",
              "    <tr>\n",
              "      <th>3</th>\n",
              "      <td>Want to tease someone until they cry</td>\n",
              "      <td>😢</td>\n",
              "      <td>Y</td>\n",
              "      <td>0.690209</td>\n",
              "      <td>1</td>\n",
              "    </tr>\n",
              "    <tr>\n",
              "      <th>4</th>\n",
              "      <td>I’ll figure this out. I always do and I always...</td>\n",
              "      <td>😤</td>\n",
              "      <td>N</td>\n",
              "      <td>0.895348</td>\n",
              "      <td>1</td>\n",
              "    </tr>\n",
              "    <tr>\n",
              "      <th>...</th>\n",
              "      <td>...</td>\n",
              "      <td>...</td>\n",
              "      <td>...</td>\n",
              "      <td>...</td>\n",
              "      <td>...</td>\n",
              "    </tr>\n",
              "    <tr>\n",
              "      <th>4433</th>\n",
              "      <td>Learning to LOVE yourself the RIGHT away it th...</td>\n",
              "      <td>🥰</td>\n",
              "      <td>Y</td>\n",
              "      <td>0.892988</td>\n",
              "      <td>1</td>\n",
              "    </tr>\n",
              "    <tr>\n",
              "      <th>4434</th>\n",
              "      <td>[USER] Follow me to gainFollowersDaily.</td>\n",
              "      <td>👻🐰🌹</td>\n",
              "      <td>Y</td>\n",
              "      <td>0.870953</td>\n",
              "      <td>1</td>\n",
              "    </tr>\n",
              "    <tr>\n",
              "      <th>4435</th>\n",
              "      <td>I would never let a female use a strap because...</td>\n",
              "      <td>😍</td>\n",
              "      <td>N</td>\n",
              "      <td>0.934358</td>\n",
              "      <td>0</td>\n",
              "    </tr>\n",
              "    <tr>\n",
              "      <th>4436</th>\n",
              "      <td>[USER] We downgraded our CSP to the Flex last ...</td>\n",
              "      <td>😬</td>\n",
              "      <td>Y</td>\n",
              "      <td>0.821872</td>\n",
              "      <td>1</td>\n",
              "    </tr>\n",
              "    <tr>\n",
              "      <th>4437</th>\n",
              "      <td>[USER] happiest birthday aya!!  have a blast</td>\n",
              "      <td>💗🥳</td>\n",
              "      <td>Y</td>\n",
              "      <td>0.936028</td>\n",
              "      <td>1</td>\n",
              "    </tr>\n",
              "  </tbody>\n",
              "</table>\n",
              "<p>4438 rows × 5 columns</p>\n",
              "</div>"
            ],
            "text/plain": [
              "                                                  tweet  ... true_value\n",
              "0                             You’re just so beautiful   ...          0\n",
              "1                    Watch your PH balance not my page   ...          1\n",
              "2      fast gcash  • follow me &amp; [USER] • rt end...  ...          1\n",
              "3                 Want to tease someone until they cry   ...          1\n",
              "4     I’ll figure this out. I always do and I always...  ...          1\n",
              "...                                                 ...  ...        ...\n",
              "4433  Learning to LOVE yourself the RIGHT away it th...  ...          1\n",
              "4434          [USER] Follow me to gainFollowersDaily.    ...          1\n",
              "4435  I would never let a female use a strap because...  ...          0\n",
              "4436  [USER] We downgraded our CSP to the Flex last ...  ...          1\n",
              "4437      [USER] happiest birthday aya!!  have a blast   ...          1\n",
              "\n",
              "[4438 rows x 5 columns]"
            ]
          },
          "metadata": {
            "tags": []
          },
          "execution_count": 20
        }
      ]
    },
    {
      "cell_type": "code",
      "metadata": {
        "id": "RTiwqPgef9F5"
      },
      "source": [
        ""
      ],
      "execution_count": null,
      "outputs": []
    },
    {
      "cell_type": "code",
      "metadata": {
        "id": "VsysRvu5ZnSt"
      },
      "source": [
        ""
      ],
      "execution_count": null,
      "outputs": []
    },
    {
      "cell_type": "code",
      "metadata": {
        "id": "DSBGpf8KdT1t",
        "colab": {
          "base_uri": "https://localhost:8080/",
          "height": 362
        },
        "outputId": "0eb66efd-777d-4dbe-ad08-fe5e94bcd98d"
      },
      "source": [
        "incorrect_neg = results_test[(results_test['predictions'] == 'N') & (results_test['true_value'] == 1)].sort_values(by='probability', ascending = False)\n",
        "incorrect_neg.head(10)"
      ],
      "execution_count": 23,
      "outputs": [
        {
          "output_type": "execute_result",
          "data": {
            "text/html": [
              "<div>\n",
              "<style scoped>\n",
              "    .dataframe tbody tr th:only-of-type {\n",
              "        vertical-align: middle;\n",
              "    }\n",
              "\n",
              "    .dataframe tbody tr th {\n",
              "        vertical-align: top;\n",
              "    }\n",
              "\n",
              "    .dataframe thead th {\n",
              "        text-align: right;\n",
              "    }\n",
              "</style>\n",
              "<table border=\"1\" class=\"dataframe\">\n",
              "  <thead>\n",
              "    <tr style=\"text-align: right;\">\n",
              "      <th></th>\n",
              "      <th>tweet</th>\n",
              "      <th>emoji_sentence</th>\n",
              "      <th>predictions</th>\n",
              "      <th>probability</th>\n",
              "      <th>true_value</th>\n",
              "    </tr>\n",
              "  </thead>\n",
              "  <tbody>\n",
              "    <tr>\n",
              "      <th>2368</th>\n",
              "      <td>i feel so guilty rn</td>\n",
              "      <td>🧎🏿</td>\n",
              "      <td>N</td>\n",
              "      <td>0.973737</td>\n",
              "      <td>1</td>\n",
              "    </tr>\n",
              "    <tr>\n",
              "      <th>264</th>\n",
              "      <td>Enjoying the moment</td>\n",
              "      <td>🤒</td>\n",
              "      <td>N</td>\n",
              "      <td>0.967404</td>\n",
              "      <td>1</td>\n",
              "    </tr>\n",
              "    <tr>\n",
              "      <th>1840</th>\n",
              "      <td>there's no way hope is THAT obsessed with a gu...</td>\n",
              "      <td>✋🏻</td>\n",
              "      <td>N</td>\n",
              "      <td>0.964489</td>\n",
              "      <td>1</td>\n",
              "    </tr>\n",
              "    <tr>\n",
              "      <th>2979</th>\n",
              "      <td>anyway please do not repost fics without the w...</td>\n",
              "      <td>💀</td>\n",
              "      <td>N</td>\n",
              "      <td>0.962740</td>\n",
              "      <td>1</td>\n",
              "    </tr>\n",
              "    <tr>\n",
              "      <th>1746</th>\n",
              "      <td>[USER] Holy  P1 is spreading fast</td>\n",
              "      <td>💩😔</td>\n",
              "      <td>N</td>\n",
              "      <td>0.951668</td>\n",
              "      <td>1</td>\n",
              "    </tr>\n",
              "    <tr>\n",
              "      <th>4238</th>\n",
              "      <td>not sure who needs to hear this but in order t...</td>\n",
              "      <td>🤍</td>\n",
              "      <td>N</td>\n",
              "      <td>0.948261</td>\n",
              "      <td>1</td>\n",
              "    </tr>\n",
              "    <tr>\n",
              "      <th>2599</th>\n",
              "      <td>my life is getting boring, who should i cut of...</td>\n",
              "      <td>💓</td>\n",
              "      <td>N</td>\n",
              "      <td>0.947895</td>\n",
              "      <td>1</td>\n",
              "    </tr>\n",
              "    <tr>\n",
              "      <th>4180</th>\n",
              "      <td>yes I SHOULD be writing no I am NOT doing that</td>\n",
              "      <td>❤</td>\n",
              "      <td>N</td>\n",
              "      <td>0.947359</td>\n",
              "      <td>1</td>\n",
              "    </tr>\n",
              "    <tr>\n",
              "      <th>3354</th>\n",
              "      <td>\"Suju has no fans\"  elfs speaks with numbers dear</td>\n",
              "      <td>💅</td>\n",
              "      <td>N</td>\n",
              "      <td>0.944762</td>\n",
              "      <td>1</td>\n",
              "    </tr>\n",
              "    <tr>\n",
              "      <th>3179</th>\n",
              "      <td>minho said on  there’s a secret in the pic he ...</td>\n",
              "      <td>💭</td>\n",
              "      <td>N</td>\n",
              "      <td>0.944517</td>\n",
              "      <td>1</td>\n",
              "    </tr>\n",
              "  </tbody>\n",
              "</table>\n",
              "</div>"
            ],
            "text/plain": [
              "                                                  tweet  ... true_value\n",
              "2368                               i feel so guilty rn   ...          1\n",
              "264                                Enjoying the moment   ...          1\n",
              "1840  there's no way hope is THAT obsessed with a gu...  ...          1\n",
              "2979  anyway please do not repost fics without the w...  ...          1\n",
              "1746                  [USER] Holy  P1 is spreading fast  ...          1\n",
              "4238  not sure who needs to hear this but in order t...  ...          1\n",
              "2599  my life is getting boring, who should i cut of...  ...          1\n",
              "4180    yes I SHOULD be writing no I am NOT doing that   ...          1\n",
              "3354  \"Suju has no fans\"  elfs speaks with numbers dear  ...          1\n",
              "3179  minho said on  there’s a secret in the pic he ...  ...          1\n",
              "\n",
              "[10 rows x 5 columns]"
            ]
          },
          "metadata": {
            "tags": []
          },
          "execution_count": 23
        }
      ]
    },
    {
      "cell_type": "code",
      "metadata": {
        "id": "jzcjPzgNZuTN",
        "colab": {
          "base_uri": "https://localhost:8080/",
          "height": 676
        },
        "outputId": "afc70388-a2ce-4d9b-806c-2a8285f16de5"
      },
      "source": [
        "incorrect_pos = results_test[(results_test['predictions'] == 'Y') & (results_test['true_value'] == 0)].sort_values(by='probability', ascending = False)\n",
        "incorrect_pos.head(20)"
      ],
      "execution_count": 43,
      "outputs": [
        {
          "output_type": "execute_result",
          "data": {
            "text/html": [
              "<div>\n",
              "<style scoped>\n",
              "    .dataframe tbody tr th:only-of-type {\n",
              "        vertical-align: middle;\n",
              "    }\n",
              "\n",
              "    .dataframe tbody tr th {\n",
              "        vertical-align: top;\n",
              "    }\n",
              "\n",
              "    .dataframe thead th {\n",
              "        text-align: right;\n",
              "    }\n",
              "</style>\n",
              "<table border=\"1\" class=\"dataframe\">\n",
              "  <thead>\n",
              "    <tr style=\"text-align: right;\">\n",
              "      <th></th>\n",
              "      <th>tweet</th>\n",
              "      <th>emoji_sentence</th>\n",
              "      <th>predictions</th>\n",
              "      <th>probability</th>\n",
              "      <th>true_value</th>\n",
              "    </tr>\n",
              "  </thead>\n",
              "  <tbody>\n",
              "    <tr>\n",
              "      <th>3207</th>\n",
              "      <td>VII will always hold a special place in my hea...</td>\n",
              "      <td>🧏🏾♂</td>\n",
              "      <td>Y</td>\n",
              "      <td>0.975576</td>\n",
              "      <td>0</td>\n",
              "    </tr>\n",
              "    <tr>\n",
              "      <th>1903</th>\n",
              "      <td>️‍⃠ ️‍⃠ these exist</td>\n",
              "      <td>🤷🏽♀</td>\n",
              "      <td>Y</td>\n",
              "      <td>0.971158</td>\n",
              "      <td>0</td>\n",
              "    </tr>\n",
              "    <tr>\n",
              "      <th>3937</th>\n",
              "      <td>Everytime I turn around HE’S making a way  Tha...</td>\n",
              "      <td>🤍</td>\n",
              "      <td>Y</td>\n",
              "      <td>0.944826</td>\n",
              "      <td>0</td>\n",
              "    </tr>\n",
              "    <tr>\n",
              "      <th>3198</th>\n",
              "      <td>[USER] Hello! It's a pleasure for us that you'...</td>\n",
              "      <td>🤦🏻♀</td>\n",
              "      <td>Y</td>\n",
              "      <td>0.942299</td>\n",
              "      <td>0</td>\n",
              "    </tr>\n",
              "    <tr>\n",
              "      <th>2745</th>\n",
              "      <td>What a cutie!</td>\n",
              "      <td>😍</td>\n",
              "      <td>Y</td>\n",
              "      <td>0.934477</td>\n",
              "      <td>0</td>\n",
              "    </tr>\n",
              "    <tr>\n",
              "      <th>1010</th>\n",
              "      <td>[USER] have a nice day</td>\n",
              "      <td>💖</td>\n",
              "      <td>Y</td>\n",
              "      <td>0.931376</td>\n",
              "      <td>0</td>\n",
              "    </tr>\n",
              "    <tr>\n",
              "      <th>2002</th>\n",
              "      <td>[USER] Oh, this is what true love looks like! ...</td>\n",
              "      <td>😍</td>\n",
              "      <td>Y</td>\n",
              "      <td>0.930228</td>\n",
              "      <td>0</td>\n",
              "    </tr>\n",
              "    <tr>\n",
              "      <th>515</th>\n",
              "      <td>00:00 i love you my jiminie [USER]</td>\n",
              "      <td>💕</td>\n",
              "      <td>Y</td>\n",
              "      <td>0.928533</td>\n",
              "      <td>0</td>\n",
              "    </tr>\n",
              "    <tr>\n",
              "      <th>762</th>\n",
              "      <td>My irl friend is so nice I love her</td>\n",
              "      <td>😙</td>\n",
              "      <td>Y</td>\n",
              "      <td>0.926666</td>\n",
              "      <td>0</td>\n",
              "    </tr>\n",
              "    <tr>\n",
              "      <th>3224</th>\n",
              "      <td>[USER] happy thursday morning ! don't skip ur ...</td>\n",
              "      <td>🧡</td>\n",
              "      <td>Y</td>\n",
              "      <td>0.924809</td>\n",
              "      <td>0</td>\n",
              "    </tr>\n",
              "    <tr>\n",
              "      <th>2638</th>\n",
              "      <td>♡̶ꕀ 𝚑𝚊𝚟𝚎 𝚊 𝚙𝚛𝚎𝚝𝚝𝚢 𝚗𝚒𝚐𝚑𝚝 𝚔𝚞𝚋 ⟢  ◌; 𝚝𝚘 𝚍𝚘 𝚕𝚒𝚜𝚝 𝚏...</td>\n",
              "      <td>😯🤔</td>\n",
              "      <td>Y</td>\n",
              "      <td>0.922507</td>\n",
              "      <td>0</td>\n",
              "    </tr>\n",
              "    <tr>\n",
              "      <th>3386</th>\n",
              "      <td>When you do right in life, God blesses your sk...</td>\n",
              "      <td>💪🏻</td>\n",
              "      <td>Y</td>\n",
              "      <td>0.920602</td>\n",
              "      <td>0</td>\n",
              "    </tr>\n",
              "    <tr>\n",
              "      <th>1407</th>\n",
              "      <td>you deserve it chanyeol</td>\n",
              "      <td>🥰</td>\n",
              "      <td>Y</td>\n",
              "      <td>0.920080</td>\n",
              "      <td>0</td>\n",
              "    </tr>\n",
              "    <tr>\n",
              "      <th>2596</th>\n",
              "      <td>[USER] Good morninggg</td>\n",
              "      <td>🙌🏾</td>\n",
              "      <td>Y</td>\n",
              "      <td>0.919971</td>\n",
              "      <td>0</td>\n",
              "    </tr>\n",
              "    <tr>\n",
              "      <th>2142</th>\n",
              "      <td>[USER] Amen</td>\n",
              "      <td>💯</td>\n",
              "      <td>Y</td>\n",
              "      <td>0.918095</td>\n",
              "      <td>0</td>\n",
              "    </tr>\n",
              "    <tr>\n",
              "      <th>3085</th>\n",
              "      <td>Ya Allah guide me, support me, protect me, pro...</td>\n",
              "      <td>🤞</td>\n",
              "      <td>Y</td>\n",
              "      <td>0.918052</td>\n",
              "      <td>0</td>\n",
              "    </tr>\n",
              "    <tr>\n",
              "      <th>114</th>\n",
              "      <td>[USER] mind helping me? like= follow rt= follo...</td>\n",
              "      <td>🙏</td>\n",
              "      <td>Y</td>\n",
              "      <td>0.915336</td>\n",
              "      <td>0</td>\n",
              "    </tr>\n",
              "    <tr>\n",
              "      <th>3500</th>\n",
              "      <td>[USER] [USER] Happy to be a part of this!</td>\n",
              "      <td>👍</td>\n",
              "      <td>Y</td>\n",
              "      <td>0.914085</td>\n",
              "      <td>0</td>\n",
              "    </tr>\n",
              "    <tr>\n",
              "      <th>3764</th>\n",
              "      <td>[USER] love u</td>\n",
              "      <td>💜</td>\n",
              "      <td>Y</td>\n",
              "      <td>0.912913</td>\n",
              "      <td>0</td>\n",
              "    </tr>\n",
              "    <tr>\n",
              "      <th>233</th>\n",
              "      <td>Trying to stay away from my phone a little mor...</td>\n",
              "      <td>💕</td>\n",
              "      <td>Y</td>\n",
              "      <td>0.910808</td>\n",
              "      <td>0</td>\n",
              "    </tr>\n",
              "  </tbody>\n",
              "</table>\n",
              "</div>"
            ],
            "text/plain": [
              "                                                  tweet  ... true_value\n",
              "3207  VII will always hold a special place in my hea...  ...          0\n",
              "1903                               ️‍⃠ ️‍⃠ these exist   ...          0\n",
              "3937  Everytime I turn around HE’S making a way  Tha...  ...          0\n",
              "3198  [USER] Hello! It's a pleasure for us that you'...  ...          0\n",
              "2745                                     What a cutie!   ...          0\n",
              "1010                            [USER] have a nice day   ...          0\n",
              "2002  [USER] Oh, this is what true love looks like! ...  ...          0\n",
              "515                 00:00 i love you my jiminie [USER]   ...          0\n",
              "762                My irl friend is so nice I love her   ...          0\n",
              "3224  [USER] happy thursday morning ! don't skip ur ...  ...          0\n",
              "2638  ♡̶ꕀ 𝚑𝚊𝚟𝚎 𝚊 𝚙𝚛𝚎𝚝𝚝𝚢 𝚗𝚒𝚐𝚑𝚝 𝚔𝚞𝚋 ⟢  ◌; 𝚝𝚘 𝚍𝚘 𝚕𝚒𝚜𝚝 𝚏...  ...          0\n",
              "3386  When you do right in life, God blesses your sk...  ...          0\n",
              "1407                           you deserve it chanyeol   ...          0\n",
              "2596                             [USER] Good morninggg   ...          0\n",
              "2142                                       [USER] Amen   ...          0\n",
              "3085  Ya Allah guide me, support me, protect me, pro...  ...          0\n",
              "114   [USER] mind helping me? like= follow rt= follo...  ...          0\n",
              "3500         [USER] [USER] Happy to be a part of this!   ...          0\n",
              "3764                                     [USER] love u   ...          0\n",
              "233   Trying to stay away from my phone a little mor...  ...          0\n",
              "\n",
              "[20 rows x 5 columns]"
            ]
          },
          "metadata": {
            "tags": []
          },
          "execution_count": 43
        }
      ]
    },
    {
      "cell_type": "code",
      "metadata": {
        "colab": {
          "base_uri": "https://localhost:8080/"
        },
        "id": "e2wKYVQDgeDo",
        "outputId": "f2f6d8e0-8aa0-4a8a-a97e-e397bf0478a6"
      },
      "source": [
        "print(df_test.iloc[2002])\n",
        "print(\"===========\")\n",
        "print(df_test.iloc[2745])\n",
        "print(\"===========\")\n",
        "print(df_test.iloc[1010])\n",
        "print(\"===========\")\n",
        "print(df_test.iloc[762])\n",
        "print(\"===========\")\n",
        "print(df_test.iloc[3764])"
      ],
      "execution_count": 45,
      "outputs": [
        {
          "output_type": "stream",
          "text": [
            "index                                                         76818\n",
            "tweets            [USER] Oh, this is what true love looks like! ...\n",
            "emoji_sentence                                                    😍\n",
            "follows?                                                          0\n",
            "Name: 2002, dtype: object\n",
            "===========\n",
            "index                      84813\n",
            "tweets            What a cutie! \n",
            "emoji_sentence                 😍\n",
            "follows?                       0\n",
            "Name: 2745, dtype: object\n",
            "===========\n",
            "index                               80561\n",
            "tweets            [USER] have a nice day \n",
            "emoji_sentence                          💖\n",
            "follows?                                0\n",
            "Name: 1010, dtype: object\n",
            "===========\n",
            "index                                            76659\n",
            "tweets            My irl friend is so nice I love her \n",
            "emoji_sentence                                       😙\n",
            "follows?                                             0\n",
            "Name: 762, dtype: object\n",
            "===========\n",
            "index                      86438\n",
            "tweets            [USER] love u \n",
            "emoji_sentence                 💜\n",
            "follows?                       0\n",
            "Name: 3764, dtype: object\n"
          ],
          "name": "stdout"
        }
      ]
    },
    {
      "cell_type": "code",
      "metadata": {
        "id": "IJzwiQMPHtlv",
        "colab": {
          "base_uri": "https://localhost:8080/"
        },
        "outputId": "d445ea81-8cd0-4b74-8e41-f5f971d5a75f"
      },
      "source": [
        "print(df_test.shape)\n",
        "print(incorrect_neg.shape)\n",
        "print(incorrect_pos.shape)\n"
      ],
      "execution_count": 44,
      "outputs": [
        {
          "output_type": "stream",
          "text": [
            "(4438, 4)\n",
            "(329, 5)\n",
            "(1082, 5)\n"
          ],
          "name": "stdout"
        }
      ]
    },
    {
      "cell_type": "code",
      "metadata": {
        "colab": {
          "base_uri": "https://localhost:8080/",
          "height": 350
        },
        "id": "qaOepJ3TKrQy",
        "outputId": "4e599f6a-d24c-47ab-a973-70c5a477cfd3"
      },
      "source": [
        "import matplotlib.pyplot as plt\n",
        "\n",
        "plt.hist(incorrect_neg.probability)"
      ],
      "execution_count": null,
      "outputs": [
        {
          "output_type": "execute_result",
          "data": {
            "text/plain": [
              "(array([68., 37., 46., 32., 32., 26., 35., 22., 18., 13.]),\n",
              " array([0.50079587, 0.54808993, 0.595384  , 0.64267806, 0.68997212,\n",
              "        0.73726619, 0.78456025, 0.83185432, 0.87914838, 0.92644244,\n",
              "        0.97373651]),\n",
              " <a list of 10 Patch objects>)"
            ]
          },
          "metadata": {
            "tags": []
          },
          "execution_count": 22
        },
        {
          "output_type": "display_data",
          "data": {
            "image/png": "[encoded data removed]",
            "text/plain": [
              "<Figure size 432x288 with 1 Axes>"
            ]
          },
          "metadata": {
            "tags": [],
            "needs_background": "light"
          }
        }
      ]
    },
    {
      "cell_type": "code",
      "metadata": {
        "id": "1Wfaki7sK56O",
        "colab": {
          "base_uri": "https://localhost:8080/",
          "height": 350
        },
        "outputId": "2676b631-af72-4222-f6ab-83464a179ee2"
      },
      "source": [
        "plt.hist(incorrect_pos.probability)"
      ],
      "execution_count": null,
      "outputs": [
        {
          "output_type": "execute_result",
          "data": {
            "text/plain": [
              "(array([ 97., 132., 126., 147., 139., 139., 146., 101.,  47.,   8.]),\n",
              " array([0.50021863, 0.5477544 , 0.59529016, 0.64282593, 0.69036169,\n",
              "        0.73789746, 0.78543322, 0.83296899, 0.88050475, 0.92804052,\n",
              "        0.97557628]),\n",
              " <a list of 10 Patch objects>)"
            ]
          },
          "metadata": {
            "tags": []
          },
          "execution_count": 23
        },
        {
          "output_type": "display_data",
          "data": {
            "image/png": "[encoded data removed]",
            "text/plain": [
              "<Figure size 432x288 with 1 Axes>"
            ]
          },
          "metadata": {
            "tags": [],
            "needs_background": "light"
          }
        }
      ]
    },
    {
      "cell_type": "code",
      "metadata": {
        "id": "cbZid9IvUobH"
      },
      "source": [
        "# results['emoji_sentence_len'] = results['emoji_sentence'].apply(lambda x: len(x))\n",
        "# results.describe()\n"
      ],
      "execution_count": 27,
      "outputs": []
    }
  ]
}