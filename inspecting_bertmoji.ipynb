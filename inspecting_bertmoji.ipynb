{
 "cells": [
  {
   "cell_type": "code",
   "execution_count": 1,
   "metadata": {},
   "outputs": [],
   "source": [
    "from bertmoji_utils import * "
   ]
  },
  {
   "cell_type": "code",
   "execution_count": 2,
   "metadata": {},
   "outputs": [
    {
     "name": "stdout",
     "output_type": "stream",
     "text": [
      "cuda:0\n"
     ]
    }
   ],
   "source": [
    "device = torch.device(\"cuda:0\" if torch.cuda.is_available() else \"cpu\")\n",
    "print(device)"
   ]
  },
  {
   "cell_type": "code",
   "execution_count": 3,
   "metadata": {},
   "outputs": [],
   "source": [
    "model, tokenizer, train_perf, valid_perf = load_model('./models_nlu/multiple-bertmoji.pt')"
   ]
  },
  {
   "cell_type": "code",
   "execution_count": 4,
   "metadata": {},
   "outputs": [
    {
     "data": {
      "text/plain": [
       "{'loss': [0.6061136050595983, 0.4777218547044145, 0.4186663171524331],\n",
       " 'f1': [0.6063353961154341, 0.7522595596755504, 0.7858888028127049],\n",
       " 'accuracy': [0.6175822867686447, 0.7454913398012023, 0.786143681923695]}"
      ]
     },
     "execution_count": 4,
     "metadata": {},
     "output_type": "execute_result"
    }
   ],
   "source": [
    "train_perf"
   ]
  },
  {
   "cell_type": "code",
   "execution_count": 5,
   "metadata": {},
   "outputs": [
    {
     "data": {
      "text/plain": [
       "{'loss': [0.4784955778404286, 0.4271879329493171, 0.40196297896143635],\n",
       " 'f1': [0.75787728026534, 0.807153965785381, 0.8155802861685215],\n",
       " 'accuracy': [0.7567680133277801, 0.7934194085797585, 0.806747188671387]}"
      ]
     },
     "execution_count": 5,
     "metadata": {},
     "output_type": "execute_result"
    }
   ],
   "source": [
    "valid_perf"
   ]
  },
  {
   "cell_type": "code",
   "execution_count": 6,
   "metadata": {},
   "outputs": [],
   "source": [
    "text_sentences = [\"I love frappuccinos, they're soooo good\", \n",
    "                  \"really wish I didn't have to do work\", \n",
    "                  \"how the fuck do I get a vaccine\",\n",
    "                  \"I date men because I too am shallow but in that I have to be the hotter one in the relationship and it would be way too hard with women\",\n",
    "                  \"it’s shark week, baby. let’s gooooo\",\n",
    "                  \"it’s arm and leg day baby\",\n",
    "                  \"I love visiting Ecuador\"]\n",
    "emoji_sentences =  [\"😋😋😋\", \n",
    "                    \"😭\", \n",
    "                    \"😌🤤🤠🤠\",\n",
    "                    \"😂\",\n",
    "                   \"🦈\",\n",
    "                   \"💪🏋🦵\",\n",
    "                   \" 🇨🇦\"]"
   ]
  },
  {
   "cell_type": "code",
   "execution_count": 7,
   "metadata": {},
   "outputs": [],
   "source": [
    "x = list(zip(text_sentences, emoji_sentences))"
   ]
  },
  {
   "cell_type": "code",
   "execution_count": 8,
   "metadata": {},
   "outputs": [
    {
     "data": {
      "text/html": [
       "<div>\n",
       "<style scoped>\n",
       "    .dataframe tbody tr th:only-of-type {\n",
       "        vertical-align: middle;\n",
       "    }\n",
       "\n",
       "    .dataframe tbody tr th {\n",
       "        vertical-align: top;\n",
       "    }\n",
       "\n",
       "    .dataframe thead th {\n",
       "        text-align: right;\n",
       "    }\n",
       "</style>\n",
       "<table border=\"1\" class=\"dataframe\">\n",
       "  <thead>\n",
       "    <tr style=\"text-align: right;\">\n",
       "      <th></th>\n",
       "      <th>tweet</th>\n",
       "      <th>emoji_sentence</th>\n",
       "    </tr>\n",
       "  </thead>\n",
       "  <tbody>\n",
       "    <tr>\n",
       "      <th>0</th>\n",
       "      <td>I love frappuccinos, they're soooo good</td>\n",
       "      <td>😋😋😋</td>\n",
       "    </tr>\n",
       "    <tr>\n",
       "      <th>1</th>\n",
       "      <td>really wish I didn't have to do work</td>\n",
       "      <td>😭</td>\n",
       "    </tr>\n",
       "    <tr>\n",
       "      <th>2</th>\n",
       "      <td>how the fuck do I get a vaccine</td>\n",
       "      <td>😌🤤🤠🤠</td>\n",
       "    </tr>\n",
       "    <tr>\n",
       "      <th>3</th>\n",
       "      <td>I date men because I too am shallow but in tha...</td>\n",
       "      <td>😂</td>\n",
       "    </tr>\n",
       "    <tr>\n",
       "      <th>4</th>\n",
       "      <td>it’s shark week, baby. let’s gooooo</td>\n",
       "      <td>🦈</td>\n",
       "    </tr>\n",
       "    <tr>\n",
       "      <th>5</th>\n",
       "      <td>it’s arm and leg day baby</td>\n",
       "      <td>💪🏋🦵</td>\n",
       "    </tr>\n",
       "    <tr>\n",
       "      <th>6</th>\n",
       "      <td>I love visiting Ecuador</td>\n",
       "      <td>🇨🇦</td>\n",
       "    </tr>\n",
       "  </tbody>\n",
       "</table>\n",
       "</div>"
      ],
      "text/plain": [
       "                                               tweet emoji_sentence\n",
       "0            I love frappuccinos, they're soooo good            😋😋😋\n",
       "1               really wish I didn't have to do work              😭\n",
       "2                    how the fuck do I get a vaccine           😌🤤🤠🤠\n",
       "3  I date men because I too am shallow but in tha...              😂\n",
       "4                it’s shark week, baby. let’s gooooo              🦈\n",
       "5                          it’s arm and leg day baby            💪🏋🦵\n",
       "6                            I love visiting Ecuador             🇨🇦"
      ]
     },
     "execution_count": 8,
     "metadata": {},
     "output_type": "execute_result"
    }
   ],
   "source": [
    "t, df = tokenize_data(x, tokenizer, return_df = True)\n",
    "df"
   ]
  },
  {
   "cell_type": "code",
   "execution_count": 12,
   "metadata": {},
   "outputs": [],
   "source": [
    "results = run_batch(model, x, tokenizer, device, human_readable=True)"
   ]
  },
  {
   "cell_type": "code",
   "execution_count": 13,
   "metadata": {},
   "outputs": [
    {
     "data": {
      "text/html": [
       "<div>\n",
       "<style scoped>\n",
       "    .dataframe tbody tr th:only-of-type {\n",
       "        vertical-align: middle;\n",
       "    }\n",
       "\n",
       "    .dataframe tbody tr th {\n",
       "        vertical-align: top;\n",
       "    }\n",
       "\n",
       "    .dataframe thead th {\n",
       "        text-align: right;\n",
       "    }\n",
       "</style>\n",
       "<table border=\"1\" class=\"dataframe\">\n",
       "  <thead>\n",
       "    <tr style=\"text-align: right;\">\n",
       "      <th></th>\n",
       "      <th>tweet</th>\n",
       "      <th>emoji_sentence</th>\n",
       "      <th>predictions</th>\n",
       "    </tr>\n",
       "  </thead>\n",
       "  <tbody>\n",
       "    <tr>\n",
       "      <th>0</th>\n",
       "      <td>I love frappuccinos, they're soooo good</td>\n",
       "      <td>😋😋😋</td>\n",
       "      <td>Y</td>\n",
       "    </tr>\n",
       "    <tr>\n",
       "      <th>1</th>\n",
       "      <td>really wish I didn't have to do work</td>\n",
       "      <td>😭</td>\n",
       "      <td>Y</td>\n",
       "    </tr>\n",
       "    <tr>\n",
       "      <th>2</th>\n",
       "      <td>how the fuck do I get a vaccine</td>\n",
       "      <td>😌🤤🤠🤠</td>\n",
       "      <td>N</td>\n",
       "    </tr>\n",
       "    <tr>\n",
       "      <th>3</th>\n",
       "      <td>I date men because I too am shallow but in tha...</td>\n",
       "      <td>😂</td>\n",
       "      <td>Y</td>\n",
       "    </tr>\n",
       "    <tr>\n",
       "      <th>4</th>\n",
       "      <td>it’s shark week, baby. let’s gooooo</td>\n",
       "      <td>🦈</td>\n",
       "      <td>Y</td>\n",
       "    </tr>\n",
       "    <tr>\n",
       "      <th>5</th>\n",
       "      <td>it’s arm and leg day baby</td>\n",
       "      <td>💪🏋🦵</td>\n",
       "      <td>Y</td>\n",
       "    </tr>\n",
       "    <tr>\n",
       "      <th>6</th>\n",
       "      <td>I love visiting Ecuador</td>\n",
       "      <td>🇨🇦</td>\n",
       "      <td>Y</td>\n",
       "    </tr>\n",
       "  </tbody>\n",
       "</table>\n",
       "</div>"
      ],
      "text/plain": [
       "                                               tweet emoji_sentence  \\\n",
       "0            I love frappuccinos, they're soooo good            😋😋😋   \n",
       "1               really wish I didn't have to do work              😭   \n",
       "2                    how the fuck do I get a vaccine           😌🤤🤠🤠   \n",
       "3  I date men because I too am shallow but in tha...              😂   \n",
       "4                it’s shark week, baby. let’s gooooo              🦈   \n",
       "5                          it’s arm and leg day baby            💪🏋🦵   \n",
       "6                            I love visiting Ecuador             🇨🇦   \n",
       "\n",
       "  predictions  \n",
       "0           Y  \n",
       "1           Y  \n",
       "2           N  \n",
       "3           Y  \n",
       "4           Y  \n",
       "5           Y  \n",
       "6           Y  "
      ]
     },
     "execution_count": 13,
     "metadata": {},
     "output_type": "execute_result"
    }
   ],
   "source": [
    "results"
   ]
  },
  {
   "cell_type": "code",
   "execution_count": null,
   "metadata": {},
   "outputs": [],
   "source": []
  }
 ],
 "metadata": {
  "kernelspec": {
   "display_name": "Python 3",
   "language": "python",
   "name": "python3"
  },
  "language_info": {
   "codemirror_mode": {
    "name": "ipython",
    "version": 3
   },
   "file_extension": ".py",
   "mimetype": "text/x-python",
   "name": "python",
   "nbconvert_exporter": "python",
   "pygments_lexer": "ipython3",
   "version": "3.8.5"
  }
 },
 "nbformat": 4,
 "nbformat_minor": 4
}
