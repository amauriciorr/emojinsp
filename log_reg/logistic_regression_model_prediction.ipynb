{
  "nbformat": 4,
  "nbformat_minor": 0,
  "metadata": {
    "colab": {
      "name": "logistic_regression_model_prediction.ipynb",
      "provenance": [],
      "collapsed_sections": [
        "NNWwwg_V8BV6",
        "DtuXsHxF8hgO",
        "sLkaHBPAioHf"
      ],
      "toc_visible": true
    },
    "kernelspec": {
      "name": "python3",
      "display_name": "Python 3"
    },
    "language_info": {
      "name": "python"
    }
  },
  "cells": [
    {
      "cell_type": "code",
      "metadata": {
        "colab": {
          "base_uri": "https://localhost:8080/"
        },
        "id": "_6omA1Kcjev_",
        "outputId": "082a6400-35bc-4e11-d6b2-18de70340bd3"
      },
      "source": [
        "from google.colab import drive\n",
        "drive.mount('/content/drive')"
      ],
      "execution_count": null,
      "outputs": [
        {
          "output_type": "stream",
          "text": [
            "Mounted at /content/drive\n"
          ],
          "name": "stdout"
        }
      ]
    },
    {
      "cell_type": "code",
      "metadata": {
        "colab": {
          "base_uri": "https://localhost:8080/"
        },
        "id": "gn_hEojLp9XH",
        "outputId": "69b535c9-9cbd-4588-e124-187f88063fc6"
      },
      "source": [
        "import gensim.models as gsm\n",
        "import gensim.downloader\n",
        "import pandas as pd\n",
        "import time\n",
        "import string\n",
        "import nltk\n",
        "nltk.download('punkt')\n",
        "import numpy as np\n",
        "import pickle\n",
        "from sklearn.feature_extraction.text import CountVectorizer\n",
        "from sklearn.feature_extraction.text import TfidfVectorizer\n",
        "from gensim.models import Word2Vec\n",
        "import matplotlib.pyplot as plt"
      ],
      "execution_count": null,
      "outputs": [
        {
          "output_type": "stream",
          "text": [
            "[nltk_data] Downloading package punkt to /root/nltk_data...\n",
            "[nltk_data]   Unzipping tokenizers/punkt.zip.\n"
          ],
          "name": "stdout"
        }
      ]
    },
    {
      "cell_type": "markdown",
      "metadata": {
        "id": "U_owdfNn0ar6"
      },
      "source": [
        "## Load Data - Full Data"
      ]
    },
    {
      "cell_type": "markdown",
      "metadata": {
        "id": "mj33_TE_P9Kf"
      },
      "source": [
        "### Raw Data"
      ]
    },
    {
      "cell_type": "code",
      "metadata": {
        "id": "gjw34dNoqAQw"
      },
      "source": [
        "df_train = pd.read_csv('/content/drive/MyDrive/2021_NLU/data/full_data/emoji_nsp_dataset_train.csv')\n",
        "df_val = pd.read_csv('/content/drive/MyDrive/2021_NLU/data/full_data/emoji_nsp_dataset_valid.csv')\n",
        "df_test = pd.read_csv('/content/drive/MyDrive/2021_NLU/data/full_data/emoji_nsp_dataset_test.csv')"
      ],
      "execution_count": null,
      "outputs": []
    },
    {
      "cell_type": "code",
      "metadata": {
        "colab": {
          "base_uri": "https://localhost:8080/",
          "height": 204
        },
        "id": "1TAAIGd9rBi_",
        "outputId": "399f4e8f-6e22-4d93-8cad-9630fae59f5b"
      },
      "source": [
        "df_train.head()"
      ],
      "execution_count": null,
      "outputs": [
        {
          "output_type": "execute_result",
          "data": {
            "text/html": [
              "<div>\n",
              "<style scoped>\n",
              "    .dataframe tbody tr th:only-of-type {\n",
              "        vertical-align: middle;\n",
              "    }\n",
              "\n",
              "    .dataframe tbody tr th {\n",
              "        vertical-align: top;\n",
              "    }\n",
              "\n",
              "    .dataframe thead th {\n",
              "        text-align: right;\n",
              "    }\n",
              "</style>\n",
              "<table border=\"1\" class=\"dataframe\">\n",
              "  <thead>\n",
              "    <tr style=\"text-align: right;\">\n",
              "      <th></th>\n",
              "      <th>index</th>\n",
              "      <th>tweets</th>\n",
              "      <th>emoji_sentence</th>\n",
              "      <th>follows?</th>\n",
              "    </tr>\n",
              "  </thead>\n",
              "  <tbody>\n",
              "    <tr>\n",
              "      <th>0</th>\n",
              "      <td>50553</td>\n",
              "      <td>The dababy memes make no sense and that’s why ...</td>\n",
              "      <td>😭</td>\n",
              "      <td>1</td>\n",
              "    </tr>\n",
              "    <tr>\n",
              "      <th>1</th>\n",
              "      <td>74541</td>\n",
              "      <td>a year ago today i would be holding my breath ...</td>\n",
              "      <td>😵</td>\n",
              "      <td>0</td>\n",
              "    </tr>\n",
              "    <tr>\n",
              "      <th>2</th>\n",
              "      <td>50992</td>\n",
              "      <td>I told my mama about how the music industry is...</td>\n",
              "      <td>💯</td>\n",
              "      <td>1</td>\n",
              "    </tr>\n",
              "    <tr>\n",
              "      <th>3</th>\n",
              "      <td>95343</td>\n",
              "      <td>[USER] [USER] Thankyou guys</td>\n",
              "      <td>💯</td>\n",
              "      <td>0</td>\n",
              "    </tr>\n",
              "    <tr>\n",
              "      <th>4</th>\n",
              "      <td>60555</td>\n",
              "      <td>You want new SUBS? Like ️ Retweet Follow me  R...</td>\n",
              "      <td>😂😂</td>\n",
              "      <td>0</td>\n",
              "    </tr>\n",
              "  </tbody>\n",
              "</table>\n",
              "</div>"
            ],
            "text/plain": [
              "   index  ... follows?\n",
              "0  50553  ...        1\n",
              "1  74541  ...        0\n",
              "2  50992  ...        1\n",
              "3  95343  ...        0\n",
              "4  60555  ...        0\n",
              "\n",
              "[5 rows x 4 columns]"
            ]
          },
          "metadata": {
            "tags": []
          },
          "execution_count": 14
        }
      ]
    },
    {
      "cell_type": "code",
      "metadata": {
        "colab": {
          "base_uri": "https://localhost:8080/"
        },
        "id": "wCl9_bZvrsQm",
        "outputId": "b1a991b0-d9c2-4283-d61e-2b61993b3a92"
      },
      "source": [
        "df_train.count()"
      ],
      "execution_count": null,
      "outputs": [
        {
          "output_type": "execute_result",
          "data": {
            "text/plain": [
              "index             15540\n",
              "tweets            15540\n",
              "emoji_sentence    15540\n",
              "follows?          15540\n",
              "dtype: int64"
            ]
          },
          "metadata": {
            "tags": []
          },
          "execution_count": 7
        }
      ]
    },
    {
      "cell_type": "markdown",
      "metadata": {
        "id": "rhFYPLWu8HNA"
      },
      "source": [
        "### Load Tokens"
      ]
    },
    {
      "cell_type": "code",
      "metadata": {
        "id": "4lIVgsadxKLA"
      },
      "source": [
        "with open('/content/drive/MyDrive/2021_NLU/data/full_data/full_data.pkl', 'rb') as f:  \n",
        "    x_train_tokenized, x_train_normal, x_val_tokenized, x_val_normal, x_test_tokenized, x_test_normal, empty_indices_train, x_train_tokenized_2, \\\n",
        "                 x_train_normal_2, empty_indices_val, x_val_tokenized_2, x_val_normal_2, y_train, y_val, y_train_2, y_val_2, y_test, y_test_2,\\\n",
        "                 empty_indices_test, x_test_normal_2, x_test_tokenized_2 = pickle.load(f)"
      ],
      "execution_count": null,
      "outputs": []
    },
    {
      "cell_type": "code",
      "metadata": {
        "colab": {
          "base_uri": "https://localhost:8080/"
        },
        "id": "Yc1JhRi9i1iF",
        "outputId": "27a45dff-24db-4c07-ba2e-e512484b7e84"
      },
      "source": [
        "df_test['tokenized_tweets'] = x_test_tokenized\n",
        "df_test['tokenized_len'] = df_test['tokenized_tweets'].apply(lambda x: len(x))\n",
        "print(df_test['tokenized_len'].mean())\n",
        "print(df_test['tokenized_len'].median())"
      ],
      "execution_count": null,
      "outputs": [
        {
          "output_type": "stream",
          "text": [
            "14.242000901306895\n",
            "10.0\n"
          ],
          "name": "stdout"
        }
      ]
    },
    {
      "cell_type": "markdown",
      "metadata": {
        "id": "ftrgTt0h8Z7R"
      },
      "source": [
        "### Load Vectors"
      ]
    },
    {
      "cell_type": "code",
      "metadata": {
        "id": "dwUDi7-OzlhL"
      },
      "source": [
        "#AVERAGE VECTORS\n",
        "with open('/content/drive/MyDrive/2021_NLU/data/full_data/full_vec.pkl', 'rb') as f:  \n",
        "    X_train_vec, X_val_vec, X_test_vec = pickle.load(f)"
      ],
      "execution_count": null,
      "outputs": []
    },
    {
      "cell_type": "code",
      "metadata": {
        "id": "rpYchOBhhuIX"
      },
      "source": [
        "#CONCATENATED VECTORS\n",
        "with open('/content/drive/MyDrive/2021_NLU/data/full_data/full_vec.pkl', 'rb') as f:  \n",
        "    X_train_vec_concat, X_val_vec_concat, X_test_vec_concat = pickle.load(f)"
      ],
      "execution_count": null,
      "outputs": []
    },
    {
      "cell_type": "markdown",
      "metadata": {
        "id": "SehXB2kF0ljA"
      },
      "source": [
        "## Load Data - (ONLY) SINGLE EMOJI "
      ]
    },
    {
      "cell_type": "markdown",
      "metadata": {
        "id": "_7khdE79QUvZ"
      },
      "source": [
        "### Raw Data"
      ]
    },
    {
      "cell_type": "code",
      "metadata": {
        "id": "jBfMT8ND0ob2"
      },
      "source": [
        "df_sing_train = pd.read_csv('/content/drive/MyDrive/2021_NLU/data/single_emoji/emoji_nsp_dataset_single_emoji_train.csv')\n",
        "df_sing_val = pd.read_csv('/content/drive/MyDrive/2021_NLU/data/single_emoji/emoji_nsp_dataset_single_emoji_valid.csv')\n",
        "df_sing_test = pd.read_csv('/content/drive/MyDrive/2021_NLU/data/single_emoji/emoji_nsp_dataset_single_emoji_test.csv')"
      ],
      "execution_count": null,
      "outputs": []
    },
    {
      "cell_type": "markdown",
      "metadata": {
        "id": "TU6KMhslQkSg"
      },
      "source": [
        "### Load Tokens"
      ]
    },
    {
      "cell_type": "code",
      "metadata": {
        "id": "Pfu3aE2T7H41"
      },
      "source": [
        "with open('/content/drive/MyDrive/2021_NLU/data/single_emoji/single_emoji.pkl', 'rb') as f:  \n",
        "    x_train_sing_tokenized, x_train_sing_normal, x_val_sing_tokenized, x_val_sing_normal, x_test_sing_tokenized, x_test_sing_normal, empty_indices_sing_train, x_train_sing_tokenized_2, \\\n",
        "                 x_train_sing_normal_2, empty_indices_sing_val, x_val_sing_tokenized_2, x_val_sing_normal_2, y_sing_train, y_sing_val, y_train_sing_2, y_val_sing_2, y_sing_test, y_test_sing_2,\\\n",
        "                 empty_indices_sing_test, x_test_sing_normal_2, x_test_sing_tokenized_2 = pickle.load(f)"
      ],
      "execution_count": null,
      "outputs": []
    },
    {
      "cell_type": "code",
      "metadata": {
        "colab": {
          "base_uri": "https://localhost:8080/"
        },
        "id": "kbZ32AnX9sXR",
        "outputId": "c6dc079a-29f8-4109-c764-9bd2bcfc8f7b"
      },
      "source": [
        "len(x_train_sing_tokenized_2)"
      ],
      "execution_count": null,
      "outputs": [
        {
          "output_type": "execute_result",
          "data": {
            "text/plain": [
              "15015"
            ]
          },
          "metadata": {
            "tags": []
          },
          "execution_count": 61
        }
      ]
    },
    {
      "cell_type": "markdown",
      "metadata": {
        "id": "yB8nhFLGbj7p"
      },
      "source": [
        "### Load Vectors"
      ]
    },
    {
      "cell_type": "code",
      "metadata": {
        "id": "Kd7GQKsE87e4"
      },
      "source": [
        "# AVERAGE VECETORS\n",
        "with open('/content/drive/MyDrive/2021_NLU/data/single_emoji/single_emoji_vec.pkl', 'rb') as f:  \n",
        "    X_train_sing_vec, X_val_sing_vec, X_test_sing_vec = pickle.load(f)"
      ],
      "execution_count": null,
      "outputs": []
    },
    {
      "cell_type": "code",
      "metadata": {
        "id": "_lkXVR32brgd"
      },
      "source": [
        "# CONCATENATED VECTORS\n",
        "with open('/content/drive/MyDrive/2021_NLU/data/single_emoji/single_emoji_vec_concat.pkl', 'rb') as f:  \n",
        "    X_train_sing_vec_concat, X_val_sing_vec_concat, X_test_sing_vec_concat = pickle.load(f)"
      ],
      "execution_count": null,
      "outputs": []
    },
    {
      "cell_type": "markdown",
      "metadata": {
        "id": "wWED9-T91BBc"
      },
      "source": [
        "## Load Data - (ONLY) MULTI EMOJIS WITH REPEATS "
      ]
    },
    {
      "cell_type": "markdown",
      "metadata": {
        "id": "H_bPVH2MQ9Yp"
      },
      "source": [
        "### Raw Data"
      ]
    },
    {
      "cell_type": "code",
      "metadata": {
        "id": "dClnKTpX1HD4"
      },
      "source": [
        "df_mul_repeat_train = pd.read_csv('/content/drive/MyDrive/2021_NLU/data/multi_emoji/emoji_nsp_dataset_multi_emoji_train.csv')\n",
        "df_mul_repeat_val = pd.read_csv('/content/drive/MyDrive/2021_NLU/data/multi_emoji/emoji_nsp_dataset_multi_emoji_valid.csv')\n",
        "df_mul_repeat_test = pd.read_csv('/content/drive/MyDrive/2021_NLU/data/multi_emoji/emoji_nsp_dataset_multi_emoji_test.csv')"
      ],
      "execution_count": null,
      "outputs": []
    },
    {
      "cell_type": "code",
      "metadata": {
        "colab": {
          "base_uri": "https://localhost:8080/",
          "height": 204
        },
        "id": "TIGjSwgy1HGz",
        "outputId": "b2c18d57-03d0-42d5-d159-c2eabbdeab65"
      },
      "source": [
        "df_mul_repeat_train.head()"
      ],
      "execution_count": null,
      "outputs": [
        {
          "output_type": "execute_result",
          "data": {
            "text/html": [
              "<div>\n",
              "<style scoped>\n",
              "    .dataframe tbody tr th:only-of-type {\n",
              "        vertical-align: middle;\n",
              "    }\n",
              "\n",
              "    .dataframe tbody tr th {\n",
              "        vertical-align: top;\n",
              "    }\n",
              "\n",
              "    .dataframe thead th {\n",
              "        text-align: right;\n",
              "    }\n",
              "</style>\n",
              "<table border=\"1\" class=\"dataframe\">\n",
              "  <thead>\n",
              "    <tr style=\"text-align: right;\">\n",
              "      <th></th>\n",
              "      <th>index</th>\n",
              "      <th>tweets</th>\n",
              "      <th>emoji_sentence</th>\n",
              "      <th>follows?</th>\n",
              "    </tr>\n",
              "  </thead>\n",
              "  <tbody>\n",
              "    <tr>\n",
              "      <th>0</th>\n",
              "      <td>6704</td>\n",
              "      <td>good morning [USER] you woke up so early  anyw...</td>\n",
              "      <td>😶😊💚</td>\n",
              "      <td>1</td>\n",
              "    </tr>\n",
              "    <tr>\n",
              "      <th>1</th>\n",
              "      <td>10651</td>\n",
              "      <td>MVP  4x Scoring champ  3x All NBA FIRST TEAM 3...</td>\n",
              "      <td>✅✅✅✅</td>\n",
              "      <td>1</td>\n",
              "    </tr>\n",
              "    <tr>\n",
              "      <th>2</th>\n",
              "      <td>6345</td>\n",
              "      <td>[USER] Your tears baby boy ...Sleep sad</td>\n",
              "      <td>🌚🌚👌</td>\n",
              "      <td>1</td>\n",
              "    </tr>\n",
              "    <tr>\n",
              "      <th>3</th>\n",
              "      <td>5268</td>\n",
              "      <td>15 php ---&amp;gt; Follow [USER] ---&amp;gt; RT &amp;amp; ...</td>\n",
              "      <td>💗📌</td>\n",
              "      <td>1</td>\n",
              "    </tr>\n",
              "    <tr>\n",
              "      <th>4</th>\n",
              "      <td>5897</td>\n",
              "      <td>this emoji looks like sia</td>\n",
              "      <td>😭🍙🍙🍙🍙🍙🍙🍙🍙🍙🍙🍙🍙🍙🍙🍙🍙🍙🍙🍙🍙🍙</td>\n",
              "      <td>1</td>\n",
              "    </tr>\n",
              "  </tbody>\n",
              "</table>\n",
              "</div>"
            ],
            "text/plain": [
              "   index  ... follows?\n",
              "0   6704  ...        1\n",
              "1  10651  ...        1\n",
              "2   6345  ...        1\n",
              "3   5268  ...        1\n",
              "4   5897  ...        1\n",
              "\n",
              "[5 rows x 4 columns]"
            ]
          },
          "metadata": {
            "tags": []
          },
          "execution_count": 101
        }
      ]
    },
    {
      "cell_type": "markdown",
      "metadata": {
        "id": "XGJlFQH8RDxV"
      },
      "source": [
        "### Load Tokens"
      ]
    },
    {
      "cell_type": "code",
      "metadata": {
        "id": "kHcNhCY8KySi"
      },
      "source": [
        "with open('/content/drive/MyDrive/2021_NLU/data/multi_emoji/mul_repeat_emojis.pkl', 'rb') as f:  \n",
        "    x_train_mul_repeat_tokenized, x_train_mul_repeat_normal, x_val_mul_repeat_tokenized, x_val_mul_repeat_normal, x_test_mul_repeat_tokenized, x_test_mul_repeat_normal, empty_indices_mul_repeat_train, x_train_mul_repeat_tokenized_2, \\\n",
        "                 x_train_mul_repeat_normal_2, empty_indices_mul_repeat_val, x_val_mul_repeat_tokenized_2, x_val_mul_repeat_normal_2, y_mul_repeat_train, y_mul_repeat_val, y_train_mul_repeat_2, y_val_mul_repeat_2, y_mul_repeat_test, y_test_mul_repeat_2,\\\n",
        "                 empty_indices_mul_repeat_test, x_test_mul_repeat_normal_2, x_test_mul_repeat_tokenized_2 = pickle.load(f)"
      ],
      "execution_count": null,
      "outputs": []
    },
    {
      "cell_type": "markdown",
      "metadata": {
        "id": "fumuF82McSFz"
      },
      "source": [
        "### Load Vectors"
      ]
    },
    {
      "cell_type": "code",
      "metadata": {
        "id": "ttXwiN2kLNKC"
      },
      "source": [
        "# AVERAGE VECTORS\n",
        "with open('/content/drive/MyDrive/2021_NLU/data/multi_emoji/mul_repeat_emojis_vec.pkl', 'rb') as f:  \n",
        "    X_train_mul_repeat_vec, X_val_mul_repeat_vec, X_test_mul_repeat_vec = pickle.load(f)"
      ],
      "execution_count": null,
      "outputs": []
    },
    {
      "cell_type": "code",
      "metadata": {
        "id": "TEQ6Ht02cXgh"
      },
      "source": [
        "# CONCATENATED VECTORS\n",
        "with open('/content/drive/MyDrive/2021_NLU/data/multi_emoji/mul_repeat_emojis_vec.pkl', 'rb') as f:  \n",
        "    X_train_mul_repeat_vec_concat, X_val_mul_repeat_vec_concat, X_test_mul_repeat_vec_concat = pickle.load(f)"
      ],
      "execution_count": null,
      "outputs": []
    },
    {
      "cell_type": "markdown",
      "metadata": {
        "id": "4Ons1B4P1EqR"
      },
      "source": [
        "## Load Data FULL DATA (SINGLE AND MULTI) WITH NO REPEATS "
      ]
    },
    {
      "cell_type": "markdown",
      "metadata": {
        "id": "DphChsjDRZcK"
      },
      "source": [
        "### Raw Data"
      ]
    },
    {
      "cell_type": "code",
      "metadata": {
        "id": "9A7rZZzF1KPy"
      },
      "source": [
        "df_mul_train = pd.read_csv('/content/drive/MyDrive/2021_NLU/data/no_repeats/emoji_nsp_dataset_no_repeats_train.csv')\n",
        "df_mul_val = pd.read_csv('/content/drive/MyDrive/2021_NLU/data/no_repeats/emoji_nsp_dataset_no_repeats_valid.csv')\n",
        "df_mul_test = pd.read_csv('/content/drive/MyDrive/2021_NLU/data/no_repeats/emoji_nsp_dataset_no_repeats_test.csv')"
      ],
      "execution_count": null,
      "outputs": []
    },
    {
      "cell_type": "code",
      "metadata": {
        "colab": {
          "base_uri": "https://localhost:8080/",
          "height": 204
        },
        "id": "dGECt3HO1Kfk",
        "outputId": "8e8aada5-9edf-46fb-dce3-26e0d13808e6"
      },
      "source": [
        "df_mul_train.head()"
      ],
      "execution_count": null,
      "outputs": [
        {
          "output_type": "execute_result",
          "data": {
            "text/html": [
              "<div>\n",
              "<style scoped>\n",
              "    .dataframe tbody tr th:only-of-type {\n",
              "        vertical-align: middle;\n",
              "    }\n",
              "\n",
              "    .dataframe tbody tr th {\n",
              "        vertical-align: top;\n",
              "    }\n",
              "\n",
              "    .dataframe thead th {\n",
              "        text-align: right;\n",
              "    }\n",
              "</style>\n",
              "<table border=\"1\" class=\"dataframe\">\n",
              "  <thead>\n",
              "    <tr style=\"text-align: right;\">\n",
              "      <th></th>\n",
              "      <th>index</th>\n",
              "      <th>tweets</th>\n",
              "      <th>emoji_sentence</th>\n",
              "      <th>follows?</th>\n",
              "    </tr>\n",
              "  </thead>\n",
              "  <tbody>\n",
              "    <tr>\n",
              "      <th>0</th>\n",
              "      <td>50553</td>\n",
              "      <td>The dababy memes make no sense and that’s why ...</td>\n",
              "      <td>😭</td>\n",
              "      <td>1</td>\n",
              "    </tr>\n",
              "    <tr>\n",
              "      <th>1</th>\n",
              "      <td>74541</td>\n",
              "      <td>a year ago today i would be holding my breath ...</td>\n",
              "      <td>🙏</td>\n",
              "      <td>0</td>\n",
              "    </tr>\n",
              "    <tr>\n",
              "      <th>2</th>\n",
              "      <td>50992</td>\n",
              "      <td>I told my mama about how the music industry is...</td>\n",
              "      <td>💯</td>\n",
              "      <td>1</td>\n",
              "    </tr>\n",
              "    <tr>\n",
              "      <th>3</th>\n",
              "      <td>95343</td>\n",
              "      <td>[USER] [USER] Thankyou guys</td>\n",
              "      <td>💀</td>\n",
              "      <td>0</td>\n",
              "    </tr>\n",
              "    <tr>\n",
              "      <th>4</th>\n",
              "      <td>60555</td>\n",
              "      <td>You want new SUBS? Like ️ Retweet Follow me  R...</td>\n",
              "      <td>😬</td>\n",
              "      <td>0</td>\n",
              "    </tr>\n",
              "  </tbody>\n",
              "</table>\n",
              "</div>"
            ],
            "text/plain": [
              "   index  ... follows?\n",
              "0  50553  ...        1\n",
              "1  74541  ...        0\n",
              "2  50992  ...        1\n",
              "3  95343  ...        0\n",
              "4  60555  ...        0\n",
              "\n",
              "[5 rows x 4 columns]"
            ]
          },
          "metadata": {
            "tags": []
          },
          "execution_count": 103
        }
      ]
    },
    {
      "cell_type": "markdown",
      "metadata": {
        "id": "ec5WU29RReBN"
      },
      "source": [
        "### Load Tokens"
      ]
    },
    {
      "cell_type": "code",
      "metadata": {
        "id": "dlP3XYPDO5GG"
      },
      "source": [
        "with open('/content/drive/MyDrive/2021_NLU/data/no_repeats/mul_emojis.pkl', 'rb') as f:  \n",
        "    x_train_mul_tokenized, x_train_mul_normal, x_val_mul_tokenized, x_val_mul_normal, x_test_mul_tokenized, x_test_mul_normal, empty_indices_mul_train, x_train_mul_tokenized_2, \\\n",
        "                 x_train_mul_normal_2, empty_indices_mul_val, x_val_mul_tokenized_2, x_val_mul_normal_2, y_mul_train, y_mul_val, y_train_mul_2, y_val_mul_2, y_mul_test, y_test_mul_2,\\\n",
        "                 empty_indices_mul_test, x_test_mul_normal_2, x_test_mul_tokenized_2 = pickle.load(f)"
      ],
      "execution_count": null,
      "outputs": []
    },
    {
      "cell_type": "markdown",
      "metadata": {
        "id": "-Pe5JYUocxfh"
      },
      "source": [
        "### Load Vectors"
      ]
    },
    {
      "cell_type": "code",
      "metadata": {
        "id": "unYdKmdvPRQ9"
      },
      "source": [
        "# AVERAGE VECTORS\n",
        "with open('/content/drive/MyDrive/2021_NLU/data/no_repeats/mul_emojis_vec.pkl', 'rb') as f:  \n",
        "    X_train_mul_vec, X_val_mul_vec, X_test_mul_vec = pickle.load(f)"
      ],
      "execution_count": null,
      "outputs": []
    },
    {
      "cell_type": "code",
      "metadata": {
        "id": "x8YK-WvQc4VI"
      },
      "source": [
        "# CONCATENATED VECTORS\n",
        "with open('/content/drive/MyDrive/2021_NLU/data/no_repeats/mul_emojis_vec.pkl', 'rb') as f:  \n",
        "    X_train_mul_vec_concat, X_val_mul_vec_concat, X_test_mul_vec_concat = pickle.load(f)"
      ],
      "execution_count": null,
      "outputs": []
    },
    {
      "cell_type": "markdown",
      "metadata": {
        "id": "AI-zJq7rPXl5"
      },
      "source": [
        "## LogisticRegression Model"
      ]
    },
    {
      "cell_type": "code",
      "metadata": {
        "id": "TIjbDVtyngjP"
      },
      "source": [
        "from sklearn.metrics import f1_score, accuracy_score, confusion_matrix\n",
        "from sklearn.metrics import make_scorer\n",
        "from sklearn.linear_model import LogisticRegression\n",
        "from sklearn.model_selection import GridSearchCV, RandomizedSearchCV\n",
        "\n",
        "def metric(y_true, y_pred):\n",
        "    return f1_score(y_true, y_pred, average='weighted')\n",
        "\n",
        "my_scorer = make_scorer(metric, greater_is_better=True)"
      ],
      "execution_count": null,
      "outputs": []
    },
    {
      "cell_type": "code",
      "metadata": {
        "id": "8FWaT4WfnoD1"
      },
      "source": [
        "def run_model(model, X_train, y_train, X_val, y_val):\n",
        "  print('     ## Fitting')\n",
        "  model.fit(X_train, y_train)\n",
        "  print('     ## Predicting')\n",
        "  preds = model.predict(X_val)\n",
        "  print(' ## F1 Score (weighted) is -', f1_score(y_val, preds, average='weighted'))\n",
        "  print(' ## Accuracy is -', accuracy_score(y_val, preds))\n",
        "  print('      ')\n",
        "  print('               Confusion Matrix')\n",
        "  print(confusion_matrix(y_val, preds))"
      ],
      "execution_count": null,
      "outputs": []
    },
    {
      "cell_type": "code",
      "metadata": {
        "id": "wD7i47THCe55"
      },
      "source": [
        "lr = LogisticRegression()"
      ],
      "execution_count": null,
      "outputs": []
    },
    {
      "cell_type": "code",
      "metadata": {
        "id": "0nQWK7vPNmt2"
      },
      "source": [
        "def run_model_gridsearch_lr(model, X_train, y_train, X_val, y_val):\n",
        "  \n",
        "  cv=5\n",
        "  parameters = {'C': np.logspace(0, 4, 10),'penalty': ['l1', 'l2']}\n",
        "  clf = GridSearchCV(model, parameters, cv=cv, n_jobs=-1, scoring=my_scorer, verbose=0)\n",
        "  print(' ## Fitting GridSearch')\n",
        "  clf.fit(X_train, y_train)\n",
        "\n",
        "  print(\"tuned hpyerparameters :(best parameters) \",clf.best_params_)\n",
        "  print(\"score :\",clf.best_score_)"
      ],
      "execution_count": null,
      "outputs": []
    },
    {
      "cell_type": "code",
      "metadata": {
        "id": "qBDZOzkEVmZ6"
      },
      "source": [
        "def scores(y_val, preds):\n",
        "  print(' ## F1 Score (weighted) is -', f1_score(y_val, preds, average='weighted'))\n",
        "  print(' ## Accuracy is -', accuracy_score(y_val, preds))\n",
        "  print('      ')\n",
        "  print('               Confusion Matrix')\n",
        "  print(confusion_matrix(y_val, preds))"
      ],
      "execution_count": null,
      "outputs": []
    },
    {
      "cell_type": "code",
      "metadata": {
        "id": "JNMXorfACy5N"
      },
      "source": [
        ""
      ],
      "execution_count": null,
      "outputs": []
    },
    {
      "cell_type": "markdown",
      "metadata": {
        "id": "H8REJot7IyKF"
      },
      "source": [
        "###**LR with FULL DATA**"
      ]
    },
    {
      "cell_type": "markdown",
      "metadata": {
        "id": "DCAa_Nu8ibFJ"
      },
      "source": [
        "#### With Averaged Vectors"
      ]
    },
    {
      "cell_type": "code",
      "metadata": {
        "colab": {
          "base_uri": "https://localhost:8080/"
        },
        "id": "8b4hCXxbB_-1",
        "outputId": "dffda13a-53af-4612-c9b5-2e952a7fa075"
      },
      "source": [
        "# BASELINE\n",
        "run_model(lr, X_train_vec, y_train, X_val_vec, y_val)"
      ],
      "execution_count": null,
      "outputs": [
        {
          "output_type": "stream",
          "text": [
            "     ## Fitting\n",
            "     ## Predicting\n",
            " ## F1 Score (weighted) is - 0.5179993984471877\n",
            " ## Accuracy is - 0.517962710322874\n",
            "      \n",
            "               Confusion Matrix\n",
            "[[558 522]\n",
            " [538 581]]\n"
          ],
          "name": "stdout"
        }
      ]
    },
    {
      "cell_type": "code",
      "metadata": {
        "colab": {
          "base_uri": "https://localhost:8080/"
        },
        "id": "fcmFPx_-ydzC",
        "outputId": "45bea908-1241-401b-e66d-47a6b10904b6"
      },
      "source": [
        "run_model_gridsearch_lr(lr, X_train_vec, y_train, X_val_vec, y_val)"
      ],
      "execution_count": null,
      "outputs": [
        {
          "output_type": "stream",
          "text": [
            " ## Fitting GridSearch\n",
            "tuned hpyerparameters :(best parameters)  {'C': 3593.813663804626, 'penalty': 'l2'}\n",
            "score : 0.515086937552015\n"
          ],
          "name": "stdout"
        },
        {
          "output_type": "stream",
          "text": [
            "/usr/local/lib/python3.7/dist-packages/sklearn/linear_model/_logistic.py:940: ConvergenceWarning: lbfgs failed to converge (status=1):\n",
            "STOP: TOTAL NO. of ITERATIONS REACHED LIMIT.\n",
            "\n",
            "Increase the number of iterations (max_iter) or scale the data as shown in:\n",
            "    https://scikit-learn.org/stable/modules/preprocessing.html\n",
            "Please also refer to the documentation for alternative solver options:\n",
            "    https://scikit-learn.org/stable/modules/linear_model.html#logistic-regression\n",
            "  extra_warning_msg=_LOGISTIC_SOLVER_CONVERGENCE_MSG)\n"
          ],
          "name": "stderr"
        }
      ]
    },
    {
      "cell_type": "code",
      "metadata": {
        "colab": {
          "base_uri": "https://localhost:8080/"
        },
        "id": "g-tEwZYpyuwG",
        "outputId": "905e9fce-a889-4ee4-942e-4720dd3860a8"
      },
      "source": [
        "# FINESUNED \n",
        "best_lr_full = LogisticRegression(penalty = 'l2', C = 3593.813663804626)\n",
        "run_model(best_lr_full, X_train_vec, y_train, X_val_vec, y_val)"
      ],
      "execution_count": null,
      "outputs": [
        {
          "output_type": "stream",
          "text": [
            "     ## Fitting\n",
            "     ## Predicting\n",
            " ## F1 Score (weighted) is - 0.5197692060167853\n",
            " ## Accuracy is - 0.519781718963165\n",
            "      \n",
            "               Confusion Matrix\n",
            "[[573 507]\n",
            " [549 570]]\n"
          ],
          "name": "stdout"
        },
        {
          "output_type": "stream",
          "text": [
            "/usr/local/lib/python3.7/dist-packages/sklearn/linear_model/_logistic.py:940: ConvergenceWarning: lbfgs failed to converge (status=1):\n",
            "STOP: TOTAL NO. of ITERATIONS REACHED LIMIT.\n",
            "\n",
            "Increase the number of iterations (max_iter) or scale the data as shown in:\n",
            "    https://scikit-learn.org/stable/modules/preprocessing.html\n",
            "Please also refer to the documentation for alternative solver options:\n",
            "    https://scikit-learn.org/stable/modules/linear_model.html#logistic-regression\n",
            "  extra_warning_msg=_LOGISTIC_SOLVER_CONVERGENCE_MSG)\n"
          ],
          "name": "stderr"
        }
      ]
    },
    {
      "cell_type": "markdown",
      "metadata": {
        "id": "ZhNBPqZAdcAm"
      },
      "source": [
        "**PREDICTION ON TEST (w Avg Vectors)**"
      ]
    },
    {
      "cell_type": "code",
      "metadata": {
        "colab": {
          "base_uri": "https://localhost:8080/"
        },
        "id": "KLEgDzghxkC9",
        "outputId": "b91023c9-614e-419d-d984-b24098581369"
      },
      "source": [
        "#BASELINE RESULT\n",
        "pred_lr_full_base = lr.predict(X_test_vec)\n",
        "pred_lr_full_prob_base = lr.predict_proba(X_test_vec)\n",
        "scores(y_test, pred_lr_full_base)"
      ],
      "execution_count": null,
      "outputs": [
        {
          "output_type": "stream",
          "text": [
            " ## F1 Score (weighted) is - 0.5173889777206634\n",
            " ## Accuracy is - 0.5173501577287066\n",
            "      \n",
            "               Confusion Matrix\n",
            "[[1170 1089]\n",
            " [1053 1126]]\n"
          ],
          "name": "stdout"
        }
      ]
    },
    {
      "cell_type": "code",
      "metadata": {
        "colab": {
          "base_uri": "https://localhost:8080/"
        },
        "id": "A9zBdLT-ddh9",
        "outputId": "7529bf67-5b4b-46b7-ef2a-082506183177"
      },
      "source": [
        "#FINETUNED RESULT\n",
        "pred_lr_full = best_lr_full.predict(X_test_vec)\n",
        "pred_lr_full_prob = best_lr_full.predict_proba(X_test_vec)\n",
        "scores(y_test, pred_lr_full)"
      ],
      "execution_count": null,
      "outputs": [
        {
          "output_type": "stream",
          "text": [
            " ## F1 Score (weighted) is - 0.5245992385409034\n",
            " ## Accuracy is - 0.5245606128886886\n",
            "      \n",
            "               Confusion Matrix\n",
            "[[1184 1075]\n",
            " [1035 1144]]\n"
          ],
          "name": "stdout"
        }
      ]
    },
    {
      "cell_type": "code",
      "metadata": {
        "colab": {
          "base_uri": "https://localhost:8080/"
        },
        "id": "FAqvlY2teoUG",
        "outputId": "aa2b33ee-cdaf-4b59-edc9-c945bca6e43b"
      },
      "source": [
        "pred_lr_full_prob #[prob for class0, prob for class1]"
      ],
      "execution_count": null,
      "outputs": [
        {
          "output_type": "execute_result",
          "data": {
            "text/plain": [
              "array([[0.45513382, 0.54486618],\n",
              "       [0.4308906 , 0.5691094 ],\n",
              "       [0.37023349, 0.62976651],\n",
              "       ...,\n",
              "       [0.50978928, 0.49021072],\n",
              "       [0.5311429 , 0.4688571 ],\n",
              "       [0.40109193, 0.59890807]])"
            ]
          },
          "metadata": {
            "tags": []
          },
          "execution_count": 125
        }
      ]
    },
    {
      "cell_type": "markdown",
      "metadata": {
        "id": "sLkaHBPAioHf"
      },
      "source": [
        "#### With Concantenated Vectors"
      ]
    },
    {
      "cell_type": "code",
      "metadata": {
        "colab": {
          "base_uri": "https://localhost:8080/"
        },
        "id": "NgcuWGXQitTR",
        "outputId": "0a41099e-b931-46a8-dc5e-3c73691c27be"
      },
      "source": [
        "#BASELINE\n",
        "run_model(lr, X_train_vec_concat, y_train, X_val_vec_concat, y_val)"
      ],
      "execution_count": null,
      "outputs": [
        {
          "output_type": "stream",
          "text": [
            "     ## Fitting\n",
            "     ## Predicting\n",
            " ## F1 Score (weighted) is - 0.5179993984471877\n",
            " ## Accuracy is - 0.517962710322874\n",
            "      \n",
            "               Confusion Matrix\n",
            "[[558 522]\n",
            " [538 581]]\n"
          ],
          "name": "stdout"
        }
      ]
    },
    {
      "cell_type": "code",
      "metadata": {
        "colab": {
          "base_uri": "https://localhost:8080/"
        },
        "id": "9c94Zon6itWo",
        "outputId": "c95b7425-5447-4ddd-da23-d9a6de3dd0bb"
      },
      "source": [
        "run_model_gridsearch_lr(lr, X_train_vec_concat, y_train, X_val_vec_concat, y_val)"
      ],
      "execution_count": null,
      "outputs": [
        {
          "output_type": "stream",
          "text": [
            " ## Fitting GridSearch\n",
            "tuned hpyerparameters :(best parameters)  {'C': 2.7825594022071245, 'penalty': 'l2'}\n",
            "score : 0.5128374049413716\n"
          ],
          "name": "stdout"
        },
        {
          "output_type": "stream",
          "text": [
            "/usr/local/lib/python3.7/dist-packages/sklearn/linear_model/_logistic.py:940: ConvergenceWarning: lbfgs failed to converge (status=1):\n",
            "STOP: TOTAL NO. of ITERATIONS REACHED LIMIT.\n",
            "\n",
            "Increase the number of iterations (max_iter) or scale the data as shown in:\n",
            "    https://scikit-learn.org/stable/modules/preprocessing.html\n",
            "Please also refer to the documentation for alternative solver options:\n",
            "    https://scikit-learn.org/stable/modules/linear_model.html#logistic-regression\n",
            "  extra_warning_msg=_LOGISTIC_SOLVER_CONVERGENCE_MSG)\n"
          ],
          "name": "stderr"
        }
      ]
    },
    {
      "cell_type": "code",
      "metadata": {
        "colab": {
          "base_uri": "https://localhost:8080/"
        },
        "id": "8M9B0C7Sitac",
        "outputId": "9af127cf-3785-41af-8399-36e54b1c5b1b"
      },
      "source": [
        "#FINETUNED\n",
        "best_lr_full_concat = LogisticRegression(penalty = 'l2', C = 2.7825594022071245)\n",
        "run_model(best_lr_full_concat, X_train_vec_concat, y_train, X_val_vec_concat, y_val)"
      ],
      "execution_count": null,
      "outputs": [
        {
          "output_type": "stream",
          "text": [
            "     ## Fitting\n",
            "     ## Predicting\n",
            " ## F1 Score (weighted) is - 0.5178031935717086\n",
            " ## Accuracy is - 0.517962710322874\n",
            "      \n",
            "               Confusion Matrix\n",
            "[[582 498]\n",
            " [562 557]]\n"
          ],
          "name": "stdout"
        },
        {
          "output_type": "stream",
          "text": [
            "/usr/local/lib/python3.7/dist-packages/sklearn/linear_model/_logistic.py:940: ConvergenceWarning: lbfgs failed to converge (status=1):\n",
            "STOP: TOTAL NO. of ITERATIONS REACHED LIMIT.\n",
            "\n",
            "Increase the number of iterations (max_iter) or scale the data as shown in:\n",
            "    https://scikit-learn.org/stable/modules/preprocessing.html\n",
            "Please also refer to the documentation for alternative solver options:\n",
            "    https://scikit-learn.org/stable/modules/linear_model.html#logistic-regression\n",
            "  extra_warning_msg=_LOGISTIC_SOLVER_CONVERGENCE_MSG)\n"
          ],
          "name": "stderr"
        }
      ]
    },
    {
      "cell_type": "markdown",
      "metadata": {
        "id": "AhZ0-oj-WZlM"
      },
      "source": [
        "**PREDICTION ON TEST (w Concat Vectors)**"
      ]
    },
    {
      "cell_type": "code",
      "metadata": {
        "colab": {
          "base_uri": "https://localhost:8080/"
        },
        "id": "jrCey4dn0_y8",
        "outputId": "dd662c05-b03e-41c0-fb9b-4ad19d467a01"
      },
      "source": [
        "#BASELINE RESULT\n",
        "pred_lr_full_concat_base = lr.predict(X_test_vec_concat)\n",
        "pred_lr_full_prob_concat_base = lr.predict_proba(X_test_vec_concat)\n",
        "scores(y_test, pred_lr_full_concat_base)"
      ],
      "execution_count": null,
      "outputs": [
        {
          "output_type": "stream",
          "text": [
            " ## F1 Score (weighted) is - 0.5173889777206634\n",
            " ## Accuracy is - 0.5173501577287066\n",
            "      \n",
            "               Confusion Matrix\n",
            "[[1170 1089]\n",
            " [1053 1126]]\n"
          ],
          "name": "stdout"
        }
      ]
    },
    {
      "cell_type": "code",
      "metadata": {
        "colab": {
          "base_uri": "https://localhost:8080/"
        },
        "id": "VuSxn4XeWZtq",
        "outputId": "09f20902-7cd9-46c6-edd7-5a0c28fd0cff"
      },
      "source": [
        "#FINETUNED RESULT\n",
        "pred_lr_full_concat = best_lr_full_concat.predict(X_test_vec_concat)\n",
        "pred_lr_full_prob_concat = best_lr_full_concat.predict_proba(X_test_vec_concat)\n",
        "scores(y_test, pred_lr_full_concat)\n"
      ],
      "execution_count": null,
      "outputs": [
        {
          "output_type": "stream",
          "text": [
            " ## F1 Score (weighted) is - 0.5200812782739727\n",
            " ## Accuracy is - 0.5200540784136999\n",
            "      \n",
            "               Confusion Matrix\n",
            "[[1185 1074]\n",
            " [1056 1123]]\n"
          ],
          "name": "stdout"
        }
      ]
    },
    {
      "cell_type": "code",
      "metadata": {
        "colab": {
          "base_uri": "https://localhost:8080/"
        },
        "id": "Fbvsc9MMDlsx",
        "outputId": "d84667fc-4a3c-47c0-e3c0-84329233ae85"
      },
      "source": [
        "pred_lr_full_prob_concat #[prob for class0, prob for class1]"
      ],
      "execution_count": null,
      "outputs": [
        {
          "output_type": "execute_result",
          "data": {
            "text/plain": [
              "array([[0.43541843, 0.56458157],\n",
              "       [0.4205097 , 0.5794903 ],\n",
              "       [0.26461422, 0.73538578],\n",
              "       ...,\n",
              "       [0.46542256, 0.53457744],\n",
              "       [0.51649599, 0.48350401],\n",
              "       [0.43416939, 0.56583061]])"
            ]
          },
          "metadata": {
            "tags": []
          },
          "execution_count": 126
        }
      ]
    },
    {
      "cell_type": "markdown",
      "metadata": {
        "id": "aOn69JY3I05t"
      },
      "source": [
        "###**LR with SINGLE EMOJI**"
      ]
    },
    {
      "cell_type": "markdown",
      "metadata": {
        "id": "1okP-t7hdOqo"
      },
      "source": [
        "#### With Averaged Vectors"
      ]
    },
    {
      "cell_type": "code",
      "metadata": {
        "colab": {
          "base_uri": "https://localhost:8080/"
        },
        "id": "R-qKUF1dC6KJ",
        "outputId": "1ebe0779-d2ed-45aa-b935-bf1fe7533b54"
      },
      "source": [
        "# FOR SINGLE EMOJI\n",
        "run_model(lr, X_train_sing_vec, y_sing_train, X_val_sing_vec, y_sing_val)\n"
      ],
      "execution_count": null,
      "outputs": [
        {
          "output_type": "stream",
          "text": [
            "     ## Fitting\n",
            "     ## Predicting\n",
            " ## F1 Score (weighted) is - 0.5049510032156806\n",
            " ## Accuracy is - 0.5058058522991176\n",
            "      \n",
            "               Confusion Matrix\n",
            "[[506 584]\n",
            " [480 583]]\n"
          ],
          "name": "stdout"
        }
      ]
    },
    {
      "cell_type": "code",
      "metadata": {
        "colab": {
          "base_uri": "https://localhost:8080/"
        },
        "id": "Qz8aKKsHNttO",
        "outputId": "cfeb8208-ee24-4e9b-c32e-f821efcf2684"
      },
      "source": [
        "run_model_gridsearch_lr(lr, X_train_sing_vec, y_sing_train, X_val_sing_vec, y_sing_val)"
      ],
      "execution_count": null,
      "outputs": [
        {
          "output_type": "stream",
          "text": [
            " ## Fitting GridSearch\n",
            "tuned hpyerparameters :(best parameters)  {'C': 10000.0, 'penalty': 'l2'}\n",
            "score : 0.5031135666609666\n"
          ],
          "name": "stdout"
        },
        {
          "output_type": "stream",
          "text": [
            "/usr/local/lib/python3.7/dist-packages/sklearn/linear_model/_logistic.py:940: ConvergenceWarning: lbfgs failed to converge (status=1):\n",
            "STOP: TOTAL NO. of ITERATIONS REACHED LIMIT.\n",
            "\n",
            "Increase the number of iterations (max_iter) or scale the data as shown in:\n",
            "    https://scikit-learn.org/stable/modules/preprocessing.html\n",
            "Please also refer to the documentation for alternative solver options:\n",
            "    https://scikit-learn.org/stable/modules/linear_model.html#logistic-regression\n",
            "  extra_warning_msg=_LOGISTIC_SOLVER_CONVERGENCE_MSG)\n"
          ],
          "name": "stderr"
        }
      ]
    },
    {
      "cell_type": "code",
      "metadata": {
        "colab": {
          "base_uri": "https://localhost:8080/"
        },
        "id": "4D8mPpS4NtxI",
        "outputId": "047a3165-0ade-4f08-bfa4-479c78e8bb7e"
      },
      "source": [
        "best_lr_sing = LogisticRegression(penalty = 'l2', C = 10000.0)\n",
        "run_model(best_lr_sing, X_train_sing_vec, y_sing_train, X_val_sing_vec, y_sing_val)"
      ],
      "execution_count": null,
      "outputs": [
        {
          "output_type": "stream",
          "text": [
            "     ## Fitting\n",
            "     ## Predicting\n",
            " ## F1 Score (weighted) is - 0.5021978592440751\n",
            " ## Accuracy is - 0.5030190431955411\n",
            "      \n",
            "               Confusion Matrix\n",
            "[[504 586]\n",
            " [484 579]]\n"
          ],
          "name": "stdout"
        },
        {
          "output_type": "stream",
          "text": [
            "/usr/local/lib/python3.7/dist-packages/sklearn/linear_model/_logistic.py:940: ConvergenceWarning: lbfgs failed to converge (status=1):\n",
            "STOP: TOTAL NO. of ITERATIONS REACHED LIMIT.\n",
            "\n",
            "Increase the number of iterations (max_iter) or scale the data as shown in:\n",
            "    https://scikit-learn.org/stable/modules/preprocessing.html\n",
            "Please also refer to the documentation for alternative solver options:\n",
            "    https://scikit-learn.org/stable/modules/linear_model.html#logistic-regression\n",
            "  extra_warning_msg=_LOGISTIC_SOLVER_CONVERGENCE_MSG)\n"
          ],
          "name": "stderr"
        }
      ]
    },
    {
      "cell_type": "markdown",
      "metadata": {
        "id": "ffo8DIZXWHcL"
      },
      "source": [
        "**PREDICTION ON TEST (w Avg Vectors)**"
      ]
    },
    {
      "cell_type": "code",
      "metadata": {
        "colab": {
          "base_uri": "https://localhost:8080/"
        },
        "id": "8yJDZl6r1mu_",
        "outputId": "61aa2af2-068e-474c-c0ef-8fe6662c8057"
      },
      "source": [
        "#BASELINE RESULT\n",
        "pred_lr_sing_base = lr.predict(X_test_sing_vec)\n",
        "pred_lr_sing_prob_base = lr.predict_proba(X_test_sing_vec)\n",
        "scores(y_sing_test, pred_lr_sing_base)"
      ],
      "execution_count": null,
      "outputs": [
        {
          "output_type": "stream",
          "text": [
            " ## F1 Score (weighted) is - 0.4869595082363849\n",
            " ## Accuracy is - 0.48721492743607464\n",
            "      \n",
            "               Confusion Matrix\n",
            "[[1023 1181]\n",
            " [1045 1092]]\n"
          ],
          "name": "stdout"
        }
      ]
    },
    {
      "cell_type": "code",
      "metadata": {
        "colab": {
          "base_uri": "https://localhost:8080/"
        },
        "id": "wCuXoh_bWHkY",
        "outputId": "6388958b-cfae-41cc-f591-a6dc5b42935d"
      },
      "source": [
        "#FINETUNED RESULT\n",
        "pred_lr_sing = best_lr_sing.predict(X_test_sing_vec)\n",
        "scores(y_sing_test, pred_lr_sing)"
      ],
      "execution_count": null,
      "outputs": [
        {
          "output_type": "stream",
          "text": [
            " ## F1 Score (weighted) is - 0.4878466603498624\n",
            " ## Accuracy is - 0.4879060124395301\n",
            "      \n",
            "               Confusion Matrix\n",
            "[[1047 1157]\n",
            " [1066 1071]]\n"
          ],
          "name": "stdout"
        }
      ]
    },
    {
      "cell_type": "markdown",
      "metadata": {
        "id": "mI1lcjPsfZoq"
      },
      "source": [
        "#### With Concatenated Vectors"
      ]
    },
    {
      "cell_type": "code",
      "metadata": {
        "colab": {
          "base_uri": "https://localhost:8080/"
        },
        "id": "D0FQyfa2fbKg",
        "outputId": "26cb37a4-5583-4015-90f6-ea061c7eac1d"
      },
      "source": [
        "run_model(lr, X_train_sing_vec_concat, y_sing_train, X_val_sing_vec_concat, y_sing_val)"
      ],
      "execution_count": null,
      "outputs": [
        {
          "output_type": "stream",
          "text": [
            "     ## Fitting\n",
            "     ## Predicting\n",
            " ## F1 Score (weighted) is - 0.4998031042482971\n",
            " ## Accuracy is - 0.5002322340919647\n",
            "      \n",
            "               Confusion Matrix\n",
            "[[513 577]\n",
            " [499 564]]\n"
          ],
          "name": "stdout"
        },
        {
          "output_type": "stream",
          "text": [
            "/usr/local/lib/python3.7/dist-packages/sklearn/linear_model/_logistic.py:940: ConvergenceWarning: lbfgs failed to converge (status=1):\n",
            "STOP: TOTAL NO. of ITERATIONS REACHED LIMIT.\n",
            "\n",
            "Increase the number of iterations (max_iter) or scale the data as shown in:\n",
            "    https://scikit-learn.org/stable/modules/preprocessing.html\n",
            "Please also refer to the documentation for alternative solver options:\n",
            "    https://scikit-learn.org/stable/modules/linear_model.html#logistic-regression\n",
            "  extra_warning_msg=_LOGISTIC_SOLVER_CONVERGENCE_MSG)\n"
          ],
          "name": "stderr"
        }
      ]
    },
    {
      "cell_type": "code",
      "metadata": {
        "colab": {
          "base_uri": "https://localhost:8080/"
        },
        "id": "M_uI7KM2fpRh",
        "outputId": "24f0cbd6-8301-4a0e-9a73-fb3953536b2a"
      },
      "source": [
        "run_model_gridsearch_lr(lr, X_train_sing_vec_concat, y_sing_train, X_val_sing_vec_concat, y_sing_val)"
      ],
      "execution_count": null,
      "outputs": [
        {
          "output_type": "stream",
          "text": [
            " ## Fitting GridSearch\n",
            "tuned hpyerparameters :(best parameters)  {'C': 21.544346900318832, 'penalty': 'l2'}\n",
            "score : 0.5051196878848289\n"
          ],
          "name": "stdout"
        },
        {
          "output_type": "stream",
          "text": [
            "/usr/local/lib/python3.7/dist-packages/sklearn/linear_model/_logistic.py:940: ConvergenceWarning: lbfgs failed to converge (status=1):\n",
            "STOP: TOTAL NO. of ITERATIONS REACHED LIMIT.\n",
            "\n",
            "Increase the number of iterations (max_iter) or scale the data as shown in:\n",
            "    https://scikit-learn.org/stable/modules/preprocessing.html\n",
            "Please also refer to the documentation for alternative solver options:\n",
            "    https://scikit-learn.org/stable/modules/linear_model.html#logistic-regression\n",
            "  extra_warning_msg=_LOGISTIC_SOLVER_CONVERGENCE_MSG)\n"
          ],
          "name": "stderr"
        }
      ]
    },
    {
      "cell_type": "code",
      "metadata": {
        "colab": {
          "base_uri": "https://localhost:8080/"
        },
        "id": "zP0pgQ8ffpW9",
        "outputId": "6d1331e2-b632-457a-e19a-8e9c6445fd0f"
      },
      "source": [
        "#FINETUNED \n",
        "best_lr_sing_concat = LogisticRegression(penalty = 'l2', C = 21.544346900318832)\n",
        "run_model(best_lr_sing_concat, X_train_sing_vec_concat, y_sing_train, X_val_sing_vec_concat, y_sing_val)\n"
      ],
      "execution_count": null,
      "outputs": [
        {
          "output_type": "stream",
          "text": [
            "     ## Fitting\n",
            "     ## Predicting\n",
            " ## F1 Score (weighted) is - 0.49451687383181664\n",
            " ## Accuracy is - 0.4946586158848119\n",
            "      \n",
            "               Confusion Matrix\n",
            "[[520 570]\n",
            " [518 545]]\n"
          ],
          "name": "stdout"
        },
        {
          "output_type": "stream",
          "text": [
            "/usr/local/lib/python3.7/dist-packages/sklearn/linear_model/_logistic.py:940: ConvergenceWarning: lbfgs failed to converge (status=1):\n",
            "STOP: TOTAL NO. of ITERATIONS REACHED LIMIT.\n",
            "\n",
            "Increase the number of iterations (max_iter) or scale the data as shown in:\n",
            "    https://scikit-learn.org/stable/modules/preprocessing.html\n",
            "Please also refer to the documentation for alternative solver options:\n",
            "    https://scikit-learn.org/stable/modules/linear_model.html#logistic-regression\n",
            "  extra_warning_msg=_LOGISTIC_SOLVER_CONVERGENCE_MSG)\n"
          ],
          "name": "stderr"
        }
      ]
    },
    {
      "cell_type": "markdown",
      "metadata": {
        "id": "FfN-bIBVgdF-"
      },
      "source": [
        "**PREDICTION ON TEST (w Concat Vectors)**"
      ]
    },
    {
      "cell_type": "code",
      "metadata": {
        "colab": {
          "base_uri": "https://localhost:8080/"
        },
        "id": "o938tm3m3GfK",
        "outputId": "2c42f37d-9aed-46f9-feb1-1746c9eba7a8"
      },
      "source": [
        "#BASELINE RESULT\n",
        "pred_lr_sing_concat_base = lr.predict(X_test_sing_vec_concat)\n",
        "pred_lr_sing_prob_concat_base = lr.predict_proba(X_test_sing_vec_concat)\n",
        "scores(y_sing_test, pred_lr_sing_concat_base)"
      ],
      "execution_count": null,
      "outputs": [
        {
          "output_type": "stream",
          "text": [
            " ## F1 Score (weighted) is - 0.5002397398943275\n",
            " ## Accuracy is - 0.5003455425017277\n",
            "      \n",
            "               Confusion Matrix\n",
            "[[1067 1137]\n",
            " [1032 1105]]\n"
          ],
          "name": "stdout"
        }
      ]
    },
    {
      "cell_type": "code",
      "metadata": {
        "colab": {
          "base_uri": "https://localhost:8080/"
        },
        "id": "caLs5ZSdgd6z",
        "outputId": "43334a56-38d9-4072-b996-236043b922d0"
      },
      "source": [
        "#FINETUNED RESULT\n",
        "pred_lr_sing_concat = best_lr_sing_concat.predict(X_test_sing_vec_concat)\n",
        "scores(y_sing_test, pred_lr_sing_concat)"
      ],
      "execution_count": null,
      "outputs": [
        {
          "output_type": "stream",
          "text": [
            " ## F1 Score (weighted) is - 0.49732795452647843\n",
            " ## Accuracy is - 0.4973508408200875\n",
            "      \n",
            "               Confusion Matrix\n",
            "[[1074 1130]\n",
            " [1052 1085]]\n"
          ],
          "name": "stdout"
        }
      ]
    },
    {
      "cell_type": "markdown",
      "metadata": {
        "id": "ZfW-jaQsNOvG"
      },
      "source": [
        "###**MULTI EMOJIS WITH REPEATS**"
      ]
    },
    {
      "cell_type": "markdown",
      "metadata": {
        "id": "GuMp8wnDg_gp"
      },
      "source": [
        "#### With Averaged Vectors"
      ]
    },
    {
      "cell_type": "code",
      "metadata": {
        "colab": {
          "base_uri": "https://localhost:8080/"
        },
        "id": "ChwSiaacNO56",
        "outputId": "51ec8bf2-5ef2-43f0-9fb7-bf016d8db2ba"
      },
      "source": [
        "# BASELINE\n",
        "run_model(lr, X_train_mul_repeat_vec, y_mul_repeat_train, X_val_mul_repeat_vec, y_mul_repeat_val)\n"
      ],
      "execution_count": null,
      "outputs": [
        {
          "output_type": "stream",
          "text": [
            "     ## Fitting\n",
            "     ## Predicting\n",
            " ## F1 Score (weighted) is - 0.5187493899908503\n",
            " ## Accuracy is - 0.5189504373177842\n",
            "      \n",
            "               Confusion Matrix\n",
            "[[651 556]\n",
            " [599 595]]\n"
          ],
          "name": "stdout"
        },
        {
          "output_type": "stream",
          "text": [
            "/usr/local/lib/python3.7/dist-packages/sklearn/linear_model/_logistic.py:940: ConvergenceWarning: lbfgs failed to converge (status=1):\n",
            "STOP: TOTAL NO. of ITERATIONS REACHED LIMIT.\n",
            "\n",
            "Increase the number of iterations (max_iter) or scale the data as shown in:\n",
            "    https://scikit-learn.org/stable/modules/preprocessing.html\n",
            "Please also refer to the documentation for alternative solver options:\n",
            "    https://scikit-learn.org/stable/modules/linear_model.html#logistic-regression\n",
            "  extra_warning_msg=_LOGISTIC_SOLVER_CONVERGENCE_MSG)\n"
          ],
          "name": "stderr"
        }
      ]
    },
    {
      "cell_type": "code",
      "metadata": {
        "id": "eL_NOBZrnrgu",
        "colab": {
          "base_uri": "https://localhost:8080/"
        },
        "outputId": "d29da110-3d4f-4d7a-e64e-2cb7f98b7918"
      },
      "source": [
        "run_model_gridsearch_lr(lr, X_train_mul_repeat_vec, y_mul_repeat_train, X_val_mul_repeat_vec, y_mul_repeat_val)"
      ],
      "execution_count": null,
      "outputs": [
        {
          "output_type": "stream",
          "text": [
            " ## Fitting GridSearch\n",
            "tuned hpyerparameters :(best parameters)  {'C': 2.7825594022071245, 'penalty': 'l2'}\n",
            "score : 0.5246267106645911\n"
          ],
          "name": "stdout"
        }
      ]
    },
    {
      "cell_type": "code",
      "metadata": {
        "colab": {
          "base_uri": "https://localhost:8080/"
        },
        "id": "xhq0bza_Nu2E",
        "outputId": "ae8e87b9-dd80-4085-c38f-97aacaa8fdd6"
      },
      "source": [
        "#FINETUNED\n",
        "best_lr_mul_repeat = LogisticRegression(penalty = 'l2', C = 2.7825594022071245)\n",
        "run_model(best_lr_mul_repeat, X_train_mul_repeat_vec, y_mul_repeat_train, X_val_mul_repeat_vec, y_mul_repeat_val)"
      ],
      "execution_count": null,
      "outputs": [
        {
          "output_type": "stream",
          "text": [
            "     ## Fitting\n",
            "     ## Predicting\n",
            " ## F1 Score (weighted) is - 0.5062493741464569\n",
            " ## Accuracy is - 0.5064556434818825\n",
            "      \n",
            "               Confusion Matrix\n",
            "[[636 571]\n",
            " [614 580]]\n"
          ],
          "name": "stdout"
        }
      ]
    },
    {
      "cell_type": "markdown",
      "metadata": {
        "id": "wc_roNBTV3pz"
      },
      "source": [
        "**PREDICTION ON TEST (w Avg Vectors)**"
      ]
    },
    {
      "cell_type": "code",
      "metadata": {
        "colab": {
          "base_uri": "https://localhost:8080/"
        },
        "id": "9w_9x66r3qRn",
        "outputId": "1bb84019-5926-4413-9beb-8a723e1c4583"
      },
      "source": [
        "#BASELINE RESULT\n",
        "pred_lr_mul_base = lr.predict(X_test_mul_repeat_vec)\n",
        "pred_lr_mul_prob_base = lr.predict_proba(X_test_mul_repeat_vec)\n",
        "scores(y_mul_repeat_test, pred_lr_mul_base)"
      ],
      "execution_count": null,
      "outputs": [
        {
          "output_type": "stream",
          "text": [
            " ## F1 Score (weighted) is - 0.5220614269787021\n",
            " ## Accuracy is - 0.5220833333333333\n",
            "      \n",
            "               Confusion Matrix\n",
            "[[1231 1159]\n",
            " [1135 1275]]\n"
          ],
          "name": "stdout"
        }
      ]
    },
    {
      "cell_type": "code",
      "metadata": {
        "colab": {
          "base_uri": "https://localhost:8080/"
        },
        "id": "8ShdwYMwV3wc",
        "outputId": "c85e70cd-0d6e-4cad-c208-358a906f38ac"
      },
      "source": [
        "#FINETUNED RESULT\n",
        "pred_lr_mul_repeat = best_lr_mul_repeat.predict(X_test_mul_repeat_vec)\n",
        "scores(y_mul_repeat_test, pred_lr_mul_repeat)"
      ],
      "execution_count": null,
      "outputs": [
        {
          "output_type": "stream",
          "text": [
            " ## F1 Score (weighted) is - 0.5193760638968085\n",
            " ## Accuracy is - 0.519375\n",
            "      \n",
            "               Confusion Matrix\n",
            "[[1238 1152]\n",
            " [1155 1255]]\n"
          ],
          "name": "stdout"
        }
      ]
    },
    {
      "cell_type": "markdown",
      "metadata": {
        "id": "EP_7iMGPhCOZ"
      },
      "source": [
        "#### With Concantenated Vectors"
      ]
    },
    {
      "cell_type": "code",
      "metadata": {
        "colab": {
          "base_uri": "https://localhost:8080/"
        },
        "id": "hsRGoa-KhIJU",
        "outputId": "02cf9e29-6c77-48c3-a8c2-a92256bc409b"
      },
      "source": [
        "run_model(lr, X_train_mul_repeat_vec_concat, y_mul_repeat_train, X_val_mul_repeat_vec_concat, y_mul_repeat_val)\n"
      ],
      "execution_count": null,
      "outputs": [
        {
          "output_type": "stream",
          "text": [
            "     ## Fitting\n",
            "     ## Predicting\n",
            " ## F1 Score (weighted) is - 0.5187493899908503\n",
            " ## Accuracy is - 0.5189504373177842\n",
            "      \n",
            "               Confusion Matrix\n",
            "[[651 556]\n",
            " [599 595]]\n"
          ],
          "name": "stdout"
        },
        {
          "output_type": "stream",
          "text": [
            "/usr/local/lib/python3.7/dist-packages/sklearn/linear_model/_logistic.py:940: ConvergenceWarning: lbfgs failed to converge (status=1):\n",
            "STOP: TOTAL NO. of ITERATIONS REACHED LIMIT.\n",
            "\n",
            "Increase the number of iterations (max_iter) or scale the data as shown in:\n",
            "    https://scikit-learn.org/stable/modules/preprocessing.html\n",
            "Please also refer to the documentation for alternative solver options:\n",
            "    https://scikit-learn.org/stable/modules/linear_model.html#logistic-regression\n",
            "  extra_warning_msg=_LOGISTIC_SOLVER_CONVERGENCE_MSG)\n"
          ],
          "name": "stderr"
        }
      ]
    },
    {
      "cell_type": "code",
      "metadata": {
        "colab": {
          "base_uri": "https://localhost:8080/"
        },
        "id": "xmKiUyslhZJS",
        "outputId": "0ecae6c8-8603-43a9-c28a-856ad7ac5edf"
      },
      "source": [
        "run_model_gridsearch_lr(lr, X_train_mul_repeat_vec_concat, y_mul_repeat_train, X_val_mul_repeat_vec_concat, y_mul_repeat_val)"
      ],
      "execution_count": null,
      "outputs": [
        {
          "output_type": "stream",
          "text": [
            " ## Fitting GridSearch\n",
            "tuned hpyerparameters :(best parameters)  {'C': 1.0, 'penalty': 'l2'}\n",
            "score : 0.5222718993614576\n"
          ],
          "name": "stdout"
        },
        {
          "output_type": "stream",
          "text": [
            "/usr/local/lib/python3.7/dist-packages/sklearn/linear_model/_logistic.py:940: ConvergenceWarning: lbfgs failed to converge (status=1):\n",
            "STOP: TOTAL NO. of ITERATIONS REACHED LIMIT.\n",
            "\n",
            "Increase the number of iterations (max_iter) or scale the data as shown in:\n",
            "    https://scikit-learn.org/stable/modules/preprocessing.html\n",
            "Please also refer to the documentation for alternative solver options:\n",
            "    https://scikit-learn.org/stable/modules/linear_model.html#logistic-regression\n",
            "  extra_warning_msg=_LOGISTIC_SOLVER_CONVERGENCE_MSG)\n"
          ],
          "name": "stderr"
        }
      ]
    },
    {
      "cell_type": "code",
      "metadata": {
        "colab": {
          "base_uri": "https://localhost:8080/"
        },
        "id": "aj23kEHHhZOw",
        "outputId": "564150ae-876b-4025-dd15-aa3784b78989"
      },
      "source": [
        "best_lr_mul_repeat_concat = LogisticRegression(penalty = 'l2', C = 1.0)\n",
        "run_model(best_lr_mul_repeat_concat, X_train_mul_repeat_vec_concat, y_mul_repeat_train, X_val_mul_repeat_vec_concat, y_mul_repeat_val)"
      ],
      "execution_count": null,
      "outputs": [
        {
          "output_type": "stream",
          "text": [
            "     ## Fitting\n",
            "     ## Predicting\n",
            " ## F1 Score (weighted) is - 0.5187493899908503\n",
            " ## Accuracy is - 0.5189504373177842\n",
            "      \n",
            "               Confusion Matrix\n",
            "[[651 556]\n",
            " [599 595]]\n"
          ],
          "name": "stdout"
        },
        {
          "output_type": "stream",
          "text": [
            "/usr/local/lib/python3.7/dist-packages/sklearn/linear_model/_logistic.py:940: ConvergenceWarning: lbfgs failed to converge (status=1):\n",
            "STOP: TOTAL NO. of ITERATIONS REACHED LIMIT.\n",
            "\n",
            "Increase the number of iterations (max_iter) or scale the data as shown in:\n",
            "    https://scikit-learn.org/stable/modules/preprocessing.html\n",
            "Please also refer to the documentation for alternative solver options:\n",
            "    https://scikit-learn.org/stable/modules/linear_model.html#logistic-regression\n",
            "  extra_warning_msg=_LOGISTIC_SOLVER_CONVERGENCE_MSG)\n"
          ],
          "name": "stderr"
        }
      ]
    },
    {
      "cell_type": "markdown",
      "metadata": {
        "id": "hc6WGr-Xhn8o"
      },
      "source": [
        "**PREDICTION ON TEST (w Concat Vectors)**"
      ]
    },
    {
      "cell_type": "code",
      "metadata": {
        "colab": {
          "base_uri": "https://localhost:8080/"
        },
        "id": "Cieg4jgD4DpM",
        "outputId": "9eb451be-b42d-469a-951c-ee0d5956310f"
      },
      "source": [
        "#BASELINE RESULT\n",
        "pred_lr_mul_concat_base = lr.predict(X_test_mul_repeat_vec_concat)\n",
        "pred_lr_mul_prob_concat_base = lr.predict_proba(X_test_mul_repeat_vec_concat)\n",
        "scores(y_mul_repeat_test, pred_lr_mul_concat_base)"
      ],
      "execution_count": null,
      "outputs": [
        {
          "output_type": "stream",
          "text": [
            " ## F1 Score (weighted) is - 0.5220614269787021\n",
            " ## Accuracy is - 0.5220833333333333\n",
            "      \n",
            "               Confusion Matrix\n",
            "[[1231 1159]\n",
            " [1135 1275]]\n"
          ],
          "name": "stdout"
        }
      ]
    },
    {
      "cell_type": "code",
      "metadata": {
        "colab": {
          "base_uri": "https://localhost:8080/"
        },
        "id": "SxCCDCzMhoHd",
        "outputId": "9e5a1733-f903-48e5-ed5f-6e73f6dbbb9c"
      },
      "source": [
        "#FINETUNED RESULT\n",
        "pred_lr_mul_repeat_concat = best_lr_mul_repeat_concat.predict(X_test_mul_repeat_vec_concat)\n",
        "scores(y_mul_repeat_test, pred_lr_mul_repeat_concat)"
      ],
      "execution_count": null,
      "outputs": [
        {
          "output_type": "stream",
          "text": [
            " ## F1 Score (weighted) is - 0.5220614269787021\n",
            " ## Accuracy is - 0.5220833333333333\n",
            "      \n",
            "               Confusion Matrix\n",
            "[[1231 1159]\n",
            " [1135 1275]]\n"
          ],
          "name": "stdout"
        }
      ]
    },
    {
      "cell_type": "markdown",
      "metadata": {
        "id": "tXGMZxStQx4J"
      },
      "source": [
        "###**FULL EMOJIS NO REPEATS**"
      ]
    },
    {
      "cell_type": "markdown",
      "metadata": {
        "id": "Ca1ihGKXh_ax"
      },
      "source": [
        "#### With Averaged Vectors"
      ]
    },
    {
      "cell_type": "code",
      "metadata": {
        "colab": {
          "base_uri": "https://localhost:8080/"
        },
        "id": "69EaKC7MQyCE",
        "outputId": "cb6950d7-ac55-4fbc-c20d-fcab2c44ec15"
      },
      "source": [
        "run_model(lr, X_train_mul_vec, y_mul_train, X_val_mul_vec, y_mul_val)\n"
      ],
      "execution_count": null,
      "outputs": [
        {
          "output_type": "stream",
          "text": [
            "     ## Fitting\n",
            "     ## Predicting\n",
            " ## F1 Score (weighted) is - 0.519122216228706\n",
            " ## Accuracy is - 0.5190668461193361\n",
            "      \n",
            "               Confusion Matrix\n",
            "[[572 514]\n",
            " [558 585]]\n"
          ],
          "name": "stdout"
        },
        {
          "output_type": "stream",
          "text": [
            "/usr/local/lib/python3.7/dist-packages/sklearn/linear_model/_logistic.py:940: ConvergenceWarning: lbfgs failed to converge (status=1):\n",
            "STOP: TOTAL NO. of ITERATIONS REACHED LIMIT.\n",
            "\n",
            "Increase the number of iterations (max_iter) or scale the data as shown in:\n",
            "    https://scikit-learn.org/stable/modules/preprocessing.html\n",
            "Please also refer to the documentation for alternative solver options:\n",
            "    https://scikit-learn.org/stable/modules/linear_model.html#logistic-regression\n",
            "  extra_warning_msg=_LOGISTIC_SOLVER_CONVERGENCE_MSG)\n"
          ],
          "name": "stderr"
        }
      ]
    },
    {
      "cell_type": "code",
      "metadata": {
        "colab": {
          "base_uri": "https://localhost:8080/"
        },
        "id": "dWTMqs9nQyGg",
        "outputId": "d3dbe1de-99d2-4ba3-f347-cc6bedc42de3"
      },
      "source": [
        "run_model_gridsearch_lr(lr, X_train_mul_vec, y_mul_train, X_val_mul_vec, y_mul_val)"
      ],
      "execution_count": null,
      "outputs": [
        {
          "output_type": "stream",
          "text": [
            " ## Fitting GridSearch\n",
            "tuned hpyerparameters :(best parameters)  {'C': 7.742636826811269, 'penalty': 'l2'}\n",
            "score : 0.5058041572685422\n"
          ],
          "name": "stdout"
        },
        {
          "output_type": "stream",
          "text": [
            "/usr/local/lib/python3.7/dist-packages/sklearn/linear_model/_logistic.py:940: ConvergenceWarning: lbfgs failed to converge (status=1):\n",
            "STOP: TOTAL NO. of ITERATIONS REACHED LIMIT.\n",
            "\n",
            "Increase the number of iterations (max_iter) or scale the data as shown in:\n",
            "    https://scikit-learn.org/stable/modules/preprocessing.html\n",
            "Please also refer to the documentation for alternative solver options:\n",
            "    https://scikit-learn.org/stable/modules/linear_model.html#logistic-regression\n",
            "  extra_warning_msg=_LOGISTIC_SOLVER_CONVERGENCE_MSG)\n"
          ],
          "name": "stderr"
        }
      ]
    },
    {
      "cell_type": "code",
      "metadata": {
        "colab": {
          "base_uri": "https://localhost:8080/"
        },
        "id": "DUkKQyYQS5t1",
        "outputId": "c4d2b810-5ed5-4ba9-dfbd-4aa5e4630079"
      },
      "source": [
        "best_lr_mul = LogisticRegression(penalty = 'l2', C = 7.742636826811269)\n",
        "run_model(best_lr_mul, X_train_mul_vec, y_mul_train, X_val_mul_vec, y_mul_val)"
      ],
      "execution_count": null,
      "outputs": [
        {
          "output_type": "stream",
          "text": [
            "     ## Fitting\n",
            "     ## Predicting\n",
            " ## F1 Score (weighted) is - 0.506974828951965\n",
            " ## Accuracy is - 0.5069537909376401\n",
            "      \n",
            "               Confusion Matrix\n",
            "[[563 523]\n",
            " [576 567]]\n"
          ],
          "name": "stdout"
        },
        {
          "output_type": "stream",
          "text": [
            "/usr/local/lib/python3.7/dist-packages/sklearn/linear_model/_logistic.py:940: ConvergenceWarning: lbfgs failed to converge (status=1):\n",
            "STOP: TOTAL NO. of ITERATIONS REACHED LIMIT.\n",
            "\n",
            "Increase the number of iterations (max_iter) or scale the data as shown in:\n",
            "    https://scikit-learn.org/stable/modules/preprocessing.html\n",
            "Please also refer to the documentation for alternative solver options:\n",
            "    https://scikit-learn.org/stable/modules/linear_model.html#logistic-regression\n",
            "  extra_warning_msg=_LOGISTIC_SOLVER_CONVERGENCE_MSG)\n"
          ],
          "name": "stderr"
        }
      ]
    },
    {
      "cell_type": "markdown",
      "metadata": {
        "id": "R_R8WgYFTQKo"
      },
      "source": [
        "**PREDICTION ON TEST (w Avg Vectors)**"
      ]
    },
    {
      "cell_type": "code",
      "metadata": {
        "colab": {
          "base_uri": "https://localhost:8080/"
        },
        "id": "yKRVrP9c4q7s",
        "outputId": "8afa1ec7-b4db-4012-ce75-71d8191f7c07"
      },
      "source": [
        "#BASELINE RESULT\n",
        "pred_lr_mul_base = lr.predict(X_test_mul_vec)\n",
        "pred_lr_mul_prob__base = lr.predict_proba(X_test_mul_vec)\n",
        "scores(y_mul_test, pred_lr_mul_base)"
      ],
      "execution_count": null,
      "outputs": [
        {
          "output_type": "stream",
          "text": [
            " ## F1 Score (weighted) is - 0.5158905918420099\n",
            " ## Accuracy is - 0.5159034513873224\n",
            "      \n",
            "               Confusion Matrix\n",
            "[[1158 1064]\n",
            " [1082 1129]]\n"
          ],
          "name": "stdout"
        }
      ]
    },
    {
      "cell_type": "code",
      "metadata": {
        "colab": {
          "base_uri": "https://localhost:8080/"
        },
        "id": "l_rVW2-8T0Yn",
        "outputId": "1dd5fb35-2b6d-43e3-b06e-801b19a6f31b"
      },
      "source": [
        "#FINETUNED RESULT\n",
        "pred_lr_mul = best_lr_mul.predict(X_test_mul_vec)\n",
        "scores(y_mul_test, pred_lr_mul)"
      ],
      "execution_count": null,
      "outputs": [
        {
          "output_type": "stream",
          "text": [
            " ## F1 Score (weighted) is - 0.5097595798975241\n",
            " ## Accuracy is - 0.509812767877284\n",
            "      \n",
            "               Confusion Matrix\n",
            "[[1156 1066]\n",
            " [1107 1104]]\n"
          ],
          "name": "stdout"
        }
      ]
    },
    {
      "cell_type": "markdown",
      "metadata": {
        "id": "jBNDCCERiEuQ"
      },
      "source": [
        "#### With Concantenated Vectors"
      ]
    },
    {
      "cell_type": "code",
      "metadata": {
        "colab": {
          "base_uri": "https://localhost:8080/"
        },
        "id": "z-TiQSVtiFAx",
        "outputId": "bf88cf79-add0-477d-eca3-60b4633473fb"
      },
      "source": [
        "run_model(lr, X_train_mul_vec_concat, y_mul_train, X_val_mul_vec_concat, y_mul_val)"
      ],
      "execution_count": null,
      "outputs": [
        {
          "output_type": "stream",
          "text": [
            "     ## Fitting\n",
            "     ## Predicting\n",
            " ## F1 Score (weighted) is - 0.519122216228706\n",
            " ## Accuracy is - 0.5190668461193361\n",
            "      \n",
            "               Confusion Matrix\n",
            "[[572 514]\n",
            " [558 585]]\n"
          ],
          "name": "stdout"
        },
        {
          "output_type": "stream",
          "text": [
            "/usr/local/lib/python3.7/dist-packages/sklearn/linear_model/_logistic.py:940: ConvergenceWarning: lbfgs failed to converge (status=1):\n",
            "STOP: TOTAL NO. of ITERATIONS REACHED LIMIT.\n",
            "\n",
            "Increase the number of iterations (max_iter) or scale the data as shown in:\n",
            "    https://scikit-learn.org/stable/modules/preprocessing.html\n",
            "Please also refer to the documentation for alternative solver options:\n",
            "    https://scikit-learn.org/stable/modules/linear_model.html#logistic-regression\n",
            "  extra_warning_msg=_LOGISTIC_SOLVER_CONVERGENCE_MSG)\n"
          ],
          "name": "stderr"
        }
      ]
    },
    {
      "cell_type": "code",
      "metadata": {
        "colab": {
          "base_uri": "https://localhost:8080/"
        },
        "id": "ev3DaCkLiNHj",
        "outputId": "a8f2e0df-3d91-41d2-9714-9fb45c7cd0a5"
      },
      "source": [
        "run_model_gridsearch_lr(lr, X_train_mul_vec_concat, y_mul_train, X_val_mul_vec_concat, y_mul_val)"
      ],
      "execution_count": null,
      "outputs": [
        {
          "output_type": "stream",
          "text": [
            " ## Fitting GridSearch\n",
            "tuned hpyerparameters :(best parameters)  {'C': 166.81005372000593, 'penalty': 'l2'}\n",
            "score : 0.5102422337754854\n"
          ],
          "name": "stdout"
        },
        {
          "output_type": "stream",
          "text": [
            "/usr/local/lib/python3.7/dist-packages/sklearn/linear_model/_logistic.py:940: ConvergenceWarning: lbfgs failed to converge (status=1):\n",
            "STOP: TOTAL NO. of ITERATIONS REACHED LIMIT.\n",
            "\n",
            "Increase the number of iterations (max_iter) or scale the data as shown in:\n",
            "    https://scikit-learn.org/stable/modules/preprocessing.html\n",
            "Please also refer to the documentation for alternative solver options:\n",
            "    https://scikit-learn.org/stable/modules/linear_model.html#logistic-regression\n",
            "  extra_warning_msg=_LOGISTIC_SOLVER_CONVERGENCE_MSG)\n"
          ],
          "name": "stderr"
        }
      ]
    },
    {
      "cell_type": "code",
      "metadata": {
        "colab": {
          "base_uri": "https://localhost:8080/"
        },
        "id": "AaGr28EpiNM8",
        "outputId": "b2942e3d-5dd2-4b74-fd4d-0279db3bd354"
      },
      "source": [
        "best_lr_mul_concat = LogisticRegression(penalty = 'l2', C = 166.81005372000593)\n",
        "run_model(best_lr_mul_concat, X_train_mul_vec_concat, y_mul_train, X_val_mul_vec_concat, y_mul_val)"
      ],
      "execution_count": null,
      "outputs": [
        {
          "output_type": "stream",
          "text": [
            "     ## Fitting\n",
            "     ## Predicting\n",
            " ## F1 Score (weighted) is - 0.5164243110024794\n",
            " ## Accuracy is - 0.5163750560789592\n",
            "      \n",
            "               Confusion Matrix\n",
            "[[570 516]\n",
            " [562 581]]\n"
          ],
          "name": "stdout"
        },
        {
          "output_type": "stream",
          "text": [
            "/usr/local/lib/python3.7/dist-packages/sklearn/linear_model/_logistic.py:940: ConvergenceWarning: lbfgs failed to converge (status=1):\n",
            "STOP: TOTAL NO. of ITERATIONS REACHED LIMIT.\n",
            "\n",
            "Increase the number of iterations (max_iter) or scale the data as shown in:\n",
            "    https://scikit-learn.org/stable/modules/preprocessing.html\n",
            "Please also refer to the documentation for alternative solver options:\n",
            "    https://scikit-learn.org/stable/modules/linear_model.html#logistic-regression\n",
            "  extra_warning_msg=_LOGISTIC_SOLVER_CONVERGENCE_MSG)\n"
          ],
          "name": "stderr"
        }
      ]
    },
    {
      "cell_type": "markdown",
      "metadata": {
        "id": "GCgZpqr4idFE"
      },
      "source": [
        "**PREDICTION ON TEST (w Concat Vectors)**"
      ]
    },
    {
      "cell_type": "code",
      "metadata": {
        "colab": {
          "base_uri": "https://localhost:8080/"
        },
        "id": "wAZaIfk45AaQ",
        "outputId": "6e6c319e-e97c-4ddb-c24d-22b8f777ebdf"
      },
      "source": [
        "#BASELINE RESULT\n",
        "pred_lr_mul_concat_base = lr.predict(X_test_mul_vec_concat)\n",
        "pred_lr_mul_prob_concat_base = lr.predict_proba(X_test_mul_vec_concat)\n",
        "scores(y_mul_test, pred_lr_mul_concat_base)"
      ],
      "execution_count": null,
      "outputs": [
        {
          "output_type": "stream",
          "text": [
            " ## F1 Score (weighted) is - 0.5158905918420099\n",
            " ## Accuracy is - 0.5159034513873224\n",
            "      \n",
            "               Confusion Matrix\n",
            "[[1158 1064]\n",
            " [1082 1129]]\n"
          ],
          "name": "stdout"
        }
      ]
    },
    {
      "cell_type": "code",
      "metadata": {
        "colab": {
          "base_uri": "https://localhost:8080/"
        },
        "id": "VEeC_eu_idtO",
        "outputId": "a06cd0af-a4a2-4d19-cd57-b7aa84ad45f9"
      },
      "source": [
        "#FINETUNED RESULT\n",
        "pred_lr_mul_concat = best_lr_mul_concat.predict(X_test_mul_vec_concat)\n",
        "scores(y_mul_test, pred_lr_mul_concat)"
      ],
      "execution_count": null,
      "outputs": [
        {
          "output_type": "stream",
          "text": [
            " ## F1 Score (weighted) is - 0.5153876281750626\n",
            " ## Accuracy is - 0.515452289645838\n",
            "      \n",
            "               Confusion Matrix\n",
            "[[1171 1051]\n",
            " [1097 1114]]\n"
          ],
          "name": "stdout"
        }
      ]
    },
    {
      "cell_type": "markdown",
      "metadata": {
        "id": "DClgnHseTWpy"
      },
      "source": [
        "##**SUMMARY PREDICTION ON TEST**"
      ]
    },
    {
      "cell_type": "markdown",
      "metadata": {
        "id": "yF4Rk3zgivJw"
      },
      "source": [
        "###**w Avg Vectors**"
      ]
    },
    {
      "cell_type": "code",
      "metadata": {
        "colab": {
          "base_uri": "https://localhost:8080/"
        },
        "id": "OvuDRIhVSNOS",
        "outputId": "a9ba8f80-14df-4914-e35b-cbae9d3c9faa"
      },
      "source": [
        "#FULL DATA\n",
        "print(\"FULL DATA\")\n",
        "print(\"-------------------\")\n",
        "pred_lr_full = best_lr_full.predict(X_test_vec)\n",
        "scores(y_test, pred_lr_full)\n",
        "print(\"==========================================\")\n",
        "\n",
        "#FULL EMOJIS WITH NO REPEATS\n",
        "print(\" \")\n",
        "print(\"FULL NO REPEATS\")\n",
        "print(\"-------------------\")\n",
        "pred_lr_mul = best_lr_mul.predict(X_test_mul_vec)\n",
        "scores(y_mul_test, pred_lr_mul)\n",
        "print(\"==========================================\")\n",
        "\n",
        "#SINGLE EMOJI\n",
        "print(\" \")\n",
        "print(\"SINGLE EMOJI ONLY\")\n",
        "print(\"-------------------\")\n",
        "pred_lr_sing = best_lr_sing.predict(X_test_sing_vec)\n",
        "scores(y_sing_test, pred_lr_sing)\n",
        "print(\"==========================================\")\n",
        "\n",
        "#MULTI EMOJIS WITH REPEATS\n",
        "print(\" \")\n",
        "print(\"MULTI EMOJIS ONLY WITH REPEATS\")\n",
        "print(\"-------------------\")\n",
        "pred_lr_mul_repeat = best_lr_mul_repeat.predict(X_test_mul_repeat_vec)\n",
        "scores(y_mul_repeat_test, pred_lr_mul_repeat)\n",
        "\n",
        "\n"
      ],
      "execution_count": null,
      "outputs": [
        {
          "output_type": "stream",
          "text": [
            "FULL DATA\n",
            "-------------------\n",
            " ## F1 Score (weighted) is - 0.5245992385409034\n",
            " ## Accuracy is - 0.5245606128886886\n",
            "      \n",
            "               Confusion Matrix\n",
            "[[1184 1075]\n",
            " [1035 1144]]\n",
            "==========================================\n",
            " \n",
            "FULL NO REPEATS\n",
            "-------------------\n",
            " ## F1 Score (weighted) is - 0.5097595798975241\n",
            " ## Accuracy is - 0.509812767877284\n",
            "      \n",
            "               Confusion Matrix\n",
            "[[1156 1066]\n",
            " [1107 1104]]\n",
            "==========================================\n",
            " \n",
            "SINGLE EMOJI ONLY\n",
            "-------------------\n",
            " ## F1 Score (weighted) is - 0.4878466603498624\n",
            " ## Accuracy is - 0.4879060124395301\n",
            "      \n",
            "               Confusion Matrix\n",
            "[[1047 1157]\n",
            " [1066 1071]]\n",
            "==========================================\n",
            " \n",
            "MULTI EMOJIS ONLY WITH REPEATS\n",
            "-------------------\n",
            " ## F1 Score (weighted) is - 0.5193760638968085\n",
            " ## Accuracy is - 0.519375\n",
            "      \n",
            "               Confusion Matrix\n",
            "[[1238 1152]\n",
            " [1155 1255]]\n"
          ],
          "name": "stdout"
        }
      ]
    },
    {
      "cell_type": "markdown",
      "metadata": {
        "id": "IUmp6-rIi3ly"
      },
      "source": [
        "###**w Concat Vectors**"
      ]
    },
    {
      "cell_type": "code",
      "metadata": {
        "colab": {
          "base_uri": "https://localhost:8080/"
        },
        "id": "JtmqBLZzi3z4",
        "outputId": "ccc60f85-b402-42a4-edfd-26eada5dfe9e"
      },
      "source": [
        "#FULL DATA\n",
        "print(\"FULL DATA CONCAT\")\n",
        "print(\"-------------------\")\n",
        "pred_lr_full_concat = best_lr_full_concat.predict(X_test_vec_concat)\n",
        "scores(y_test, pred_lr_full_concat)\n",
        "print(\"==========================================\")\n",
        "\n",
        "#FULL EMOJIS WITH NO REPEATS\n",
        "print(\" \")\n",
        "print(\"FULL NO REPEATS CONCAT\")\n",
        "print(\"-------------------\")\n",
        "# pred_lr_mul = best_lr_mul.predict(X_test_mul_vec)\n",
        "# scores(y_mul_test, pred_lr_mul)\n",
        "pred_lr_mul_concat = best_lr_mul_concat.predict(X_test_mul_vec_concat)\n",
        "scores(y_mul_test, pred_lr_mul_concat)\n",
        "\n",
        "print(\"==========================================\")\n",
        "\n",
        "#SINGLE EMOJI\n",
        "print(\" \")\n",
        "print(\"SINGLE EMOJI ONLY CONCAT\")\n",
        "print(\"-------------------\")\n",
        "pred_lr_sing_concat = best_lr_sing_concat.predict(X_test_sing_vec_concat)\n",
        "scores(y_sing_test, pred_lr_sing_concat)\n",
        "print(\"==========================================\")\n",
        "\n",
        "#MULTI EMOJIS WITH REPEATS\n",
        "print(\" \")\n",
        "print(\"MULTI EMOJIS ONLY WITH REPEATS CONCAT\")\n",
        "print(\"-------------------\")\n",
        "pred_lr_mul_repeat_concat = best_lr_mul_repeat_concat.predict(X_test_mul_repeat_vec_concat)\n",
        "scores(y_mul_repeat_test, pred_lr_mul_repeat_concat)\n",
        "\n",
        "\n",
        "\n"
      ],
      "execution_count": null,
      "outputs": [
        {
          "output_type": "stream",
          "text": [
            "FULL DATA CONCAT\n",
            "-------------------\n",
            " ## F1 Score (weighted) is - 0.5200812782739727\n",
            " ## Accuracy is - 0.5200540784136999\n",
            "      \n",
            "               Confusion Matrix\n",
            "[[1185 1074]\n",
            " [1056 1123]]\n",
            "==========================================\n",
            " \n",
            "FULL NO REPEATS CONCAT\n",
            "-------------------\n",
            " ## F1 Score (weighted) is - 0.5153876281750626\n",
            " ## Accuracy is - 0.515452289645838\n",
            "      \n",
            "               Confusion Matrix\n",
            "[[1171 1051]\n",
            " [1097 1114]]\n",
            "==========================================\n",
            " \n",
            "SINGLE EMOJI ONLY CONCAT\n",
            "-------------------\n",
            " ## F1 Score (weighted) is - 0.49732795452647843\n",
            " ## Accuracy is - 0.4973508408200875\n",
            "      \n",
            "               Confusion Matrix\n",
            "[[1074 1130]\n",
            " [1052 1085]]\n",
            "==========================================\n",
            " \n",
            "MULTI EMOJIS ONLY WITH REPEATS CONCAT\n",
            "-------------------\n",
            " ## F1 Score (weighted) is - 0.5220614269787021\n",
            " ## Accuracy is - 0.5220833333333333\n",
            "      \n",
            "               Confusion Matrix\n",
            "[[1231 1159]\n",
            " [1135 1275]]\n"
          ],
          "name": "stdout"
        }
      ]
    },
    {
      "cell_type": "code",
      "metadata": {
        "id": "AJgMSkMCSNR4"
      },
      "source": [
        ""
      ],
      "execution_count": null,
      "outputs": []
    }
  ]
}